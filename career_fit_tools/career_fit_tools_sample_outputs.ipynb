{
 "cells": [
  {
   "cell_type": "markdown",
   "id": "8d7adb66",
   "metadata": {},
   "source": [
    "This notebook shows how to the functions:\n",
    "\n",
    "- extract_whether_qualified_indicators\n",
    "- *name of function(s) that takes a bunch of postings, uses the above function to extract indicators of what the company wants, and then makes the 'trees of skills' and then allows you do analytics on the trees of skills'* \n",
    "\n",
    "There are the tools developed to help people understand ways their skillset are suited for various jobs, as opposed to the infrastructure in *directory_name*, used to expedite the training of these models."
   ]
  },
  {
   "cell_type": "code",
   "execution_count": 1,
   "id": "2c17770e",
   "metadata": {},
   "outputs": [],
   "source": [
    "import os \n",
    "import sys"
   ]
  },
  {
   "cell_type": "code",
   "execution_count": 2,
   "id": "1feac4b7",
   "metadata": {},
   "outputs": [],
   "source": [
    "path_to_root_dir = os.environ.get('PATH2PARSE_JOBS_DIR')\n",
    "sys.path.append(path_to_root_dir)"
   ]
  },
  {
   "cell_type": "code",
   "execution_count": 3,
   "id": "05ae02a6",
   "metadata": {},
   "outputs": [],
   "source": [
    "import json\n",
    "from career_fit_tools.job_analytics_tools import get_if_qualified_indicators\n",
    "from career_fit_tools.get_if_qualified_indicators_helpers import get_symetric_diff\n"
   ]
  },
  {
   "cell_type": "code",
   "execution_count": 4,
   "id": "109de9e3",
   "metadata": {},
   "outputs": [],
   "source": [
    "f_name = \"C:\\\\Users\\jonat_od7omk3\\Desktop\\personal_projs\\data_science_ML\\parse_job_postings\\data\\sample_input_to_pipeline.json\"\n",
    "\n",
    "with open(f_name, 'r') as file:\n",
    "    sample_inputs = json.load(file)"
   ]
  },
  {
   "cell_type": "code",
   "execution_count": 5,
   "id": "7fb90646",
   "metadata": {
    "scrolled": false
   },
   "outputs": [
    {
     "name": "stdout",
     "output_type": "stream",
     "text": [
      "summary \n",
      "$ 53 - $ 63 per hour \n",
      "contract \n",
      "\u001b[35;5;9mbachelor\u001b[0m \u001b[33;5;9mdegree\u001b[0m \n",
      "category \n",
      "\u001b[35;5;9mcomputer\u001b[0m \u001b[33;5;9mand\u001b[0m \u001b[35;5;9mmathematical\u001b[0m \u001b[33;5;9moccupations\u001b[0m \n",
      "reference \n",
      "1016828 \n",
      "job summary : \n",
      "Description : \n",
      "\n",
      "Minimum Qualifications \n",
      "\n",
      "\u001b[35;5;9mMaster\u001b[0m \u001b[35;5;9m'\u001b[0m \u001b[35;5;9ms\u001b[0m \u001b[33;5;9mdegree\u001b[0m in \u001b[35;5;9mstatistics\u001b[0m , \u001b[35;5;9meconomics\u001b[0m , \u001b[35;5;9moperations\u001b[0m \u001b[33;5;9mresearch\u001b[0m , \u001b[35;5;9mengineering\u001b[0m , or related field \n",
      "\u001b[35;5;9mMarketing\u001b[0m \u001b[33;5;9mmix\u001b[0m \u001b[35;5;9mmodeling\u001b[0m \u001b[33;5;9mindustry\u001b[0m experience \n",
      "8 + years of industry experience in \u001b[35;5;9mdata\u001b[0m \u001b[33;5;9mscience\u001b[0m , \u001b[35;5;9mmeasurement\u001b[0m , \u001b[35;5;9mmarketing\u001b[0m \u001b[33;5;9mstrategy\u001b[0m & \u001b[35;5;9manalytics\u001b[0m \n",
      "communication skills to ' tell a story ' that provides insight into the business \n",
      "Proficient \u001b[35;5;9mcoding\u001b[0m skills ( \u001b[35;5;9mSQL\u001b[0m \u001b[35;5;9m/\u001b[0m \u001b[35;5;9mPython\u001b[0m \u001b[35;5;9m/\u001b[0m \u001b[35;5;9mR\u001b[0m ) and \u001b[35;5;9mdatabase\u001b[0m knowledge \n",
      "Extensive experience with \u001b[35;5;9mpredictive\u001b[0m \u001b[33;5;9mmodeling\u001b[0m \u001b[33;5;9malgorithms\u001b[0m \n",
      "project \u001b[33;5;9mmanagement\u001b[0m skills , including managing technical resources and multiple priorities & milestones . \n",
      "You have a passion for working in a fast - paced \u001b[35;5;9magile\u001b[0m environment . \n",
      "A collaborative mindset and sense of curiosity \n",
      "Preferred Qualifications \n",
      "\n",
      "\u001b[35;5;9mPhD\u001b[0m \u001b[33;5;9mdegree\u001b[0m \u001b[33;5;9min\u001b[0m \u001b[33;5;9mStatistics\u001b[0m \u001b[33;5;9m,\u001b[0m \u001b[35;5;9mEconomics\u001b[0m , \u001b[35;5;9mOperations\u001b[0m \u001b[33;5;9mResearch\u001b[0m , or related field \n",
      "Experienced in building market mix and \u001b[35;5;9mmulti\u001b[0m \u001b[35;5;9m-\u001b[0m \u001b[35;5;9mtouch\u001b[0m \u001b[33;5;9mattribution\u001b[0m \u001b[33;5;9mmodels\u001b[0m \n",
      "Experience with \u001b[35;5;9madvertising\u001b[0m , \u001b[35;5;9mmeasurement\u001b[0m , and / or \u001b[35;5;9mdigital\u001b[0m \u001b[33;5;9mmarketing\u001b[0m \u001b[33;5;9manalytics\u001b[0m \n",
      "Experience with \u001b[35;5;9madvertising\u001b[0m \u001b[33;5;9mtechnology\u001b[0m \u001b[33;5;9mplatforms\u001b[0m \u001b[35;5;9mAd\u001b[0m \u001b[33;5;9mservers\u001b[0m , \u001b[35;5;9mDSPs\u001b[0m , \u001b[35;5;9mDMPs\u001b[0m , etc . \n",
      "Advanced programming skills with experience of creating \u001b[35;5;9mPython\u001b[0m modules \n",
      "Experience with \u001b[35;5;9mA\u001b[0m \u001b[35;5;9m/\u001b[0m \u001b[35;5;9mB\u001b[0m and \u001b[35;5;9mMultivariate\u001b[0m \u001b[33;5;9mtest\u001b[0m \u001b[33;5;9mdesign\u001b[0m \u001b[33;5;9mand\u001b[0m \u001b[33;5;9mimplementation\u001b[0m \n",
      "location : San Bruno , California \n",
      "job type : Contract \n",
      "salary : $ 53 - 63 per hour \n",
      "work hours : 8am to 5pm \n",
      "\u001b[35;5;9meducation\u001b[0m : \u001b[35;5;9mBachelors\u001b[0m \n",
      "\n",
      "responsibilities : \n",
      "Perform hands - on \u001b[35;5;9mmodeling\u001b[0m and \u001b[35;5;9mcomplex\u001b[0m \u001b[33;5;9manalyses\u001b[0m using \u001b[35;5;9mPython\u001b[0m , \u001b[35;5;9mSQL\u001b[0m and / or \u001b[35;5;9mR\u001b[0m \n",
      "Build and enhance marketing mix \u001b[33;5;9mmodels\u001b[0m to connect the impact of marketing tactics and business short - term and long - term outcomes \n",
      "\n",
      "qualifications : \n",
      "Experience level : Experienced \n",
      "Minimum 8 years of experience \n",
      "\n",
      "\u001b[35;5;9mEducation\u001b[0m : \u001b[35;5;9mBachelors\u001b[0m \n",
      "\n",
      "skills : \n",
      "Modeling \n",
      "\u001b[35;5;9mPython\u001b[0m \n",
      "\u001b[35;5;9mData\u001b[0m \u001b[33;5;9mScience\u001b[0m \n",
      "\n",
      "Equal Opportunity Employer : Race , Color , Religion , Sex , Sexual Orientation , Gender Identity , National Origin , Age , Genetic \u001b[33;5;9mInformation\u001b[0m , Disability , \u001b[35;5;9mProtected\u001b[0m \u001b[33;5;9mVeteran\u001b[0m \u001b[33;5;9mStatus\u001b[0m , or any other legally protected group status . \n",
      "\n",
      "At Randstad , we welcome people of all abilities and want to ensure that our hiring and interview process meets the needs of all applicants .  If you require a reasonable accommodation to make your application or interview experience a great one , please contact HRsupport @ randstadusa . com . \n",
      "\n",
      "Pay offered to a successful candidate will be based on several factors including the candidate ' s \u001b[33;5;9meducation\u001b[0m , work experience , work location , specific job duties , \u001b[35;5;9mcertifications\u001b[0m , etc .  In addition , Randstad offers a comprehensive benefits package , including health , an incentive and recognition program , and 401K contribution ( all benefits are based on eligibility ) . \n",
      "\n",
      "\n",
      "\n",
      "Qualified applicants in San Francisco with criminal histories will be considered for employment in accordance with the San Francisco Fair \u001b[33;5;9mChance\u001b[0m \u001b[33;5;9mOrdinance\u001b[0m . \n",
      "\n",
      "We will consider for employment all qualified Applicants , including those with criminal histories , in a manner consistent with the requirements of applicable state and local laws , including the City of Los Angeles ' Fair Chance Initiative for Hiring \u001b[33;5;9mOrdinance\u001b[0m . \n",
      "\n",
      "\n",
      "For certain assignments , \u001b[35;5;9mCovid\u001b[0m \u001b[35;5;9m-\u001b[0m \u001b[35;5;9m19\u001b[0m vaccination and / or \u001b[35;5;9mtesting\u001b[0m may be required by Randstad ' s client or applicable federal mandate , subject to approved medical or religious accommodations .  Carefully review the job posting for details on \u001b[35;5;9mvaccine\u001b[0m \u001b[33;5;9m/\u001b[0m \u001b[33;5;9mtesting\u001b[0m \u001b[33;5;9mrequirements\u001b[0m or ask your Randstad representative for more information . \n"
     ]
    }
   ],
   "source": [
    "# t_ents_w_s_class = get_if_qualified_indicators(sample_inputs[1], use_sentence_classifier = 1, print_descr_w_predictions = 1)\n",
    "t_ents_wo_s_class = get_if_qualified_indicators(sample_inputs[1], use_sentence_classifier = 0, print_descr_w_predictions = 1)"
   ]
  },
  {
   "cell_type": "code",
   "execution_count": 9,
   "id": "927cba7e",
   "metadata": {},
   "outputs": [
    {
     "name": "stdout",
     "output_type": "stream",
     "text": [
      "Elements only in list1: {'Protected Veteran Status education', 'Covid', 'education', 'agile', 'certifications Chance Ordinance Ordinance', 'Data Science Information', 'vaccine / testing requirements', 'predictive modeling algorithms management', '19', 'testing'}\n",
      "\n",
      "\n",
      "Elements only in list2: {'predictive modeling algorithms'}\n",
      "\n",
      "\n",
      "Symmetric difference: ['predictive modeling algorithms', 'Protected Veteran Status education', 'Covid', 'education', 'agile', 'certifications Chance Ordinance Ordinance', 'Data Science Information', 'vaccine / testing requirements', 'predictive modeling algorithms management', '19', 'testing']\n"
     ]
    }
   ],
   "source": [
    "sym_diff = get_symetric_diff(t_ents_wo_s_class, t_ents_w_s_class)"
   ]
  },
  {
   "cell_type": "markdown",
   "id": "e08ab362",
   "metadata": {},
   "source": [
    "**need to, at some point, (i) remove the descriptions in 'sample_inputs.json' from 'sample_job_descriptions.json' so that I do not overfit them, and (ii) put in filler for their 'job_ids', so that I do not by mistake add them back in, when re-querying the database**"
   ]
  },
  {
   "cell_type": "code",
   "execution_count": null,
   "id": "f31c28ce",
   "metadata": {},
   "outputs": [],
   "source": []
  }
 ],
 "metadata": {
  "kernelspec": {
   "display_name": "Python [conda env:hugging_face_practice]",
   "language": "python",
   "name": "conda-env-hugging_face_practice-py"
  },
  "language_info": {
   "codemirror_mode": {
    "name": "ipython",
    "version": 3
   },
   "file_extension": ".py",
   "mimetype": "text/x-python",
   "name": "python",
   "nbconvert_exporter": "python",
   "pygments_lexer": "ipython3",
   "version": "3.9.16"
  }
 },
 "nbformat": 4,
 "nbformat_minor": 5
}
