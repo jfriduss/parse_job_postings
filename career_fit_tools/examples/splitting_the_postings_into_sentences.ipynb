{
 "cells": [
  {
   "cell_type": "markdown",
   "id": "9612abb9",
   "metadata": {},
   "source": [
    "## Splitting the job postings into sentences/bullets"
   ]
  },
  {
   "cell_type": "markdown",
   "id": "27c20041",
   "metadata": {},
   "source": [
    "The first step in the skill extractor pipeline is breaking the job ad into sentences/bullets. These sentences are fed into the sentence classification model classifies, and are classified according to whether or not the model predicts they have words/phrases that the model should extract.\n",
    "\n",
    "\n",
    "This notebook discusses how the function that breaks the job ad into sentences works, and the decisions that were made in creating the function. \n",
    "\n",
    "\n",
    "First, the job postings are imported from the database on the MySQL community server, into python. "
   ]
  },
  {
   "cell_type": "code",
   "execution_count": 1,
   "id": "4f31f05d",
   "metadata": {},
   "outputs": [],
   "source": [
    "import os \n",
    "import sys"
   ]
  },
  {
   "cell_type": "code",
   "execution_count": 2,
   "id": "1fc7bd5c",
   "metadata": {},
   "outputs": [],
   "source": [
    "path_to_root_dir = os.environ.get('PATH2PARSE_JOBS_DIR')\n",
    "sys.path.append(path_to_root_dir)"
   ]
  },
  {
   "cell_type": "code",
   "execution_count": 3,
   "id": "8f6fb7b5",
   "metadata": {},
   "outputs": [],
   "source": [
    "from career_fit_tools.misc_code.data_retrieval import table_to_df, q_all\n",
    "from career_fit_tools.misc_code.text_partitioning import partition_string, create_helper\n",
    "from career_fit_tools.misc_code.text_partitioning import reconstruct_description"
   ]
  },
  {
   "cell_type": "code",
   "execution_count": 4,
   "id": "fc148edd",
   "metadata": {},
   "outputs": [],
   "source": [
    "pw = os.environ.get('DB_PASS')"
   ]
  },
  {
   "cell_type": "code",
   "execution_count": 3,
   "id": "241183f2",
   "metadata": {},
   "outputs": [],
   "source": [
    "j_ttls_searched = ['s_ml', 's_data_sci', 's_physics','s_fpga','s_emb_sys', 's_comp_chem', 's_electr', \n",
    "        's_soft_eng']\n",
    "\n",
    "all_cols = ['job_id', 'loc_searched_city', 'actual_city', 'loc_searched_state', \n",
    "            *j_ttls_searched, 'title', 'descr','salary','date']"
   ]
  },
  {
   "cell_type": "code",
   "execution_count": 4,
   "id": "5d873468",
   "metadata": {},
   "outputs": [
    {
     "name": "stdout",
     "output_type": "stream",
     "text": [
      "MySQL Database connection successful\n"
     ]
    }
   ],
   "source": [
    "db_name = 'jobs_db'\n",
    "table_name = 'jobs_tbl_v2'\n",
    "\n",
    "df = table_to_df(db_name, pw, q_all(table_name), all_cols)"
   ]
  },
  {
   "cell_type": "code",
   "execution_count": 5,
   "id": "0c781838",
   "metadata": {},
   "outputs": [
    {
     "data": {
      "text/html": [
       "<div>\n",
       "<style scoped>\n",
       "    .dataframe tbody tr th:only-of-type {\n",
       "        vertical-align: middle;\n",
       "    }\n",
       "\n",
       "    .dataframe tbody tr th {\n",
       "        vertical-align: top;\n",
       "    }\n",
       "\n",
       "    .dataframe thead th {\n",
       "        text-align: right;\n",
       "    }\n",
       "</style>\n",
       "<table border=\"1\" class=\"dataframe\">\n",
       "  <thead>\n",
       "    <tr style=\"text-align: right;\">\n",
       "      <th></th>\n",
       "      <th>job_id</th>\n",
       "      <th>loc_searched_city</th>\n",
       "      <th>actual_city</th>\n",
       "      <th>loc_searched_state</th>\n",
       "      <th>s_ml</th>\n",
       "      <th>s_data_sci</th>\n",
       "      <th>s_physics</th>\n",
       "      <th>s_fpga</th>\n",
       "      <th>s_emb_sys</th>\n",
       "      <th>s_comp_chem</th>\n",
       "      <th>s_electr</th>\n",
       "      <th>s_soft_eng</th>\n",
       "      <th>title</th>\n",
       "      <th>descr</th>\n",
       "      <th>salary</th>\n",
       "      <th>date</th>\n",
       "    </tr>\n",
       "  </thead>\n",
       "  <tbody>\n",
       "    <tr>\n",
       "      <th>0</th>\n",
       "      <td>1</td>\n",
       "      <td>san_francisco</td>\n",
       "      <td>cupertino</td>\n",
       "      <td>ca</td>\n",
       "      <td>1</td>\n",
       "      <td>0</td>\n",
       "      <td>0</td>\n",
       "      <td>0</td>\n",
       "      <td>0</td>\n",
       "      <td>0</td>\n",
       "      <td>0</td>\n",
       "      <td>0</td>\n",
       "      <td>Apple Engineering Opportunities</td>\n",
       "      <td>Summary\\nPosted: Mar 3, 2020\\nRole Number:2001...</td>\n",
       "      <td>na</td>\n",
       "      <td>2023-06-23</td>\n",
       "    </tr>\n",
       "    <tr>\n",
       "      <th>1</th>\n",
       "      <td>2</td>\n",
       "      <td>san_francisco</td>\n",
       "      <td>cupertino</td>\n",
       "      <td>ca</td>\n",
       "      <td>1</td>\n",
       "      <td>0</td>\n",
       "      <td>0</td>\n",
       "      <td>0</td>\n",
       "      <td>0</td>\n",
       "      <td>0</td>\n",
       "      <td>0</td>\n",
       "      <td>0</td>\n",
       "      <td>Machine Learning Research Engineer (Text Recog...</td>\n",
       "      <td>Summary\\nPosted: Jul 19, 2022\\nWeekly Hours: 4...</td>\n",
       "      <td>na</td>\n",
       "      <td>2023-06-23</td>\n",
       "    </tr>\n",
       "    <tr>\n",
       "      <th>2</th>\n",
       "      <td>3</td>\n",
       "      <td>san_francisco</td>\n",
       "      <td>cupertino</td>\n",
       "      <td>ca</td>\n",
       "      <td>1</td>\n",
       "      <td>0</td>\n",
       "      <td>0</td>\n",
       "      <td>0</td>\n",
       "      <td>0</td>\n",
       "      <td>0</td>\n",
       "      <td>0</td>\n",
       "      <td>0</td>\n",
       "      <td>HID Algorithms Engineer</td>\n",
       "      <td>Summary\\nPosted: Mar 17, 2022\\nRole Number:200...</td>\n",
       "      <td>na</td>\n",
       "      <td>2023-06-23</td>\n",
       "    </tr>\n",
       "    <tr>\n",
       "      <th>3</th>\n",
       "      <td>4</td>\n",
       "      <td>san_francisco</td>\n",
       "      <td>sunnyvale</td>\n",
       "      <td>ca</td>\n",
       "      <td>1</td>\n",
       "      <td>0</td>\n",
       "      <td>0</td>\n",
       "      <td>0</td>\n",
       "      <td>0</td>\n",
       "      <td>0</td>\n",
       "      <td>0</td>\n",
       "      <td>0</td>\n",
       "      <td>Senior Software Engineer, Hardware/Software Co...</td>\n",
       "      <td>Minimum qualifications:\\nBachelor's degree in ...</td>\n",
       "      <td>na</td>\n",
       "      <td>2023-06-26</td>\n",
       "    </tr>\n",
       "    <tr>\n",
       "      <th>4</th>\n",
       "      <td>5</td>\n",
       "      <td>san_francisco</td>\n",
       "      <td>cupertino</td>\n",
       "      <td>ca</td>\n",
       "      <td>1</td>\n",
       "      <td>0</td>\n",
       "      <td>0</td>\n",
       "      <td>0</td>\n",
       "      <td>0</td>\n",
       "      <td>0</td>\n",
       "      <td>0</td>\n",
       "      <td>0</td>\n",
       "      <td>SoC Device Driver Engineer, Machine Learning A...</td>\n",
       "      <td>3+ years of non-internship professional softwa...</td>\n",
       "      <td>From $115,000 a year</td>\n",
       "      <td>2023-06-26</td>\n",
       "    </tr>\n",
       "  </tbody>\n",
       "</table>\n",
       "</div>"
      ],
      "text/plain": [
       "   job_id loc_searched_city actual_city loc_searched_state  s_ml  s_data_sci  \\\n",
       "0       1     san_francisco   cupertino                 ca     1           0   \n",
       "1       2     san_francisco   cupertino                 ca     1           0   \n",
       "2       3     san_francisco   cupertino                 ca     1           0   \n",
       "3       4     san_francisco   sunnyvale                 ca     1           0   \n",
       "4       5     san_francisco   cupertino                 ca     1           0   \n",
       "\n",
       "   s_physics  s_fpga  s_emb_sys  s_comp_chem  s_electr  s_soft_eng  \\\n",
       "0          0       0          0            0         0           0   \n",
       "1          0       0          0            0         0           0   \n",
       "2          0       0          0            0         0           0   \n",
       "3          0       0          0            0         0           0   \n",
       "4          0       0          0            0         0           0   \n",
       "\n",
       "                                               title  \\\n",
       "0                    Apple Engineering Opportunities   \n",
       "1  Machine Learning Research Engineer (Text Recog...   \n",
       "2                            HID Algorithms Engineer   \n",
       "3  Senior Software Engineer, Hardware/Software Co...   \n",
       "4  SoC Device Driver Engineer, Machine Learning A...   \n",
       "\n",
       "                                               descr                salary  \\\n",
       "0  Summary\\nPosted: Mar 3, 2020\\nRole Number:2001...                    na   \n",
       "1  Summary\\nPosted: Jul 19, 2022\\nWeekly Hours: 4...                    na   \n",
       "2  Summary\\nPosted: Mar 17, 2022\\nRole Number:200...                    na   \n",
       "3  Minimum qualifications:\\nBachelor's degree in ...                    na   \n",
       "4  3+ years of non-internship professional softwa...  From $115,000 a year   \n",
       "\n",
       "         date  \n",
       "0  2023-06-23  \n",
       "1  2023-06-23  \n",
       "2  2023-06-23  \n",
       "3  2023-06-26  \n",
       "4  2023-06-26  "
      ]
     },
     "execution_count": 5,
     "metadata": {},
     "output_type": "execute_result"
    }
   ],
   "source": [
    "df.head()"
   ]
  },
  {
   "cell_type": "markdown",
   "id": "0255e381",
   "metadata": {},
   "source": [
    "The challenge with creating this function is that the job postings use different syntactical conventions. For example, although most use the expected convention of a period and then a space, to denote the end of a sentence, some postings, such as the one below don't include a space after the period:"
   ]
  },
  {
   "cell_type": "code",
   "execution_count": 6,
   "id": "5e39f047",
   "metadata": {},
   "outputs": [
    {
     "data": {
      "text/plain": [
       "\"Responsibilities:Lead and manage a team of data engineers to design, develop, and maintain scalable data pipelines and infrastructure.Collaborate with cross-functional teams to gather data requirements, define data models, and ensure data quality and integrity throughout the system.Architect and implement robust ETL processes to ingest, transform, and store large volumes of data from various sources into a centralized data lake.Develop and optimize data warehouse solutions, including schema design, indexing strategies, and performance tuning.Stay up-to-date with emerging technologies and industry trends, continuously evaluating and implementing tools and frameworks to enhance the data engineering capabilities of the organization.Qualifications:Bachelor's degree in Computer Science, Engineering, or a related field.5+ years of professional experience in Data Engineering, with a proven track record of designing and implementing scalable data solutions.Strong proficiency in programming languages such as Python, with experience in building data pipelines and working with data processing frameworks like Apache Spark or Apache Flink.Expertise in SQL and experience with relational and NoSQL databases, designing schemas, and optimizing queries for performance.Familiarity with analytical BI tools such as Tableau, Looker, or Power BI, and experience in building data models for reporting and analytics purposes.Prior experience in a startup or fast-paced environment is highly desired, demonstrating adaptability, ownership, and an ability to thrive in a dynamic setting.Strong problem-solving skills and the ability to effectively communicate complex technical concepts to both technical and non-technical stakeholders.Experience with cloud platforms (e.g., AWS, Azure, or GCP) and their data services is a plus.Knowledge of machine learning concepts and frameworks (e.g., TensorFlow, PyTorch) is a bonus but not required.Demonstrated ability to lead and mentor a team, fostering a collaborative and high-performance culture.Job Type: Full-timeSalary: $150,543.61 - $200,698.36 per yearBenefits:401(k) matchingExperience level:4 yearsSchedule:Monday to FridayAbility to commute/relocate:San Francisco, CA 94103: Reliably commute or planning to relocate before starting work (Required)Application Question(s):How many years of work experience you have with Python (Programming Language)?*How many years of work experience you have with with SQL?Work Location: In personSpeak with the employer+91 9108229719\""
      ]
     },
     "execution_count": 6,
     "metadata": {},
     "output_type": "execute_result"
    }
   ],
   "source": [
    "df['descr'][13]"
   ]
  },
  {
   "cell_type": "markdown",
   "id": "e8fd3a4f",
   "metadata": {},
   "source": [
    "The initial philosophy was to try to handle all of these \"corner cases\", but this led to problems. For example, if the split into sentences function also splits at \"character-period-character\", so that the above ad is split into more than a single sentence, then words like \"e.g.\" and \"i.e.\" are also split on. This is undesirable, because, for example, the hope would be that the model would recognize that the phrases \"experience with relational database management systems, for example MySQL, SQLite, ...\" and \"experience with relational database management systems, e.g. MySQL, SQLite, ...\" have similar structure, and that is not possible if the latter sentence is split into \"experience with relational database management systems, e\" and \".g. MySQL, SQLite, ...\". \n",
    "\n",
    "For this reason, instead of trying to create a function that can split all job postings into sentences well, it was opted to create a function that can split most job postings well, and then detect the postings that are not split well, so that, if desired, those postings can be split into sentences manually by the user.\n",
    "\n",
    "The approach that was taken uses the following idea: intuitively, the ratio of length of the longest sentence of the sentence (determined by the number of characters in it) over the number of sentences that the posting is split into, should be less than a certain length (for the rest of the notebook, this quantity will be called Q). In other words, Q will be long if the posting isn't split well, because the posting is only split into one (or a few) chunks, and each of those chunks are longer than they should be. \n",
    "\n",
    "\n",
    "Based on the above, what was chosen is:\n",
    "- that the function splits the job descriptions on spaces that follow the punctuation marks '.', '!', and '?', as well as newline characters ('\\n'). \n",
    "- that the pipeline notifies the user to manually partition the job description, if Q is above a criteria\n",
    "\n",
    "To determine what criteria to use to mark a split into sentences as \"bad\", using the function to split the job descriptions described above, a histogram of the range of Q values was created: "
   ]
  },
  {
   "cell_type": "code",
   "execution_count": 7,
   "id": "124f1641",
   "metadata": {},
   "outputs": [],
   "source": [
    "l_sents = []\n",
    "for i in range(len(df['descr'])):\n",
    "    sents, helper = partition_string(df['descr'][i])\n",
    "    l_sents.append(sents)\n",
    "    \n",
    "n_sents_div_max_len_sents = []\n",
    "\n",
    "for sents in l_sents:\n",
    "    l_s = [len(s) for s in sents]\n",
    "    n_sents_div_max_len_sents.append(max(l_s) / len(sents) ) "
   ]
  },
  {
   "cell_type": "code",
   "execution_count": 8,
   "id": "aa1ad159",
   "metadata": {},
   "outputs": [
    {
     "data": {
      "text/plain": [
       "2517.0"
      ]
     },
     "execution_count": 8,
     "metadata": {},
     "output_type": "execute_result"
    }
   ],
   "source": [
    "#looking at Q for the 13th job posting:\n",
    "n_sents_div_max_len_sents[13]"
   ]
  },
  {
   "cell_type": "code",
   "execution_count": 9,
   "id": "b2fcf206",
   "metadata": {},
   "outputs": [
    {
     "data": {
      "image/png": "[encoded data removed]",
      "text/plain": [
       "<Figure size 640x480 with 1 Axes>"
      ]
     },
     "metadata": {},
     "output_type": "display_data"
    }
   ],
   "source": [
    "import matplotlib.pyplot as plt\n",
    "\n",
    "plt.hist(n_sents_div_max_len_sents, bins = 100, range = [0, 25])\n",
    "plt.title('Number of job postings whose Q falls within a given range')\n",
    "plt.xlabel('number of jobs postings')\n",
    "plt.ylabel('Q = (length of largest sentence) /\\n number of sentences ')\n",
    "plt.show()"
   ]
  },
  {
   "cell_type": "markdown",
   "id": "2c4b0ea6",
   "metadata": {},
   "source": [
    "Based on the above, as well as looking at the ads with Q<20 versus those with Q>20, a choice of Q = 20 was chosen as the cutoff.\n",
    "\n",
    "In the future, it would be fun to train a model (likely a Longformer model/one that can handle longer text) to do this step in the process, but the above approach is adequate for now: 94% of the job postings are split adequately (see below)."
   ]
  },
  {
   "cell_type": "code",
   "execution_count": 10,
   "id": "9fe89198",
   "metadata": {},
   "outputs": [
    {
     "data": {
      "text/plain": [
       "0.06048053024026512"
      ]
     },
     "execution_count": 10,
     "metadata": {},
     "output_type": "execute_result"
    }
   ],
   "source": [
    "split_badly = []\n",
    "i = 0\n",
    "for n in n_sents_div_max_len_sents:\n",
    "    if (n > 20):\n",
    "        split_badly.append(i)\n",
    "    i += 1\n",
    "    \n",
    "len(split_badly)/len(l_sents)"
   ]
  },
  {
   "cell_type": "markdown",
   "id": "2c773389",
   "metadata": {},
   "source": [
    "## Reconstructing the job posting from the list of sentences and the 'helper' string"
   ]
  },
  {
   "cell_type": "markdown",
   "id": "ba900148",
   "metadata": {},
   "source": [
    "A nice way of demonstrating what the pipeline does is by input a job posting into it, having the pipeline extract skills/qualifications, and then printing the job posting, except with the skills/qualifications highlighted. This requires an \"inverse function\" that takes the list of sentences, and outputs the original posting.\n",
    "\n",
    "The slight difficulty with this is that the function that partitions the job ad into sentences uses the Python regular expression package, \"re\". It does not store the characters that the strings are split on. To address this, the \"partition the job ads\" function also creates a helper string. With this string, and the list of sentences, the posting can be reconstructed. See below for an example of what the helper string looks like:"
   ]
  },
  {
   "cell_type": "code",
   "execution_count": 11,
   "id": "596fff9e",
   "metadata": {},
   "outputs": [
    {
     "data": {
      "text/plain": [
       "'[1]\\n[2]\\n[3]\\n[4] [5] [6] [7] [8] [9] [10]\\n[11]\\n[12] [13] [14]\\n[15]\\n[16]\\n[17] [18] [19] [20] [21] [22] [23] [24] [25]\\n[26]\\n[27]\\n[28]\\n[29]'"
      ]
     },
     "execution_count": 11,
     "metadata": {},
     "output_type": "execute_result"
    }
   ],
   "source": [
    "sentences0, helper0 = partition_string(df['descr'][0])\n",
    "helper0"
   ]
  },
  {
   "cell_type": "markdown",
   "id": "908f8bd4",
   "metadata": {},
   "source": [
    "To see that the list of sentences combined with the helper string allows for the posting to be reconstructed (most of the time), the following loop is run:"
   ]
  },
  {
   "cell_type": "code",
   "execution_count": 12,
   "id": "122b30d2",
   "metadata": {},
   "outputs": [
    {
     "name": "stdout",
     "output_type": "stream",
     "text": [
      "97\n",
      "178\n",
      "267\n",
      "290\n",
      "431\n"
     ]
    }
   ],
   "source": [
    "for i in range(len(df['descr'])):\n",
    "    s, helper = partition_string(df['descr'][i])\n",
    "    if (reconstruct_description(s, helper) != df['descr'][i]):\n",
    "        print(i)"
   ]
  },
  {
   "cell_type": "markdown",
   "id": "f4ebb418",
   "metadata": {},
   "source": [
    "When these corner cases cases observed, it is apparent what the problem is. For example, one has the following in it \"\\n40\\n\", and so \\_\\_, **explain what the problem is**. Although a solution that, in all cases, works could be found, this approach is adequate for the purposes of the project."
   ]
  }
 ],
 "metadata": {
  "kernelspec": {
   "display_name": "Python [conda env:hugging_face_practice]",
   "language": "python",
   "name": "conda-env-hugging_face_practice-py"
  },
  "language_info": {
   "codemirror_mode": {
    "name": "ipython",
    "version": 3
   },
   "file_extension": ".py",
   "mimetype": "text/x-python",
   "name": "python",
   "nbconvert_exporter": "python",
   "pygments_lexer": "ipython3",
   "version": "3.9.16"
  }
 },
 "nbformat": 4,
 "nbformat_minor": 5
}
