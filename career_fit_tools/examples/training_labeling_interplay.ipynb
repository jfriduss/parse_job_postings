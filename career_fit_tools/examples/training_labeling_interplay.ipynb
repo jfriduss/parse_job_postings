{
 "cells": [
  {
   "cell_type": "markdown",
   "id": "2a2a978d",
   "metadata": {},
   "source": [
    "This notebook was created while fine tuning the sentence/token classification models, to show how the functions predict_and_label, autolabel, and update_tokens_label are used, in tandem with fine tuning the models, to expedite labelling of the data. **The overarching idea is that, as the models improve, it makes more sense to label data by having the model make predictions on the data, and then to correct the few predictions that are incorrect, than to assign labels to thousands of tokens by hand.**\n",
    "\n",
    "The models were fine tuned on 5 job descriptions prior to creating this notebook, so that less corrections to the labels had to be made at the outset."
   ]
  },
  {
   "cell_type": "code",
   "execution_count": 1,
   "id": "e66a15a4",
   "metadata": {},
   "outputs": [],
   "source": [
    "import os \n",
    "import sys"
   ]
  },
  {
   "cell_type": "code",
   "execution_count": 2,
   "id": "40e7cef3",
   "metadata": {},
   "outputs": [],
   "source": [
    "path_to_root_dir = os.environ.get('PATH2PARSE_JOBS_DIR')\n",
    "sys.path.append(path_to_root_dir)"
   ]
  },
  {
   "cell_type": "code",
   "execution_count": 3,
   "id": "c78c0a9b",
   "metadata": {},
   "outputs": [],
   "source": [
    "from career_fit_tools.training.labeling_helpers.predict_and_label import predict_and_label\n",
    "from career_fit_tools.misc_code.data_retrieval import open_json_safe, save_json_file\n",
    "\n",
    "from transformers import AutoModelForTokenClassification, AutoTokenizer\n",
    "\n",
    "from career_fit_tools.training.ft_sentence_classification_helpers import CustomModel\n",
    "from career_fit_tools.training.labeling_helpers.annotation_guideline_helpers import get_which_postings_are_labelled, \\\n",
    "    reconstruct_ad_w_bolded_skills, update_tokens_label\n",
    "\n",
    "from career_fit_tools.training.fine_tune import fine_tune\n",
    "from career_fit_tools.training.labeling_helpers.autolabel import autolabel\n"
   ]
  },
  {
   "cell_type": "markdown",
   "id": "58ff94e8",
   "metadata": {},
   "source": [
    "**Uploading the list of job description dictionaries:**"
   ]
  },
  {
   "cell_type": "code",
   "execution_count": 2,
   "id": "df156cdb",
   "metadata": {},
   "outputs": [
    {
     "name": "stdout",
     "output_type": "stream",
     "text": [
      "When you run this function, you might overwrite the data in the data structure in python that you are labelling. Are you sure you want to run it? (y/n): y\n"
     ]
    }
   ],
   "source": [
    "f_name = 'sample_job_descriptions.json'\n",
    "data = open_json_safe(f_name)"
   ]
  },
  {
   "cell_type": "code",
   "execution_count": 3,
   "id": "af03b0cd",
   "metadata": {},
   "outputs": [
    {
     "name": "stdout",
     "output_type": "stream",
     "text": [
      "The sentences in the job descriptions stored at indices [0, 10, 14, 15, 16] are all labelled.\n",
      "\n",
      "The sentences in the job descriptions stored at indices [0, 10, 14, 15, 16] have all their tokens labelled as well.\n"
     ]
    }
   ],
   "source": [
    "get_which_postings_are_labelled(data)"
   ]
  },
  {
   "cell_type": "markdown",
   "id": "2ab5038a",
   "metadata": {},
   "source": [
    "**Uploading the fine tuned sentence and token classification models:**"
   ]
  },
  {
   "cell_type": "code",
   "execution_count": 6,
   "id": "613f5a5b",
   "metadata": {
    "scrolled": true
   },
   "outputs": [
    {
     "name": "stderr",
     "output_type": "stream",
     "text": [
      "Some weights of the model checkpoint at has-abi/distilBERT-finetuned-resumes-sections were not used when initializing DistilBertModel: ['pre_classifier.weight', 'pre_classifier.bias', 'classifier.bias', 'classifier.weight']\n",
      "- This IS expected if you are initializing DistilBertModel from the checkpoint of a model trained on another task or with another architecture (e.g. initializing a BertForSequenceClassification model from a BertForPreTraining model).\n",
      "- This IS NOT expected if you are initializing DistilBertModel from the checkpoint of a model that you expect to be exactly identical (initializing a BertForSequenceClassification model from a BertForSequenceClassification model).\n"
     ]
    },
    {
     "data": {
      "application/vnd.jupyter.widget-view+json": {
       "model_id": "c6eec1e0e1e04f159e3916484950e80d",
       "version_major": 2,
       "version_minor": 0
      },
      "text/plain": [
       "Downloading (…)lve/main/config.json:   0%|          | 0.00/952 [00:00<?, ?B/s]"
      ]
     },
     "metadata": {},
     "output_type": "display_data"
    },
    {
     "name": "stderr",
     "output_type": "stream",
     "text": [
      "C:\\Users\\jonat_od7omk3\\anaconda3\\envs\\hugging_face_practice\\lib\\site-packages\\huggingface_hub-0.15.1-py3.8.egg\\huggingface_hub\\file_download.py:133: UserWarning: `huggingface_hub` cache-system uses symlinks by default to efficiently store duplicated files but your machine does not support them in C:\\Users\\jonat_od7omk3\\.cache\\huggingface\\hub. Caching files will still work but in a degraded version that might require more space on your disk. This warning can be disabled by setting the `HF_HUB_DISABLE_SYMLINKS_WARNING` environment variable. For more details, see https://huggingface.co/docs/huggingface_hub/how-to-cache#limitations.\n",
      "To support symlinks on Windows, you either need to activate Developer Mode or to run Python as an administrator. In order to see activate developer mode, see this article: https://docs.microsoft.com/en-us/windows/apps/get-started/enable-your-device-for-development\n"
     ]
    },
    {
     "data": {
      "application/vnd.jupyter.widget-view+json": {
       "model_id": "b02d6f3c35c74b9eb4ab31d814167e2e",
       "version_major": 2,
       "version_minor": 0
      },
      "text/plain": [
       "Downloading pytorch_model.bin:   0%|          | 0.00/431M [00:00<?, ?B/s]"
      ]
     },
     "metadata": {},
     "output_type": "display_data"
    },
    {
     "data": {
      "application/vnd.jupyter.widget-view+json": {
       "model_id": "fb7b87a51979444c877b141def6bfdbc",
       "version_major": 2,
       "version_minor": 0
      },
      "text/plain": [
       "Downloading (…)okenizer_config.json:   0%|          | 0.00/503 [00:00<?, ?B/s]"
      ]
     },
     "metadata": {},
     "output_type": "display_data"
    },
    {
     "data": {
      "application/vnd.jupyter.widget-view+json": {
       "model_id": "8e6fabc5dd3045baad03ae3048d41047",
       "version_major": 2,
       "version_minor": 0
      },
      "text/plain": [
       "Downloading (…)solve/main/vocab.txt:   0%|          | 0.00/213k [00:00<?, ?B/s]"
      ]
     },
     "metadata": {},
     "output_type": "display_data"
    },
    {
     "data": {
      "application/vnd.jupyter.widget-view+json": {
       "model_id": "53d0e4f5449b4ed5800ed2b281607788",
       "version_major": 2,
       "version_minor": 0
      },
      "text/plain": [
       "Downloading (…)/main/tokenizer.json:   0%|          | 0.00/669k [00:00<?, ?B/s]"
      ]
     },
     "metadata": {},
     "output_type": "display_data"
    },
    {
     "data": {
      "application/vnd.jupyter.widget-view+json": {
       "model_id": "28f23e6db4ce491c9ef64d1609e43200",
       "version_major": 2,
       "version_minor": 0
      },
      "text/plain": [
       "Downloading (…)cial_tokens_map.json:   0%|          | 0.00/125 [00:00<?, ?B/s]"
      ]
     },
     "metadata": {},
     "output_type": "display_data"
    }
   ],
   "source": [
    "#uploading the sentence classification model\n",
    "sentence_class_mod = CustomModel(\"has-abi/distilBERT-finetuned-resumes-sections\", num_labels = 2)\n",
    "\n",
    "p2model = \"./model_contents/hf\"\n",
    "f_lin = \"./model_contents/linear_layer_for_sent_classifier_fr_colab.pth\"\n",
    "\n",
    "#overwriting it with weights from the google colab\n",
    "sentence_class_mod.overwrite_w_trained_weights(p2model, f_lin)\n",
    "#uploading the sentence classification tokenizer\n",
    "sentence_class_tok = AutoTokenizer.from_pretrained(\"has-abi/distilBERT-finetuned-resumes-sections\")\n",
    "\n",
    "#uploading the token classification model and tokenizer\n",
    "token_class_mod = AutoModelForTokenClassification.from_pretrained(\"jfriduss/tok_train_info\")\n",
    "token_class_tok = AutoTokenizer.from_pretrained(\"jfriduss/tok_train_info\")"
   ]
  },
  {
   "cell_type": "markdown",
   "id": "2807c17a",
   "metadata": {},
   "source": [
    "**Labelling the 17th job posting in the list of dictionaries of postings, using 'predict_and_label'**"
   ]
  },
  {
   "cell_type": "code",
   "execution_count": 5,
   "id": "e58cf44b",
   "metadata": {},
   "outputs": [
    {
     "name": "stdout",
     "output_type": "stream",
     "text": [
      "Please open the file 'predictions_on_sentences.html' and then input a list with the indices of the sentences that were labelled incorrectly.[1,4,7,23]\n",
      "\n",
      "For this job description, the metrics on the sentence classifier are:\n",
      "\taccuracy: 0.8461538461538461\n",
      "\trecall: 0.9285714285714286\n",
      "Please open the file 'predictions_on_tokens.html' and then input a list of the words that were mislabelled.\n",
      "The list should be a list of of lists, with each sub list of the form [index_sentence, index_word, label].\n",
      "\t'index_sentence' is the index of the sentence of the mislabelled word,\n",
      "\t'index_word' is the index of the mislabelled word within the sentence, and \n",
      "\t'label' is either 0, 1 or 2, where \n",
      "\t\t0 <--> B <--> 'the beginning of a labelled entity', \n",
      "\t\t1 <--> I <--> 'a word that is within in a string of words that makes up a labelled entity', and \n",
      "\t\t2 <--> O <--> 'the word should not be labelled'.\n",
      "[[0, 7, 0],  [0, 9, 0],  [0, 10, 1],  [0, 12, 0],  [0, 17, 0],  [1, 14, 0],  [1, 15, 1],  [2, 25, 0],  [3, 15, 0],  [3, 16, 1],  [3, 18, 0],  [4, 27, 0],  [4, 28, 1],  [4, 32, 0],  [4, 39, 0],  [4, 40, 1],  [5, 15, 1],  [5, 31, 0],  [6, 24, 0],  [6, 29, 2],  [6, 32, 2],  [6, 33, 2],  [6, 36, 0],  [6, 40, 2],  [7, 25, 2],  [7, 26, 2],  [7, 28, 2],  [7, 29, 2],  [7, 30, 2],  [9, 3, 0],  [10, 2, 2],  [10, 3, 0],  [10, 8, 2],  [10, 9, 2],  [10, 18, 2],  [11, 4, 2],  [11, 5, 0],  [12, 9, 2],  [12, 10, 2],  [13, 6, 0],  [13, 7, 0],  [13, 8, 1],  [13, 10, 2],  [13, 11, 0],  [13, 23, 2],  [13, 24, 0],  [13, 27, 2],  [13, 36, 0],  [13, 37, 0],  [13, 38, 0]]\n",
      "\n",
      "For this job description, the metrics on the token classifier are:\n",
      "\taccuracy: 0.8943298969072165\n",
      "\trecall: 0.794392523364486\n"
     ]
    }
   ],
   "source": [
    "predict_and_label(data[17], sentence_class_mod, sentence_class_tok, token_class_mod, token_class_tok)"
   ]
  },
  {
   "cell_type": "markdown",
   "id": "2c4e17a5",
   "metadata": {},
   "source": [
    "**Two notes:**\n",
    "\n",
    "**What the 'predictions_on_sentences/tokens.html' files look like, how they relate to the lists that I input**\n",
    "\n",
    "(1) In the cell below this one, screenshots of a portion of the html files that contains the predictions that the sentence and token classification models make on the sentences/tokens in the posting. Note how, in the first html file, the first sentence is black, indicating the model predicted it does not contain any tokens to label. But it contains the general area of focus of the company, 'AI robotics', so by criterion 3 of the annotation guidelines, it does contain tokens to be annotated by the token classification model. Therefore, in the list above after \"Please open the file 'predictions_on_sentences.html' and then input a list with the indices of the sentences that were labelled incorrectly.\", it's index is in that list. The second list contains the analagous information about the predictions from the token classification model: [0,7,0] indicats that the 7th word in the 0th sentence in html document, should be labelled with a 'B' for 'beginning', instead of an 'O' for other.\n",
    "\n",
    "\n",
    "**About the metrics' output by the function after its predictions are corrected:** \n",
    "\n",
    "(2) After each classifiers predictions are corrected, the accuracy and recall of the classifier on this posting are output. Recall was chosen above other metrics, because, in this case, it is most important: false negatives are more detrimental to the projects goals compared to false positives, because they information that a prospective applicant would benefit from knowing about the position, that the applicant does not recieve. In contrast, false positive represent unnecissary information, which might be tedious to have, but does not detract from gauging whether the applicant is qualified for the position or not. Additionally, both metrics were calculated without accounting for if the model swapped the beginning label, 'B' and the inside label, 'I'--they only distinguish whether a 'B' or 'I' was mistaken for an 'O', or vis versa. This choice was made, because words labelled 'B' and 'I' are both extracted from the posting, whereas words labelled 'O' are not, and so what is most important is not confusing 'B/I' with 'O', or vis versa."
   ]
  },
  {
   "cell_type": "markdown",
   "id": "da9c6e9e",
   "metadata": {},
   "source": [
    "![sample predictions on sentences](./pictures/sample_predictions_on_sentences_html2.png)\n",
    "\n",
    "Above: Screenshot of a portion of the html file that contains the predictions that the sentence classification model made on the sentences in the posting.\n",
    "\n",
    "\n",
    "\n",
    "![sample predictions on tokens](./pictures/sample_predictions_on_tokens_html2.png)\n",
    "\n",
    "Above: Screenshot of a portion of the html file that contains the predictions that the token classification model made on the tokens in the posting.\n"
   ]
  },
  {
   "cell_type": "markdown",
   "id": "24ff1140",
   "metadata": {},
   "source": [
    "**Double checking that mistakes were not made while using predict_and_label, by outputting the now-labelled posting, with words colored according to label:**"
   ]
  },
  {
   "cell_type": "code",
   "execution_count": 8,
   "id": "42c43e81",
   "metadata": {
    "scrolled": true
   },
   "outputs": [
    {
     "name": "stdout",
     "output_type": "stream",
     "text": [
      "Founded in 2014 , Kindred is a \u001b[35;5;9mrobotics\u001b[0m and \u001b[35;5;9martificial\u001b[0m \u001b[33;5;9mintelligence\u001b[0m ( \u001b[35;5;9mAI\u001b[0m ) company that develops \u001b[35;5;9mrobots\u001b[0m to solve real - world problems .  Its mission is to enhance the lives of human workers with the power of \u001b[35;5;9mAI\u001b[0m \u001b[33;5;9mrobotics\u001b[0m .  Kindred ’ s cutting - edge technology is the foundation of a number of proprietary platforms , including CORE with [UNK] , developed to operate \u001b[35;5;9mrobots\u001b[0m autonomously in dynamic environments .  Its team of scientists , engineers and business operators have set a new standard for \u001b[35;5;9mreinforcement\u001b[0m \u001b[33;5;9mlearning\u001b[0m for \u001b[35;5;9mrobots\u001b[0m .  The company is co-located in San Francisco and Toronto and is part of the UK-based Ocado Group plc.\n",
      "As a Software Developer on the Software Product Engineering team , you will have the exciting opportunity to design , implement , and maintain cutting - edge \u001b[35;5;9msoftware\u001b[0m \u001b[33;5;9msolutions\u001b[0m , across multiple \u001b[35;5;9mcodebases\u001b[0m , that integrate \u001b[35;5;9mAI\u001b[0m with complex \u001b[35;5;9mhardware\u001b[0m \u001b[33;5;9mcomponents\u001b[0m within \u001b[35;5;9mrobotic\u001b[0m \u001b[33;5;9mpick\u001b[0m \u001b[33;5;9m-\u001b[0m \u001b[33;5;9mand\u001b[0m \u001b[33;5;9m-\u001b[0m \u001b[33;5;9mplace\u001b[0m \u001b[33;5;9msystems\u001b[0m .  You will navigate and reconcile considerations for immediate and future product needs, encompassing but not limited to scalability, maintainability, performance, reliability, security, safety, compliance, and robustness, even in situations where the requirements may be unclear or evolving. You’ll collaborate cross-functionally with roboticists, software and machine learning developers, hardware engineers, quality assurance, researchers, and product managers & support experts in Toronto and other offices. You ’ ll develop solutions in our lab , define \u001b[35;5;9mvalidation\u001b[0m \u001b[33;5;9mtesting\u001b[0m \u001b[33;5;9mroutines\u001b[0m , \u001b[35;5;9mcut\u001b[0m \u001b[33;5;9mreleases\u001b[0m , and deploy , monitor , RCA , and optimise them on our fleet of \u001b[35;5;9mrobots\u001b[0m .  In this role, you will be part of an on-call rotation in order to service our customers.\n",
      "What you bring:\n",
      "2 or more years of professional experience in \u001b[35;5;9msoftware\u001b[0m \u001b[33;5;9mdevelopment\u001b[0m , with a strong focus on designing and implementing scalable , high - performance \u001b[35;5;9msoftware\u001b[0m \u001b[33;5;9msolutions\u001b[0m and well - crafted \u001b[35;5;9mAPIs\u001b[0m on edge and \u001b[35;5;9mcloud\u001b[0m \u001b[35;5;9m-\u001b[0m \u001b[35;5;9mnative\u001b[0m \u001b[33;5;9marchitectures\u001b[0m , both greenfield and evolving \n",
      "Competency in \u001b[35;5;9mprogramming\u001b[0m \u001b[33;5;9mlanguages\u001b[0m such as \u001b[35;5;9mC\u001b[0m \u001b[35;5;9m+\u001b[0m \u001b[35;5;9m+\u001b[0m , \u001b[35;5;9mGo\u001b[0m , and \u001b[35;5;9mPython\u001b[0m , along with a good understanding of \u001b[35;5;9msoftware\u001b[0m \u001b[33;5;9mengineering\u001b[0m \u001b[33;5;9mprinciples\u001b[0m , design patterns , and best practices \n",
      "Excitement at the prospect of getting your hands dirty with a variety of technologies and tools , ranging from \u001b[35;5;9mlow\u001b[0m \u001b[35;5;9m-\u001b[0m \u001b[35;5;9mlevel\u001b[0m \u001b[33;5;9mhardware\u001b[0m \u001b[33;5;9mcommunication\u001b[0m \u001b[33;5;9mprotocols\u001b[0m to \u001b[35;5;9mcloud\u001b[0m \u001b[33;5;9minfrastructure\u001b[0m for \u001b[35;5;9mmachine\u001b[0m \u001b[33;5;9mlearning\u001b[0m \n",
      "Capacity to tackle varied challenges and adaptable to changing priorities, balancing a long-term mission with short-term requirements\n",
      "Value collaborative over individual ways of working and are comfortable being challenged by others\n",
      "Technical Skills:\n",
      "Ability to develop \u001b[35;5;9mcode\u001b[0m that is clear , efficient , and maintainable within time and resource constraints on \u001b[35;5;9mLinux\u001b[0m \n",
      "Exposure to modern \u001b[35;5;9msoftware\u001b[0m \u001b[33;5;9mdevelopment\u001b[0m \u001b[33;5;9mprocesses\u001b[0m such as design documentation , \u001b[35;5;9mcode\u001b[0m \u001b[33;5;9mreviews\u001b[0m , \u001b[35;5;9mCI\u001b[0m \u001b[35;5;9m/\u001b[0m \u001b[35;5;9mCD\u001b[0m , testing , \u001b[35;5;9mproject\u001b[0m \u001b[33;5;9mmanagement\u001b[0m \u001b[33;5;9mworkflow\u001b[0m , and \u001b[35;5;9msource\u001b[0m \u001b[33;5;9mcontrol\u001b[0m \u001b[33;5;9mconventions\u001b[0m \n",
      "Good analytical, problem-solving, communication, and organisation skills\n",
      "\u001b[35;5;9mBachelor\u001b[0m \u001b[35;5;9m'\u001b[0m \u001b[35;5;9ms\u001b[0m \u001b[33;5;9mdegree\u001b[0m in \u001b[35;5;9mComputer\u001b[0m \u001b[33;5;9mScience\u001b[0m or equivalent experience \n",
      "Bonus Qualifications:\n",
      "Additional breadth or depth of experience in \u001b[35;5;9mprogramming\u001b[0m \u001b[33;5;9mlanguages\u001b[0m and paradigms . \n",
      "Can learn fast, and are flexible working with different problem domains and projects\n",
      "Background in \u001b[35;5;9mrobotic\u001b[0m \u001b[33;5;9mmanipulation\u001b[0m , \u001b[35;5;9mlarge\u001b[0m \u001b[35;5;9m-\u001b[0m \u001b[35;5;9mscale\u001b[0m \u001b[33;5;9mdata\u001b[0m \u001b[33;5;9manalysis\u001b[0m / \u001b[35;5;9mvisualisation\u001b[0m \u001b[33;5;9mplatforms\u001b[0m , \u001b[35;5;9mlow\u001b[0m \u001b[35;5;9m-\u001b[0m \u001b[35;5;9mlevel\u001b[0m \u001b[33;5;9mdevice\u001b[0m \u001b[33;5;9mdriver\u001b[0m \u001b[33;5;9mdevelopment\u001b[0m , \u001b[35;5;9membedded\u001b[0m \u001b[33;5;9msystems\u001b[0m & \u001b[35;5;9mcommunication\u001b[0m \u001b[33;5;9mprotocols\u001b[0m , simulations , \u001b[35;5;9mfull\u001b[0m \u001b[35;5;9m-\u001b[0m \u001b[35;5;9mstack\u001b[0m \u001b[33;5;9mdevelopment\u001b[0m , \u001b[35;5;9mconcurrent\u001b[0m \u001b[35;5;9m/\u001b[0m \u001b[35;5;9mparallel\u001b[0m \u001b[35;5;9m/\u001b[0m \u001b[35;5;9mdistributed\u001b[0m \u001b[33;5;9msystems\u001b[0m , \u001b[35;5;9mmachine\u001b[0m \u001b[33;5;9mlearning\u001b[0m , and \u001b[35;5;9mcomputer\u001b[0m \u001b[33;5;9mvision\u001b[0m \n",
      "Even if you don’t know everything above, we still want to hear from you!\n"
     ]
    }
   ],
   "source": [
    "reconstruct_ad_w_bolded_skills(data[17], token_class_tok, 0)"
   ]
  },
  {
   "cell_type": "markdown",
   "id": "b1073c58",
   "metadata": {},
   "source": [
    "**Some discussion:**\n",
    "\n",
    "(1) Although the above looks correct, if there were an error (or few) made, the function 'update_token_label' in the annotation_guideline_helpers module, would be used to correct those errors. See the labelling of the next posting, for an example of this.\n",
    "\n",
    "(2) Although the annotation guidelines are moderately clear, it is challenging to determine whether some words, for example, 'RCA, and 'high-performance' (in 'high-performance computing) should, or should not, be annotated. The extent that the imperfections of the guidelines will serve an upper bound on the models performance will be explored in a future notebook, by either (i) annotating a few different ads, multiple times, on different days, or (ii) while annotating a few ads, keeping tract of the percentage of tokens whose label are unclear.\n",
    "\n",
    "**Now, saving the data structure with a newly labelled ad 17, and then annotating three to four more postings, before fine tuning the models again:**"
   ]
  },
  {
   "cell_type": "code",
   "execution_count": 9,
   "id": "6334de3e",
   "metadata": {},
   "outputs": [
    {
     "name": "stdout",
     "output_type": "stream",
     "text": [
      "Are you sure you want to save the json file? If you by mistake save it when you are just testing stuff it might be a pain to fix? (y/n): y\n"
     ]
    }
   ],
   "source": [
    "save_json_file(data, f_name)"
   ]
  },
  {
   "cell_type": "markdown",
   "id": "e202623e",
   "metadata": {},
   "source": [
    "*labelling the 18th ad in the list of dictionaries*"
   ]
  },
  {
   "cell_type": "code",
   "execution_count": 28,
   "id": "08206efd",
   "metadata": {},
   "outputs": [
    {
     "name": "stdout",
     "output_type": "stream",
     "text": [
      "Please open the file 'predictions_on_sentences.html' and then input a list with the indices of the sentences that were labelled incorrectly.[1,7,8,25,27,33]\n",
      "\n",
      "For this job description, the metrics on the sentence classifier are:\n",
      "\taccuracy: 0.875\n",
      "\trecall: 0.8695652173913043\n",
      "Please open the file 'predictions_on_tokens.html' and then input a list of the words that were mislabelled.\n",
      "The list should be a list of of lists, with each sub list of the form [index_sentence, index_word, label].\n",
      "\t'index_sentence' is the index of the sentence of the mislabelled word,\n",
      "\t'index_word' is the index of the mislabelled word within the sentence, and \n",
      "\t'label' is either 0, 1 or 2, where \n",
      "\t\t0 <--> B <--> 'the beginning of a labelled entity', \n",
      "\t\t1 <--> I <--> 'a word that is within in a string of words that makes up a labelled entity', and \n",
      "\t\t2 <--> O <--> 'the word should not be labelled'.\n",
      "[ [0, 23, 0],  [0, 24, 1],  [1, 10, 0],  [1, 11, 1],  [1, 12, 1],  [1, 13, 1],  [2, 24, 0],  [2, 25, 1],  [2, 28, 0],  [2, 31, 0],  [3, 25, 0],  [3, 27, 2],  [4, 25, 2],  [5, 32, 0],  [7, 4, 2],  [7, 11, 2],  [7, 12, 2],  [7, 15, 2],  [7, 17, 2],  [8, 14, 2],  [8, 15, 2],  [8, 18, 2],  [8, 19, 2],  [8, 22, 0],  [10, 0, 2],  [10, 1, 2],  [10, 2, 1],  [10, 4, 2],  [10, 5, 2],  [10, 6, 2],  [11, 11, 2],  [11, 12, 0],  [11, 19, 2],  [11, 20, 2],  [11, 22, 2],  [11, 23, 2],  [11, 32, 2],  [11, 33, 0],  [12, 6, 2],  [12, 8, 2],  [12, 9, 2],  [12, 10, 2],  [12, 11, 0],  [12, 17, 2],  [12, 18, 2],  [13, 20, 2],  [13, 21, 2],  [13, 23, 0],  [13, 25, 2],  [15, 0, 0],  [15, 1, 0],  [15, 2, 0],  [15, 3, 0],  [15, 7, 2],  [15, 8, 2],  [15, 21, 2],  [15, 30, 2],  [16, 5, 0],  [16, 6, 1],  [16, 11, 2],  [16, 12, 0],  [16, 14, 2],  [16, 15, 2],  [16, 16, 2],  [17, 5, 2],  [18, 4, 2],  [19, 2, 2],  [19, 4, 2],  [20, 10, 2],  [20, 11, 0],  [20, 15, 0],  [21, 6, 0],  [21, 7, 1] ]\n",
      "\n",
      "For this job description, the metrics on the token classifier are:\n",
      "\taccuracy: 0.8816029143897997\n",
      "\trecall: 0.8306451612903226\n"
     ]
    }
   ],
   "source": [
    "predict_and_label(data[18], sentence_class_mod, sentence_class_tok, token_class_mod, token_class_tok)"
   ]
  },
  {
   "cell_type": "markdown",
   "id": "57bbb7ab",
   "metadata": {},
   "source": [
    "*Checking whether or not mistakes were made when using predict_and_label*"
   ]
  },
  {
   "cell_type": "code",
   "execution_count": 29,
   "id": "700c7710",
   "metadata": {
    "scrolled": true
   },
   "outputs": [
    {
     "name": "stdout",
     "output_type": "stream",
     "text": [
      "Invitae ( NYSE : NVTA ) is a leading medical genetics company trusted by millions of patients and their providers to deliver timely \u001b[35;5;9mgenetic\u001b[0m \u001b[33;5;9minformation\u001b[0m using digital technology .  We aim to provide accurate and actionable answers to strengthen \u001b[35;5;9mmedical\u001b[0m \u001b[33;5;9mdecision\u001b[0m \u001b[33;5;9m-\u001b[0m \u001b[33;5;9mmaking\u001b[0m for individuals and their families .  Invitae ' s genetics experts apply a rigorous approach to data and research , serving as the foundation of their mission to bring comprehensive \u001b[35;5;9mgenetic\u001b[0m \u001b[33;5;9minformation\u001b[0m into mainstream \u001b[35;5;9mmedicine\u001b[0m to improve \u001b[35;5;9mhealthcare\u001b[0m for billions of people . \n",
      "We have an available opening in our CSI team for talented and motivated Computational Biologists with expertise developing \u001b[35;5;9mcomputational\u001b[0m \u001b[33;5;9mmethods\u001b[0m to analyze and model complex \u001b[35;5;9mbiological\u001b[0m \u001b[33;5;9mdatasets\u001b[0m and processes .  As a core member of this team , the primary responsibility of Computational Biologists is to contribute to the development and scalable deployment of diverse , \u001b[35;5;9mintegrated\u001b[0m \u001b[33;5;9mcomputational\u001b[0m \u001b[33;5;9msystems\u001b[0m that can provide key support for clinical interpretation of \u001b[35;5;9mgenetic\u001b[0m \u001b[33;5;9mtesting\u001b[0m \u001b[33;5;9mresults\u001b[0m .  The team is highly cross-functional and multi-disciplinary. You will work along - side genomic scientists , biophysicists , cellular engineers , data scientists , AI engineers , software engineers , genetic counselors , and medical geneticists to bring improved \u001b[35;5;9mhealthcare\u001b[0m to patients . \n",
      "\n",
      "Our team is committed to advancing the science and technology of genetic testing .  This commitment requires us to integrate and foster the knowledge and growth of diverse domain expertise in biological, computational, and clinical sciences. Your ability to apply advanced \u001b[35;5;9mquantitative\u001b[0m \u001b[33;5;9manalyses\u001b[0m in the understanding , quality control , and modeling of data from \u001b[35;5;9mfunctional\u001b[0m \u001b[33;5;9mgenomics\u001b[0m \u001b[33;5;9massays\u001b[0m , \u001b[35;5;9mcomputational\u001b[0m \u001b[33;5;9msimulations\u001b[0m , \u001b[35;5;9mclinical\u001b[0m \u001b[33;5;9mgenomics\u001b[0m , and other diverse types of \u001b[35;5;9mbiological\u001b[0m \u001b[33;5;9mdata\u001b[0m will help define state - of - the - art \u001b[35;5;9mgenetic\u001b[0m \u001b[33;5;9mtesting\u001b[0m . \n",
      "\n",
      "What you'll do:\n",
      "\n",
      "Design , develop , and validate advanced \u001b[35;5;9mcomputational\u001b[0m \u001b[33;5;9mmethods\u001b[0m and model \u001b[35;5;9mcomplex\u001b[0m \u001b[33;5;9mbiological\u001b[0m \u001b[33;5;9mprocesses\u001b[0m and datasets , including data from \u001b[35;5;9mlarge\u001b[0m \u001b[35;5;9m-\u001b[0m \u001b[35;5;9mscale\u001b[0m \u001b[33;5;9mmutational\u001b[0m \u001b[33;5;9manalyses\u001b[0m , \u001b[35;5;9mfunctional\u001b[0m \u001b[33;5;9mgenomics\u001b[0m \u001b[33;5;9massays\u001b[0m ( e . g .  \u001b[35;5;9msingle\u001b[0m \u001b[35;5;9m-\u001b[0m \u001b[35;5;9mcell\u001b[0m \u001b[33;5;9mRNA\u001b[0m \u001b[33;5;9m-\u001b[0m \u001b[33;5;9msequencing\u001b[0m \u001b[33;5;9m)\u001b[0m , \u001b[35;5;9mmolecular\u001b[0m ( e . g .  protein ) \u001b[33;5;9mstructures\u001b[0m \u001b[33;5;9m,\u001b[0m dynamics and complexes , \u001b[35;5;9mstatistical\u001b[0m \u001b[33;5;9mgenetics\u001b[0m \u001b[33;5;9mapproaches\u001b[0m and more . \n",
      "Develop , implement , and validate the application and use of modern \u001b[35;5;9mdata\u001b[0m \u001b[33;5;9mscience\u001b[0m \u001b[33;5;9mtechniques\u001b[0m – that build on principles of \u001b[35;5;9mstatistics\u001b[0m and methods for the \u001b[35;5;9mdesign\u001b[0m \u001b[33;5;9mof\u001b[0m \u001b[33;5;9mexperiments\u001b[0m – to allow rigorous \u001b[35;5;9mmodel\u001b[0m \u001b[33;5;9mevaluation\u001b[0m , \u001b[35;5;9muncertainty\u001b[0m \u001b[33;5;9mquantification\u001b[0m , \u001b[35;5;9mprediction\u001b[0m , and \u001b[35;5;9mdata\u001b[0m \u001b[33;5;9mgeneration\u001b[0m . \n",
      "Integrate advances in diverse fields of biological , computer , and \u001b[35;5;9mclinical\u001b[0m \u001b[33;5;9msciences\u001b[0m into \u001b[35;5;9mmodern\u001b[0m \u001b[33;5;9mcomputational\u001b[0m \u001b[33;5;9minfrastructure\u001b[0m and workflows . \n",
      "Work in a highly collaborative and cross - disciplinary team to deliver quantitative , mechanistic , and scalable support for clinical interpretation of \u001b[35;5;9mgenetic\u001b[0m \u001b[33;5;9mresults\u001b[0m . \n",
      "\n",
      "\n",
      "What you bring:\n",
      "\n",
      "\u001b[35;5;9mAdvanced\u001b[0m \u001b[33;5;9mdegree\u001b[0m ( e . g .  \u001b[35;5;9mPh\u001b[0m \u001b[35;5;9m.\u001b[0m \u001b[35;5;9mD\u001b[0m \u001b[35;5;9m.\u001b[0m ) in a quantitative discipline such as \u001b[35;5;9mComputational\u001b[0m \u001b[33;5;9mBiology\u001b[0m , \u001b[35;5;9mComputer\u001b[0m \u001b[33;5;9mScience\u001b[0m , \u001b[35;5;9mGenome\u001b[0m \u001b[33;5;9mSciences\u001b[0m , \u001b[35;5;9mBiophysics\u001b[0m / \u001b[35;5;9mPhysics\u001b[0m , \u001b[35;5;9mSystems\u001b[0m \u001b[33;5;9mBiology\u001b[0m , \u001b[35;5;9mBioinformatics\u001b[0m , \u001b[35;5;9mML\u001b[0m / \u001b[35;5;9mAI\u001b[0m or \u001b[35;5;9mMathematics\u001b[0m . \n",
      "Experience developing and implementing rigorous \u001b[35;5;9mcomputational\u001b[0m \u001b[33;5;9mmethods\u001b[0m and solutions to analyze complex \u001b[35;5;9mbiological\u001b[0m \u001b[33;5;9mdatasets\u001b[0m and processes .  Direct experience working with large datasets is ideal , such as \u001b[35;5;9mfunctional\u001b[0m \u001b[33;5;9mgenomics\u001b[0m ( e . g .  \u001b[35;5;9mscRNA\u001b[0m \u001b[35;5;9m-\u001b[0m \u001b[35;5;9mseq\u001b[0m \u001b[33;5;9mdata\u001b[0m ) , \u001b[35;5;9mbiophysics\u001b[0m ( e . g .  \u001b[35;5;9mmolecular\u001b[0m \u001b[33;5;9mdynamics\u001b[0m ) , OR \u001b[35;5;9mpopulation\u001b[0m \u001b[33;5;9mgenomics\u001b[0m . \n",
      "\n",
      "High proficiency in \u001b[35;5;9mscientific\u001b[0m \u001b[33;5;9mcomputing\u001b[0m , with strong knowledge of modern \u001b[35;5;9mdata\u001b[0m \u001b[33;5;9mscience\u001b[0m \u001b[33;5;9mtechniques\u001b[0m and \u001b[35;5;9mnumerical\u001b[0m \u001b[33;5;9mmethods\u001b[0m , and direct experience in \u001b[35;5;9malgorithm\u001b[0m \u001b[33;5;9mdevelopment\u001b[0m and \u001b[35;5;9mmachine\u001b[0m \u001b[33;5;9mlearning\u001b[0m .  Ability to work independently, design and conduct research, and to evaluate, interpret and present complex scientific data.\n",
      "\n",
      "Ability to work effectively in a highly cross-functional environment where collaboration across disciplines is a key component for team success.\n",
      "Excellent verbal and written communication and \u001b[35;5;9mpresentation\u001b[0m \u001b[33;5;9mskills\u001b[0m . \n",
      "Fluency in programming in \u001b[35;5;9mPython\u001b[0m , including familiarity with \u001b[35;5;9mpandas\u001b[0m , \u001b[35;5;9mnumpy\u001b[0m . \n",
      "\n",
      "\n",
      "At Invitae, we value diversity and provide equal employment opportunities (EEO) to all employees and applicants without regard to race, color, religion, national origin, gender, sexual orientation, age, marital status, veteran status, or disability status. We will consider for employment qualified applicants with criminal histories in a manner consistent with the requirements of the San Francisco Fair Chance Ordinance.\n",
      "This salary range is an estimate, and the actual salary may vary based on a wide range of factors, including your skills, qualifications, experience and location. This position is eligible for benefits including but not limited to medical, dental, vision, life insurance, disability coverage, flexible paid time off, Spring Health, Carrot Fertility, participation in a 401k with company match, ESPP, and many other additional voluntary benefits. Invitae also offers generous paid leave programs so you can spend time with your new child, recover from your own illness or care for a sick family member.\n",
      "USA National Pay Range\n",
      "$138,400—$173,000 USD\n",
      "Please apply even if you don't meet all of the \"What you bring\" requirements noted. It's rare that someone checks every single item, it's ok, we encourage you to apply anyways.\n",
      "\n",
      "Join us!\n",
      "\n",
      "At Invitae, we value diversity and provide equal employment opportunities (EEO) to all employees and applicants without regard to race, color, religion, national origin, gender, sexual orientation, age, marital status, veteran status, or disability status. We will consider for employment qualified applicants with criminal histories in a manner consistent with the requirements of the San Francisco Fair Chance Ordinance.\n",
      "\n",
      "We truly believe a diverse workplace is crucial to our company's success and to better serve our diverse patients. Your input is especially valuable. We'd greatly appreciate it if you can take a quick moment to make your selection(s) below. Submissions will be anonymous.\n",
      "\n",
      "You can find a detailed explanation of our privacy practices here.\n"
     ]
    }
   ],
   "source": [
    "reconstruct_ad_w_bolded_skills(data[18], token_class_tok, 0)"
   ]
  },
  {
   "cell_type": "markdown",
   "id": "de40580f",
   "metadata": {},
   "source": [
    "**Correcting a mistake after having labelled a posting:**\n",
    "\n",
    "When checking whether or not mistakes were made while using predict_and_label on the 18th ad in the list (above), I noticed that a mistake was made--in the first sentence of the second paragraph, 'genetic testing' should be annotating. Below, I show how to use the 'update_token_label' function, to correct this mistake.\n",
    "\n",
    "The 'update_token_label' function is used in a similar way as 'predict_and_label', except that, because the postings are for the most part already labelled correctly, the function outputs the html files with how the sentences/tokens are labelled, and the user indicates which labels should be changed (as opposed to requiring the model to make predictions on the sentences)."
   ]
  },
  {
   "cell_type": "code",
   "execution_count": 32,
   "id": "846fa06c",
   "metadata": {},
   "outputs": [
    {
     "name": "stdout",
     "output_type": "stream",
     "text": [
      "Please open the file 'sentences_w_current_labels.html' and then input a list with the indices of the sentences that are labelled incorrectly.[]\n",
      "Please open the file 'tokens_w_current_labels.html' and then input a list of the words that are mislabelled.\n",
      "The list should be a list of of lists, with each sub list of the form [index_sentence, index_word, label].\n",
      "\t'index_sentence' is the index of the sentence of the mislabelled word,\n",
      "\t'index_word' is the index of the mislabelled word within the sentence, and \n",
      "\t'label' is either 0, 1 or 2, where \n",
      "\t\t0 <--> B <--> 'the beginning of a labelled entity', \n",
      "\t\t1 <--> I <--> 'a word that is within in a string of words that makes up a labelled entity', and \n",
      "\t\t2 <--> O <--> 'the word should not be labelled'.\n",
      "[ [6,12,0], [6,13,1] ]\n"
     ]
    }
   ],
   "source": [
    "update_tokens_label(data[18], token_class_tok)"
   ]
  },
  {
   "cell_type": "code",
   "execution_count": 33,
   "id": "565e6cc7",
   "metadata": {
    "scrolled": true
   },
   "outputs": [
    {
     "name": "stdout",
     "output_type": "stream",
     "text": [
      "Invitae ( NYSE : NVTA ) is a leading medical genetics company trusted by millions of patients and their providers to deliver timely \u001b[35;5;9mgenetic\u001b[0m \u001b[33;5;9minformation\u001b[0m using digital technology .  We aim to provide accurate and actionable answers to strengthen \u001b[35;5;9mmedical\u001b[0m \u001b[33;5;9mdecision\u001b[0m \u001b[33;5;9m-\u001b[0m \u001b[33;5;9mmaking\u001b[0m for individuals and their families .  Invitae ' s genetics experts apply a rigorous approach to data and research , serving as the foundation of their mission to bring comprehensive \u001b[35;5;9mgenetic\u001b[0m \u001b[33;5;9minformation\u001b[0m into mainstream \u001b[35;5;9mmedicine\u001b[0m to improve \u001b[35;5;9mhealthcare\u001b[0m for billions of people . \n",
      "We have an available opening in our CSI team for talented and motivated Computational Biologists with expertise developing \u001b[35;5;9mcomputational\u001b[0m \u001b[33;5;9mmethods\u001b[0m to analyze and model complex \u001b[35;5;9mbiological\u001b[0m \u001b[33;5;9mdatasets\u001b[0m and processes .  As a core member of this team , the primary responsibility of Computational Biologists is to contribute to the development and scalable deployment of diverse , \u001b[35;5;9mintegrated\u001b[0m \u001b[33;5;9mcomputational\u001b[0m \u001b[33;5;9msystems\u001b[0m that can provide key support for clinical interpretation of \u001b[35;5;9mgenetic\u001b[0m \u001b[33;5;9mtesting\u001b[0m \u001b[33;5;9mresults\u001b[0m .  The team is highly cross-functional and multi-disciplinary. You will work along - side genomic scientists , biophysicists , cellular engineers , data scientists , AI engineers , software engineers , genetic counselors , and medical geneticists to bring improved \u001b[35;5;9mhealthcare\u001b[0m to patients . \n",
      "\n",
      "Our team is committed to advancing the science and technology of \u001b[35;5;9mgenetic\u001b[0m \u001b[33;5;9mtesting\u001b[0m .  This commitment requires us to integrate and foster the knowledge and growth of diverse domain expertise in biological, computational, and clinical sciences. Your ability to apply advanced \u001b[35;5;9mquantitative\u001b[0m \u001b[33;5;9manalyses\u001b[0m in the understanding , quality control , and modeling of data from \u001b[35;5;9mfunctional\u001b[0m \u001b[33;5;9mgenomics\u001b[0m \u001b[33;5;9massays\u001b[0m , \u001b[35;5;9mcomputational\u001b[0m \u001b[33;5;9msimulations\u001b[0m , \u001b[35;5;9mclinical\u001b[0m \u001b[33;5;9mgenomics\u001b[0m , and other diverse types of \u001b[35;5;9mbiological\u001b[0m \u001b[33;5;9mdata\u001b[0m will help define state - of - the - art \u001b[35;5;9mgenetic\u001b[0m \u001b[33;5;9mtesting\u001b[0m . \n",
      "\n",
      "What you'll do:\n",
      "\n",
      "Design , develop , and validate advanced \u001b[35;5;9mcomputational\u001b[0m \u001b[33;5;9mmethods\u001b[0m and model \u001b[35;5;9mcomplex\u001b[0m \u001b[33;5;9mbiological\u001b[0m \u001b[33;5;9mprocesses\u001b[0m and datasets , including data from \u001b[35;5;9mlarge\u001b[0m \u001b[35;5;9m-\u001b[0m \u001b[35;5;9mscale\u001b[0m \u001b[33;5;9mmutational\u001b[0m \u001b[33;5;9manalyses\u001b[0m , \u001b[35;5;9mfunctional\u001b[0m \u001b[33;5;9mgenomics\u001b[0m \u001b[33;5;9massays\u001b[0m ( e . g .  \u001b[35;5;9msingle\u001b[0m \u001b[35;5;9m-\u001b[0m \u001b[35;5;9mcell\u001b[0m \u001b[33;5;9mRNA\u001b[0m \u001b[33;5;9m-\u001b[0m \u001b[33;5;9msequencing\u001b[0m \u001b[33;5;9m)\u001b[0m , \u001b[35;5;9mmolecular\u001b[0m ( e . g .  protein ) \u001b[33;5;9mstructures\u001b[0m \u001b[33;5;9m,\u001b[0m dynamics and complexes , \u001b[35;5;9mstatistical\u001b[0m \u001b[33;5;9mgenetics\u001b[0m \u001b[33;5;9mapproaches\u001b[0m and more . \n",
      "Develop , implement , and validate the application and use of modern \u001b[35;5;9mdata\u001b[0m \u001b[33;5;9mscience\u001b[0m \u001b[33;5;9mtechniques\u001b[0m – that build on principles of \u001b[35;5;9mstatistics\u001b[0m and methods for the \u001b[35;5;9mdesign\u001b[0m \u001b[33;5;9mof\u001b[0m \u001b[33;5;9mexperiments\u001b[0m – to allow rigorous \u001b[35;5;9mmodel\u001b[0m \u001b[33;5;9mevaluation\u001b[0m , \u001b[35;5;9muncertainty\u001b[0m \u001b[33;5;9mquantification\u001b[0m , \u001b[35;5;9mprediction\u001b[0m , and \u001b[35;5;9mdata\u001b[0m \u001b[33;5;9mgeneration\u001b[0m . \n",
      "Integrate advances in diverse fields of biological , computer , and \u001b[35;5;9mclinical\u001b[0m \u001b[33;5;9msciences\u001b[0m into \u001b[35;5;9mmodern\u001b[0m \u001b[33;5;9mcomputational\u001b[0m \u001b[33;5;9minfrastructure\u001b[0m and workflows . \n",
      "Work in a highly collaborative and cross - disciplinary team to deliver quantitative , mechanistic , and scalable support for clinical interpretation of \u001b[35;5;9mgenetic\u001b[0m \u001b[33;5;9mresults\u001b[0m . \n",
      "\n",
      "\n",
      "What you bring:\n",
      "\n",
      "\u001b[35;5;9mAdvanced\u001b[0m \u001b[33;5;9mdegree\u001b[0m ( e . g .  \u001b[35;5;9mPh\u001b[0m \u001b[35;5;9m.\u001b[0m \u001b[35;5;9mD\u001b[0m \u001b[35;5;9m.\u001b[0m ) in a quantitative discipline such as \u001b[35;5;9mComputational\u001b[0m \u001b[33;5;9mBiology\u001b[0m , \u001b[35;5;9mComputer\u001b[0m \u001b[33;5;9mScience\u001b[0m , \u001b[35;5;9mGenome\u001b[0m \u001b[33;5;9mSciences\u001b[0m , \u001b[35;5;9mBiophysics\u001b[0m / \u001b[35;5;9mPhysics\u001b[0m , \u001b[35;5;9mSystems\u001b[0m \u001b[33;5;9mBiology\u001b[0m , \u001b[35;5;9mBioinformatics\u001b[0m , \u001b[35;5;9mML\u001b[0m / \u001b[35;5;9mAI\u001b[0m or \u001b[35;5;9mMathematics\u001b[0m . \n",
      "Experience developing and implementing rigorous \u001b[35;5;9mcomputational\u001b[0m \u001b[33;5;9mmethods\u001b[0m and solutions to analyze complex \u001b[35;5;9mbiological\u001b[0m \u001b[33;5;9mdatasets\u001b[0m and processes .  Direct experience working with large datasets is ideal , such as \u001b[35;5;9mfunctional\u001b[0m \u001b[33;5;9mgenomics\u001b[0m ( e . g .  \u001b[35;5;9mscRNA\u001b[0m \u001b[35;5;9m-\u001b[0m \u001b[35;5;9mseq\u001b[0m \u001b[33;5;9mdata\u001b[0m ) , \u001b[35;5;9mbiophysics\u001b[0m ( e . g .  \u001b[35;5;9mmolecular\u001b[0m \u001b[33;5;9mdynamics\u001b[0m ) , OR \u001b[35;5;9mpopulation\u001b[0m \u001b[33;5;9mgenomics\u001b[0m . \n",
      "\n",
      "High proficiency in \u001b[35;5;9mscientific\u001b[0m \u001b[33;5;9mcomputing\u001b[0m , with strong knowledge of modern \u001b[35;5;9mdata\u001b[0m \u001b[33;5;9mscience\u001b[0m \u001b[33;5;9mtechniques\u001b[0m and \u001b[35;5;9mnumerical\u001b[0m \u001b[33;5;9mmethods\u001b[0m , and direct experience in \u001b[35;5;9malgorithm\u001b[0m \u001b[33;5;9mdevelopment\u001b[0m and \u001b[35;5;9mmachine\u001b[0m \u001b[33;5;9mlearning\u001b[0m .  Ability to work independently, design and conduct research, and to evaluate, interpret and present complex scientific data.\n",
      "\n",
      "Ability to work effectively in a highly cross-functional environment where collaboration across disciplines is a key component for team success.\n",
      "Excellent verbal and written communication and \u001b[35;5;9mpresentation\u001b[0m \u001b[33;5;9mskills\u001b[0m . \n",
      "Fluency in programming in \u001b[35;5;9mPython\u001b[0m , including familiarity with \u001b[35;5;9mpandas\u001b[0m , \u001b[35;5;9mnumpy\u001b[0m . \n",
      "\n",
      "\n",
      "At Invitae, we value diversity and provide equal employment opportunities (EEO) to all employees and applicants without regard to race, color, religion, national origin, gender, sexual orientation, age, marital status, veteran status, or disability status. We will consider for employment qualified applicants with criminal histories in a manner consistent with the requirements of the San Francisco Fair Chance Ordinance.\n",
      "This salary range is an estimate, and the actual salary may vary based on a wide range of factors, including your skills, qualifications, experience and location. This position is eligible for benefits including but not limited to medical, dental, vision, life insurance, disability coverage, flexible paid time off, Spring Health, Carrot Fertility, participation in a 401k with company match, ESPP, and many other additional voluntary benefits. Invitae also offers generous paid leave programs so you can spend time with your new child, recover from your own illness or care for a sick family member.\n",
      "USA National Pay Range\n",
      "$138,400—$173,000 USD\n",
      "Please apply even if you don't meet all of the \"What you bring\" requirements noted. It's rare that someone checks every single item, it's ok, we encourage you to apply anyways.\n",
      "\n",
      "Join us!\n",
      "\n",
      "At Invitae, we value diversity and provide equal employment opportunities (EEO) to all employees and applicants without regard to race, color, religion, national origin, gender, sexual orientation, age, marital status, veteran status, or disability status. We will consider for employment qualified applicants with criminal histories in a manner consistent with the requirements of the San Francisco Fair Chance Ordinance.\n",
      "\n",
      "We truly believe a diverse workplace is crucial to our company's success and to better serve our diverse patients. Your input is especially valuable. We'd greatly appreciate it if you can take a quick moment to make your selection(s) below. Submissions will be anonymous.\n",
      "\n",
      "You can find a detailed explanation of our privacy practices here.\n"
     ]
    }
   ],
   "source": [
    "reconstruct_ad_w_bolded_skills(data[18], token_class_tok, 0)"
   ]
  },
  {
   "cell_type": "markdown",
   "id": "7ed01d24",
   "metadata": {},
   "source": [
    "Above, can see that now, in the first sentence of the second paragraph, 'genetic testing' is labelled."
   ]
  },
  {
   "cell_type": "code",
   "execution_count": 34,
   "id": "02dac8e9",
   "metadata": {},
   "outputs": [
    {
     "name": "stdout",
     "output_type": "stream",
     "text": [
      "Are you sure you want to save the json file? If you by mistake save it when you are just testing stuff it might be a pain to fix? (y/n): y\n"
     ]
    }
   ],
   "source": [
    "save_json_file(data, f_name)"
   ]
  },
  {
   "cell_type": "markdown",
   "id": "e86f928f",
   "metadata": {},
   "source": [
    "*labelling the 1st ad in the list of dictionaries*"
   ]
  },
  {
   "cell_type": "code",
   "execution_count": 42,
   "id": "1c751134",
   "metadata": {},
   "outputs": [
    {
     "name": "stdout",
     "output_type": "stream",
     "text": [
      "Please open the file 'predictions_on_sentences.html' and then input a list with the indices of the sentences that were labelled incorrectly.[8,15,21,30,33]\n",
      "\n",
      "For this job description, the metrics on the sentence classifier are:\n",
      "\taccuracy: 0.8717948717948718\n",
      "\trecall: 0.8666666666666667\n",
      "Please open the file 'predictions_on_tokens.html' and then input a list of the words that were mislabelled.\n",
      "The list should be a list of of lists, with each sub list of the form [index_sentence, index_word, label].\n",
      "\t'index_sentence' is the index of the sentence of the mislabelled word,\n",
      "\t'index_word' is the index of the mislabelled word within the sentence, and \n",
      "\t'label' is either 0, 1 or 2, where \n",
      "\t\t0 <--> B <--> 'the beginning of a labelled entity', \n",
      "\t\t1 <--> I <--> 'a word that is within in a string of words that makes up a labelled entity', and \n",
      "\t\t2 <--> O <--> 'the word should not be labelled'.\n",
      "[ [0, 14, 2],  [1, 15, 0],  [1, 16, 1],  [1, 17, 1],  [2, 10, 0],  [2, 11, 1],  [2, 12, 1],  [3, 20, 1],  [4, 2, 2],  [4, 3, 0],  [7, 1, 0],  [7, 3, 0],  [7, 6, 1],  [10, 7, 0],  [10, 8, 1],  [10, 10, 1],  [13, 3, 2],  [13, 4, 0],  [13, 5, 2],  [13, 6, 0],  [14, 15, 1] ]\n",
      "\n",
      "For this job description, the metrics on the token classifier are:\n",
      "\taccuracy: 0.9407665505226481\n",
      "\trecall: 0.8194444444444444\n"
     ]
    }
   ],
   "source": [
    "predict_and_label(data[1], sentence_class_mod, sentence_class_tok, token_class_mod, token_class_tok)"
   ]
  },
  {
   "cell_type": "markdown",
   "id": "d6f58bf5",
   "metadata": {},
   "source": [
    "*Checking whether or not mistakes were made when using predict_and_label*"
   ]
  },
  {
   "cell_type": "code",
   "execution_count": 43,
   "id": "00072f45",
   "metadata": {},
   "outputs": [
    {
     "name": "stdout",
     "output_type": "stream",
     "text": [
      "Summary\n",
      "Posted: Jul 19, 2022\n",
      "Weekly Hours: 40\n",
      "Role Number:200149514\n",
      "Are you interested in building products that utilize \u001b[35;5;9mmachine\u001b[0m \u001b[33;5;9mlearning\u001b[0m and \u001b[35;5;9mcomputer\u001b[0m \u001b[33;5;9mvision\u001b[0m \u001b[33;5;9mtechnologies\u001b[0m ?  Are you looking to apply your state-of-the-art knowledge to produce high-visibility features? Apple ’ s Text Recognition group is responsible for building best - in - class \u001b[35;5;9mText\u001b[0m \u001b[33;5;9mRecognition\u001b[0m \u001b[33;5;9mtechnologies\u001b[0m that fuel innovative and user experiences .  We are an R & D team that develops core \u001b[35;5;9mmachine\u001b[0m \u001b[33;5;9mlearning\u001b[0m \u001b[33;5;9mtechnologies\u001b[0m and pushes the limit of those technologies to produce amazing features like Live Text , Apple Pay Credit Card Capture , and iTunes Gift Card Camera Redemption across all Apple Platforms , including iOS and macOS .  We are looking for an exceptional machine learning engineer to help research and develop our next generation of \u001b[35;5;9mtext\u001b[0m \u001b[33;5;9mrecognition\u001b[0m \u001b[33;5;9msolutions\u001b[0m that will enrich the lives of millions of people !  iOS 15 Live Text: https://support.apple.com/en-us/HT212630\n",
      "Key Qualifications\n",
      "Experience with modern \u001b[35;5;9mmachine\u001b[0m \u001b[33;5;9mlearning\u001b[0m \u001b[33;5;9malgorithms\u001b[0m \n",
      "Experience with \u001b[35;5;9mimage\u001b[0m \u001b[33;5;9mprocessing\u001b[0m and \u001b[35;5;9mcomputer\u001b[0m \u001b[33;5;9mvision\u001b[0m \u001b[33;5;9malgorithms\u001b[0m \n",
      "Familiarity with \u001b[35;5;9mdeep\u001b[0m \u001b[33;5;9mlearning\u001b[0m \u001b[33;5;9mtoolkits\u001b[0m \n",
      "Strong \u001b[35;5;9mprogramming\u001b[0m , \u001b[35;5;9mdebugging\u001b[0m and \u001b[35;5;9mdesign\u001b[0m \u001b[33;5;9mskills\u001b[0m \n",
      "Excellent problem solving, critical thinking, and communication skills\n",
      "Ability to work independently and with others\n",
      "Ability to produce creative and innovative solutions to hard problems\n",
      "Description\n",
      "As a member of the team , you will innovate and deliver high - impact features that interacts with state - of - the - art \u001b[35;5;9mmachine\u001b[0m \u001b[33;5;9mlearning\u001b[0m \u001b[33;5;9mtechnologies\u001b[0m .  Your will be working on building fundamental core technologies in the areas of \u001b[35;5;9mtext\u001b[0m \u001b[33;5;9mrecognition\u001b[0m , \u001b[35;5;9mdocument\u001b[0m \u001b[33;5;9mlayout\u001b[0m \u001b[33;5;9manalysis\u001b[0m and understanding .  We ’ re looking for candidates with \u001b[35;5;9mapplied\u001b[0m \u001b[33;5;9mmachine\u001b[0m \u001b[33;5;9mlearning\u001b[0m \u001b[33;5;9mexperience\u001b[0m .  An ideal candidate should have experience in \u001b[35;5;9mcomputer\u001b[0m \u001b[33;5;9mvision\u001b[0m , \u001b[35;5;9mimage\u001b[0m \u001b[33;5;9mprocessing\u001b[0m , \u001b[35;5;9mneural\u001b[0m \u001b[33;5;9mnetworks\u001b[0m and other \u001b[35;5;9mstatistical\u001b[0m \u001b[33;5;9mpattern\u001b[0m \u001b[33;5;9mrecognition\u001b[0m \u001b[33;5;9msystems\u001b[0m .  \u001b[35;5;9mObject\u001b[0m \u001b[33;5;9mdetection\u001b[0m and \u001b[35;5;9mimage\u001b[0m \u001b[33;5;9msegmentation\u001b[0m expertise as well familiarity with \u001b[35;5;9mbig\u001b[0m \u001b[33;5;9mdata\u001b[0m \u001b[33;5;9mdevelopment\u001b[0m is a plus . \n",
      "Education & Experience\n",
      "\u001b[35;5;9mPh\u001b[0m \u001b[35;5;9m.\u001b[0m \u001b[35;5;9mD\u001b[0m or \u001b[35;5;9mMA\u001b[0m in \u001b[35;5;9mComputer\u001b[0m \u001b[33;5;9mScience\u001b[0m , \u001b[35;5;9mComputer\u001b[0m \u001b[33;5;9mEngineering\u001b[0m , or a closely related field \n",
      "Additional Requirements\n",
      "DESIRED EXPERIENCE:\n",
      "• Detailed knowledge of \u001b[35;5;9mC\u001b[0m , \u001b[35;5;9mC\u001b[0m \u001b[35;5;9m+\u001b[0m \u001b[35;5;9m+\u001b[0m , \u001b[35;5;9mObjective\u001b[0m \u001b[35;5;9m-\u001b[0m \u001b[35;5;9mC\u001b[0m or \u001b[35;5;9mSwift\u001b[0m \u001b[33;5;9mprogramming\u001b[0m • Experience developing with \u001b[35;5;9mOpenCV\u001b[0m or similar toolkits \n",
      "Pay & Benefits\n",
      "At Apple, base pay is one part of our total compensation package and is determined within a range. This provides the opportunity to progress as you grow and develop within a role. The base pay range for this role is between $130,000 and $242,000, and your base pay will depend on your skills, qualifications, experience, and location.\n",
      "\n",
      "Apple employees also have the opportunity to become an Apple shareholder through participation in Apple’s discretionary employee stock programs. Apple employees are eligible for discretionary restricted stock unit awards, and can purchase Apple stock at a discount if voluntarily participating in Apple’s Employee Stock Purchase Plan. You’ll also receive benefits including: Comprehensive medical and dental coverage, retirement benefits, a range of discounted products and free services, and for formal education related to advancing your career at Apple, reimbursement for certain educational expenses — including tuition. Additionally, this role might be eligible for discretionary bonuses or commission payments as well as relocation. Learn more about Apple Benefits.\n",
      "\n",
      "Note: Apple benefit, compensation and employee stock programs are subject to eligibility requirements and other terms of the applicable plan or program.\n"
     ]
    }
   ],
   "source": [
    "reconstruct_ad_w_bolded_skills(data[1], token_class_tok, 0)"
   ]
  },
  {
   "cell_type": "code",
   "execution_count": 44,
   "id": "767527ad",
   "metadata": {},
   "outputs": [
    {
     "name": "stdout",
     "output_type": "stream",
     "text": [
      "Are you sure you want to save the json file? If you by mistake save it when you are just testing stuff it might be a pain to fix? (y/n): y\n"
     ]
    }
   ],
   "source": [
    "save_json_file(data, f_name)"
   ]
  },
  {
   "cell_type": "markdown",
   "id": "2824c367",
   "metadata": {},
   "source": [
    "*labelling the 19th ad in the list of dictionaries*"
   ]
  },
  {
   "cell_type": "code",
   "execution_count": 46,
   "id": "c327d185",
   "metadata": {
    "scrolled": false
   },
   "outputs": [
    {
     "name": "stdout",
     "output_type": "stream",
     "text": [
      "Please open the file 'predictions_on_sentences.html' and then input a list with the indices of the sentences that were labelled incorrectly.[0,1,2,3,4,5,6,8,11,14,19,28,29,30,32,38,45,47,53,54,56,61]\n",
      "\n",
      "For this job description, the metrics on the sentence classifier are:\n",
      "\taccuracy: 0.6451612903225806\n",
      "\trecall: 0.5\n",
      "Please open the file 'predictions_on_tokens.html' and then input a list of the words that were mislabelled.\n",
      "The list should be a list of of lists, with each sub list of the form [index_sentence, index_word, label].\n",
      "\t'index_sentence' is the index of the sentence of the mislabelled word,\n",
      "\t'index_word' is the index of the mislabelled word within the sentence, and \n",
      "\t'label' is either 0, 1 or 2, where \n",
      "\t\t0 <--> B <--> 'the beginning of a labelled entity', \n",
      "\t\t1 <--> I <--> 'a word that is within in a string of words that makes up a labelled entity', and \n",
      "\t\t2 <--> O <--> 'the word should not be labelled'.\n",
      "[ [0, 7, 0],  [0, 8, 1],  [0, 11, 0],  [0, 12, 1],  [1, 12, 0],  [1, 15, 0],  [1, 16, 1],  [3, 24, 0],  [4, 10, 0],  [4, 11, 1],  [4, 12, 1],  [4, 19, 0],  [4, 20, 1],  [5, 11, 0],  [5, 14, 0],  [5, 15, 1],  [6, 7, 2],  [6, 18, 0],  [6, 19, 1],  [7, 30, 0],  [7, 47, 2],  [8, 10, 2],  [9, 38, 0],  [9, 39, 1],  [9, 40, 1],  [10, 19, 0],  [10, 20, 1],  [10, 23, 2],  [10, 24, 2],  [11, 10, 0],  [12, 16, 2],  [13, 30, 0],  [13, 31, 1],  [14, 12, 0],  [14, 17, 0],  [16, 8, 2],  [16, 15, 2],  [18, 35, 2],  [18, 36, 2],  [18, 37, 2],  [22, 0, 2],  [22, 1, 2],  [24, 18, 0],  [24, 19, 1],  [26, 6, 0],  [26, 7, 1],  [27, 11, 0],  [27, 12, 1] ]\n",
      "\n",
      "For this job description, the metrics on the token classifier are:\n",
      "\taccuracy: 0.9296187683284457\n",
      "\trecall: 0.5512820512820513\n"
     ]
    }
   ],
   "source": [
    "predict_and_label(data[19], sentence_class_mod, sentence_class_tok, token_class_mod, token_class_tok)"
   ]
  },
  {
   "cell_type": "markdown",
   "id": "2127a6f7",
   "metadata": {},
   "source": [
    "While annotating tokens, I noticed that two sentences were labelled \"has a token to annotate\" that should not have been labelled that way. Fixing that below."
   ]
  },
  {
   "cell_type": "code",
   "execution_count": 48,
   "id": "83d94d9d",
   "metadata": {},
   "outputs": [
    {
     "name": "stdout",
     "output_type": "stream",
     "text": [
      "Please open the file 'sentences_w_current_labels.html' and then input a list with the indices of the sentences that are labelled incorrectly.[2,53]\n",
      "Please open the file 'tokens_w_current_labels.html' and then input a list of the words that are mislabelled.\n",
      "The list should be a list of of lists, with each sub list of the form [index_sentence, index_word, label].\n",
      "\t'index_sentence' is the index of the sentence of the mislabelled word,\n",
      "\t'index_word' is the index of the mislabelled word within the sentence, and \n",
      "\t'label' is either 0, 1 or 2, where \n",
      "\t\t0 <--> B <--> 'the beginning of a labelled entity', \n",
      "\t\t1 <--> I <--> 'a word that is within in a string of words that makes up a labelled entity', and \n",
      "\t\t2 <--> O <--> 'the word should not be labelled'.\n",
      "[]\n"
     ]
    }
   ],
   "source": [
    "update_tokens_label(data[19], token_class_tok)"
   ]
  },
  {
   "cell_type": "markdown",
   "id": "5cd60779",
   "metadata": {},
   "source": [
    "*Checking whether or not mistakes were made when using predict_and_label*"
   ]
  },
  {
   "cell_type": "code",
   "execution_count": 49,
   "id": "a8c25db8",
   "metadata": {
    "scrolled": true
   },
   "outputs": [
    {
     "name": "stdout",
     "output_type": "stream",
     "text": [
      "Afresh is on a mission to eliminate \u001b[35;5;9mfood\u001b[0m \u001b[33;5;9mwaste\u001b[0m and make \u001b[35;5;9mfresh\u001b[0m \u001b[33;5;9mfood\u001b[0m accessible to all .  Our first A . I . - powered solution optimizes ordering , \u001b[35;5;9mforecasting\u001b[0m , and \u001b[35;5;9mstore\u001b[0m \u001b[33;5;9moperations\u001b[0m for fresh food departments in brick - and - mortar grocers .  With our Fresh Operating System, regional and national grocery retailers have placed $1.6 billion in produce orders across the US and we've helped our partners prevent 34 million pounds of food from going to waste. Working at Afresh represents a one - of - a - kind opportunity to have massive social impact at scale by leveraging uncommonly impactful \u001b[35;5;9msoftware\u001b[0m – we hope you ' ll join us ! \n",
      "At Afresh , our mission is to make the fresh \u001b[35;5;9mfood\u001b[0m \u001b[33;5;9msupply\u001b[0m \u001b[33;5;9mchain\u001b[0m more efficient , thus dramatically reducing \u001b[35;5;9mfood\u001b[0m \u001b[33;5;9mwaste\u001b[0m and making fresh , nutritious food available and accessible to everyone .  Our A . I . - powered solutions optimize ordering , \u001b[35;5;9mforecasting\u001b[0m , and \u001b[35;5;9mstore\u001b[0m \u001b[33;5;9moperations\u001b[0m for fresh food departments for brick - and - mortar grocers .  The results are powerful : grocers using Afresh are on track to reduce more than 20M pounds of \u001b[35;5;9mfood\u001b[0m \u001b[33;5;9mwaste\u001b[0m , while increasing fresh sales by 3 % , massively increasing their profitability . \n",
      "\n",
      "Afresh is looking for a Support Engineer on our Tier two Data Team to help provide unparalleled support and guidance to our customers. As a Tier 2 Support Engineer , you ' ll partner with our Customer Success , Product , Marketing , and Engineering teams to own the technical aspect of the \u001b[35;5;9mcustomer\u001b[0m \u001b[33;5;9mlifecycle\u001b[0m , serving as the primary escalation point for the support team and demonstrating the of Afresh to our customers . \n",
      "\n",
      "You will help resolve complex customer inquiries that arise with Afresh solutions , investigating and troubleshooting using your knowledge of \u001b[35;5;9mSQL\u001b[0m and \u001b[35;5;9mdatabases\u001b[0m .  You ' ll also help to build and improve our processes as a team , helping to develop \u001b[35;5;9minternal\u001b[0m \u001b[33;5;9mdashboards\u001b[0m , define the process for in - depth investigations , and repeatable \u001b[35;5;9msleuthing\u001b[0m \u001b[33;5;9mprotocol\u001b[0m to help scale our \u001b[35;5;9mcustomer\u001b[0m \u001b[33;5;9msupport\u001b[0m \u001b[33;5;9mfunction\u001b[0m as we continue to grow our customer base .  You have support experience , a love of problem - solving , and are driven to help reduce fresh \u001b[35;5;9mfood\u001b[0m \u001b[33;5;9mwaste\u001b[0m in the grocery industry ! \n",
      "\n",
      "We are a passionate team united by our mission to make an impact - we hope you’ll join us!\n",
      "\n",
      "What you'll do\n",
      "Provide level two technical support for Afresh ecosystem and integrations\n",
      "Interact with Tier 1 and Tier 2 providing support / guidance on tricky issues.\n",
      "Identify trends in requests , and highlight opportunities to improve \u001b[35;5;9mdocumentation\u001b[0m and our product . \n",
      "Triage technical issues, resolve problems independently and escalate to appropriate teams.\n",
      "Take full ownership of customer issues , including troubleshooting , \u001b[35;5;9mroot\u001b[0m \u001b[33;5;9mcause\u001b[0m \u001b[33;5;9manalysis\u001b[0m , and clear communication . \n",
      "Clearly document reproduction steps in cases to communicate internally\n",
      "Resolve tickets via email and (occasionally) on the phone with clear, concise, empathetic communication, helping to identify, debug, and escalate higher priority issues to our engineering and product teams\n",
      "Investigate tricky customer problems involving \u001b[35;5;9mdata\u001b[0m \u001b[33;5;9mintegrity\u001b[0m , \u001b[35;5;9mdata\u001b[0m \u001b[33;5;9mfeeds\u001b[0m , and \u001b[35;5;9mmachine\u001b[0m \u001b[33;5;9mlearning\u001b[0m , to improve both the customer experience and the product , driving our mission to reduce \u001b[35;5;9mfood\u001b[0m \u001b[33;5;9mwaste\u001b[0m \n",
      "Respond positively when under pressure, multi-task and to deal with conflict / crisis ( i.e. realize something is important or will quickly become and incident)\n",
      "Help to build and improve upon our debugging , triaging , and \u001b[35;5;9mescalation\u001b[0m \u001b[33;5;9mprotocol\u001b[0m , including creating \u001b[35;5;9mdashboards\u001b[0m and repeatable queries intended to make common \u001b[35;5;9mSQL\u001b[0m \u001b[33;5;9manalyses\u001b[0m more efficient \n",
      "Deeply understand Afresh's customers' needs, how our different Partners' needs differ, delighting our customers and serving as the voice of the customer back to Afresh\n",
      "Grow with the organization and our needs as a team, potentially specializing in specific Partner needs, and/or helping to build out the team by training future teammates\n",
      "Skills & experience you'll need\n",
      "Strong strategic and analytical thinker with exceptional execution and problem-solving capabilities\n",
      "Strong communication skills, both verbal and written. Comfortable discussing technical information to users and client support teams\n",
      "Ability to quickly learn new \u001b[35;5;9msoftware\u001b[0m \u001b[33;5;9mconcepts\u001b[0m \n",
      "Ability to prioritize and manage several projects efficiently with a high level of autonomy.\n",
      "Acute attention to detail; you live for the thrill of connecting the dots\n",
      "A clear, concise, empathetic writer and exceptional communicator who can internalize customers' feedback and effectively advocate for their needs\n",
      "Strong \u001b[35;5;9mSQL\u001b[0m experience , both writing and understanding queries , and familiarity with \u001b[35;5;9mdata\u001b[0m \u001b[33;5;9mstores\u001b[0m and \u001b[33;5;9mdatabases\u001b[0m \n",
      "\u001b[35;5;9mPython\u001b[0m or \u001b[35;5;9mscripting\u001b[0m experience . \n",
      "Organized and self-motivated individual, comfortable operating within ambiguity\n",
      "Strong self - starter who thrives in a dynamic , fast - paced , small team environment that is capable and willing to wear multiple hats and own \u001b[35;5;9mend\u001b[0m \u001b[35;5;9m-\u001b[0m \u001b[35;5;9mto\u001b[0m \u001b[35;5;9m-\u001b[0m \u001b[35;5;9mend\u001b[0m \u001b[33;5;9mprocesses\u001b[0m and follow - up \n",
      "Customer centric and friendly - driving to achieve a happy customer, not just a resolution\n",
      "2 + years of experience in \u001b[35;5;9mtechnical\u001b[0m \u001b[33;5;9mcustomer\u001b[0m \u001b[33;5;9msupport\u001b[0m \n",
      "\n",
      "Bonus if you have:\n",
      "\n",
      "Experience working in \u001b[35;5;9mstartup\u001b[0m \u001b[33;5;9mcompanies\u001b[0m . \n",
      "Experience in \u001b[35;5;9mretail\u001b[0m or \u001b[35;5;9mgrocery\u001b[0m \n",
      "Degree in \u001b[33;5;9mComputer\u001b[0m \u001b[33;5;9mScience\u001b[0m or related field . \n",
      "Experience with \u001b[35;5;9mSpark\u001b[0m \n",
      "\n",
      "\n",
      "About Afresh\n",
      "\n",
      "Founded in 2017 , Afresh is working on the # 1 solution to curb climate change : reducing \u001b[35;5;9mfood\u001b[0m \u001b[33;5;9mwaste\u001b[0m .  By combining human insight and transformative technology, we're helping grocers provide fresher food to customers at more affordable prices.\n",
      "\n",
      "\n",
      "Afresh sits at an incredible intersection of positive social impact, rocket ship financial growth, and cutting-edge technology. Our best - in - class \u001b[35;5;9mAI\u001b[0m \u001b[33;5;9mresearch\u001b[0m has been published in top journals including ICML , and we ' ve raised over $ 148 million in funding from investors including former co - CEO of Whole Foods Market Walter Robb and Eric Schmidt ' s Innovation Endeavors . \n",
      "\n",
      "Fresh is the past , present , and future of our \u001b[35;5;9mfood\u001b[0m \u001b[33;5;9msystem\u001b[0m – the waste we create today will impact our planet for years to come .  Join us as we continue to build a vibrant, diverse, and inclusive team that embodies our company’s values of proactivity, kindness, candor, and humility.\n",
      "\n",
      "\n",
      "Afresh provides equal employment opportunities (EEO) to all employees and applicants for employment without regard to race, color, religion, sex, national origin, age, disability, genetics, sexual orientation, gender identity/expression, marital status, pregnancy or related condition, or any other basis protected by law.\n",
      "\n",
      "Here at Afresh, many of our employees work remotely provided that they reside in one of the following states: AR, CA, CO, FL, GA, IL, KY, MA, MI, MT, MO, NV, NJ, NY, NC, OR, PA, TX, WA, WI. However, there may be key roles that will require a candidate/employee to be local to our San Francisco, CA office. In which case this requirement will be included in the job posting details under \"Skills and experience\" for reference.\n"
     ]
    }
   ],
   "source": [
    "reconstruct_ad_w_bolded_skills(data[19], token_class_tok, 0)"
   ]
  },
  {
   "cell_type": "code",
   "execution_count": 50,
   "id": "4dd51987",
   "metadata": {},
   "outputs": [
    {
     "name": "stdout",
     "output_type": "stream",
     "text": [
      "Are you sure you want to save the json file? If you by mistake save it when you are just testing stuff it might be a pain to fix? (y/n): y\n"
     ]
    }
   ],
   "source": [
    "save_json_file(data, f_name)"
   ]
  },
  {
   "cell_type": "markdown",
   "id": "59092228",
   "metadata": {},
   "source": [
    "**Because more job postings have been labelled compared to when the models were imported above, I fine tuned the models in the 'example_of_fine_tuning_while_labelling_data.ipynb' notebook. Now I will use 'predict_and_label' on a few more postings, and see whether I have to correct fewer labels**"
   ]
  },
  {
   "cell_type": "markdown",
   "id": "2f11685a",
   "metadata": {},
   "source": [
    "*uploading the newly fine tuned models*"
   ]
  },
  {
   "cell_type": "code",
   "execution_count": 8,
   "id": "3003ff36",
   "metadata": {},
   "outputs": [
    {
     "name": "stderr",
     "output_type": "stream",
     "text": [
      "Some weights of the model checkpoint at has-abi/distilBERT-finetuned-resumes-sections were not used when initializing DistilBertModel: ['pre_classifier.weight', 'classifier.bias', 'classifier.weight', 'pre_classifier.bias']\n",
      "- This IS expected if you are initializing DistilBertModel from the checkpoint of a model trained on another task or with another architecture (e.g. initializing a BertForSequenceClassification model from a BertForPreTraining model).\n",
      "- This IS NOT expected if you are initializing DistilBertModel from the checkpoint of a model that you expect to be exactly identical (initializing a BertForSequenceClassification model from a BertForSequenceClassification model).\n"
     ]
    }
   ],
   "source": [
    "#uploading the sentence classification model\n",
    "sentence_class_mod = CustomModel(\"has-abi/distilBERT-finetuned-resumes-sections\", num_labels = 2)\n",
    "\n",
    "p2model = \"./model_contents/hf\"\n",
    "f_lin = \"./model_contents/linear_layer_for_sent_classifier_fr_colab.pth\"\n",
    "\n",
    "#overwriting it with weights from the google colab\n",
    "sentence_class_mod.overwrite_w_trained_weights(p2model, f_lin)\n",
    "#uploading the sentence classification tokenizer\n",
    "sentence_class_tok = AutoTokenizer.from_pretrained(\"has-abi/distilBERT-finetuned-resumes-sections\")\n",
    "\n",
    "#uploading the token classification model and tokenizer\n",
    "token_class_mod = AutoModelForTokenClassification.from_pretrained(\"jfriduss/tok_train_info\")\n",
    "token_class_tok = AutoTokenizer.from_pretrained(\"jfriduss/tok_train_info\")"
   ]
  },
  {
   "cell_type": "markdown",
   "id": "64f80a34",
   "metadata": {},
   "source": [
    "*labelling the 20th posting in the list of dictionaries*"
   ]
  },
  {
   "cell_type": "code",
   "execution_count": 9,
   "id": "3deee465",
   "metadata": {},
   "outputs": [
    {
     "name": "stdout",
     "output_type": "stream",
     "text": [
      "Please open the file 'predictions_on_sentences.html' and then input a list with the indices of the sentences that were labelled incorrectly.[2,12,23,27]\n",
      "\n",
      "For this job description, the metrics on the sentence classifier are:\n",
      "\taccuracy: 0.8857142857142857\n",
      "\trecall: 0.9411764705882353\n",
      "Please open the file 'predictions_on_tokens.html' and then input a list of the words that were mislabelled.\n",
      "The list should be a list of of lists, with each sub list of the form [index_sentence, index_word, label].\n",
      "\t'index_sentence' is the index of the sentence of the mislabelled word,\n",
      "\t'index_word' is the index of the mislabelled word within the sentence, and \n",
      "\t'label' is either 0, 1 or 2, where \n",
      "\t\t0 <--> B <--> 'the beginning of a labelled entity', \n",
      "\t\t1 <--> I <--> 'a word that is within in a string of words that makes up a labelled entity', and \n",
      "\t\t2 <--> O <--> 'the word should not be labelled'.\n",
      "[ [1, 13, 2],  [1, 14, 2],  [2, 20, 1],  [7, 7, 1],  [7, 9, 0],  [7, 10, 1],  [8, 9, 2],  [9, 9, 2],  [9, 10, 2],  [9, 11, 2],  [10, 0, 2],  [10, 1, 2],  [10, 2, 2],  [10, 3, 2],  [10, 4, 0],  [10, 5, 0],  [10, 6, 0],  [14, 4, 2],  [14, 5, 2],  [14, 6, 2],  [16, 5, 2],  [16, 6, 2] ]\n",
      "\n",
      "For this job description, the metrics on the token classifier are:\n",
      "\taccuracy: 0.9205020920502092\n",
      "\trecall: 0.9428571428571428\n"
     ]
    }
   ],
   "source": [
    "predict_and_label(data[20], sentence_class_mod, sentence_class_tok, token_class_mod, token_class_tok)"
   ]
  },
  {
   "cell_type": "code",
   "execution_count": 10,
   "id": "d3d715df",
   "metadata": {},
   "outputs": [
    {
     "name": "stdout",
     "output_type": "stream",
     "text": [
      "We are looking for an experienced Data Engineer to join our growing team. The ideal candidate will have a strong background in \u001b[35;5;9mdata\u001b[0m \u001b[33;5;9mpipeline\u001b[0m \u001b[33;5;9mdevelopment\u001b[0m , \u001b[35;5;9mdata\u001b[0m \u001b[33;5;9mquality\u001b[0m \u001b[33;5;9mcontrol\u001b[0m , and \u001b[35;5;9mdata\u001b[0m \u001b[33;5;9minfrastructure\u001b[0m for \u001b[35;5;9mmachine\u001b[0m \u001b[33;5;9mlearning\u001b[0m \u001b[33;5;9mmodels\u001b[0m .  Additionally , the candidate should have a strong understanding of \u001b[35;5;9mmarketing\u001b[0m \u001b[33;5;9mdata\u001b[0m and business sense .  In this role , you will be responsible for designing , building , and maintaining \u001b[35;5;9mdata\u001b[0m \u001b[33;5;9mpipelines\u001b[0m , ensuring \u001b[35;5;9mdata\u001b[0m \u001b[33;5;9mquality\u001b[0m and accuracy , and supporting \u001b[35;5;9mmachine\u001b[0m \u001b[33;5;9mlearning\u001b[0m \u001b[33;5;9mmodels\u001b[0m . \n",
      "Responsibilities\n",
      "Design and build \u001b[35;5;9mdata\u001b[0m \u001b[33;5;9mpipelines\u001b[0m to collect , process , and store large amounts of data from multiple sources \n",
      "Implement \u001b[35;5;9mdata\u001b[0m \u001b[33;5;9mquality\u001b[0m \u001b[33;5;9mcontrol\u001b[0m \u001b[33;5;9mprocesses\u001b[0m to ensure accuracy and completeness of data \n",
      "Develop and maintain \u001b[35;5;9mdata\u001b[0m \u001b[33;5;9minfrastructure\u001b[0m to support \u001b[35;5;9mmachine\u001b[0m \u001b[33;5;9mlearning\u001b[0m \u001b[33;5;9mmodels\u001b[0m \n",
      "Collaborate with data scientists and machine learning engineers to understand \u001b[35;5;9mdata\u001b[0m \u001b[33;5;9mrequirements\u001b[0m for models \n",
      "Work with business teams to understand \u001b[35;5;9mmarketing\u001b[0m \u001b[33;5;9mdata\u001b[0m and \u001b[35;5;9mbusiness\u001b[0m \u001b[33;5;9mrequirements\u001b[0m \n",
      "Monitor and maintain the performance of \u001b[35;5;9mdata\u001b[0m \u001b[33;5;9mpipelines\u001b[0m and infrastructure \n",
      "Participate in the design and implementation of \u001b[35;5;9mdata\u001b[0m \u001b[33;5;9mstorage\u001b[0m and retrieval systems \n",
      "Stay up-to-date with emerging technologies and tools in the data engineering field\n",
      "Requirements\n",
      "Bachelor ' s or \u001b[35;5;9mMaster\u001b[0m \u001b[35;5;9m'\u001b[0m \u001b[35;5;9ms\u001b[0m \u001b[33;5;9mdegree\u001b[0m in \u001b[35;5;9mComputer\u001b[0m \u001b[33;5;9mScience\u001b[0m , \u001b[35;5;9mEngineering\u001b[0m , or a related field \n",
      "At least 5 years of experience in \u001b[35;5;9mdata\u001b[0m \u001b[33;5;9mengineering\u001b[0m \n",
      "Strong experience with \u001b[35;5;9mdata\u001b[0m \u001b[33;5;9mpipeline\u001b[0m \u001b[33;5;9mdevelopment\u001b[0m and \u001b[35;5;9mdata\u001b[0m \u001b[33;5;9mquality\u001b[0m \u001b[33;5;9mcontrol\u001b[0m \n",
      "Hands - on experience with \u001b[35;5;9mdata\u001b[0m \u001b[33;5;9minfrastructure\u001b[0m for \u001b[35;5;9mmachine\u001b[0m \u001b[33;5;9mlearning\u001b[0m \u001b[33;5;9mmodels\u001b[0m \n",
      "Knowledge of \u001b[35;5;9mdata\u001b[0m \u001b[33;5;9mstorage\u001b[0m and retrieval systems such as \u001b[35;5;9mHadoop\u001b[0m , \u001b[35;5;9mSpark\u001b[0m , and \u001b[35;5;9mNoSQL\u001b[0m \u001b[33;5;9mdatabases\u001b[0m \n",
      "Proficiency in \u001b[35;5;9mprogramming\u001b[0m \u001b[33;5;9mlanguages\u001b[0m such as \u001b[35;5;9mPython\u001b[0m and \u001b[35;5;9mSQL\u001b[0m \n",
      "Understanding of \u001b[35;5;9mmarketing\u001b[0m \u001b[35;5;9mdata\u001b[0m and business sense is a plus \n",
      "Strong problem-solving and analytical skillsExcellent communication and collaboration skills\n",
      "What we offer:\n",
      "This is a consumer fintech startup, and you will be working with serial entrepreneurs who have built strong consumer brands and innovative products. We are backed by some of Silicon Valley’s top VCs, including GGV capital, Lightspeed Ventures, Female Founders Fund, and others. We value extreme ownership, clear communication, a strong sense of craftsmanship, and the desire to create lasting work and work relationships. Yes, you can build an exciting business AND have real-life real-customer impact.\n",
      "\\uD83D\\uDCB0 Competitive pay based on experience\n",
      "\\uD83C\\uDFE5 Medical, dental, and vision coverage - Kikoff covers the full cost of health insurance for the employee!\n",
      "\\uD83E\\uDD11 Stock options\n",
      "\\uD83D\\uDCC8 Access to 401k plan\n",
      "\\uD83C\\uDFDD In addition to 10 annual company holidays, we offer Summer Fridays\n",
      "✈️ Generous unlimited vacation policy to help you recharge\n",
      "Additionally, we host regular team building events to help you get to know the Kikoff team! Our last virtual cooking event had everyone's mouth on fire, but cooled down by home-mixed cocktails.\n"
     ]
    }
   ],
   "source": [
    "reconstruct_ad_w_bolded_skills(data[20], token_class_tok, 0)"
   ]
  },
  {
   "cell_type": "code",
   "execution_count": 11,
   "id": "72d5118a",
   "metadata": {},
   "outputs": [
    {
     "name": "stdout",
     "output_type": "stream",
     "text": [
      "Are you sure you want to save the json file? If you by mistake save it when you are just testing stuff it might be a pain to fix? (y/n): y\n"
     ]
    }
   ],
   "source": [
    "save_json_file(data, f_name)"
   ]
  },
  {
   "cell_type": "markdown",
   "id": "96b6253b",
   "metadata": {},
   "source": [
    "**In order to determine how much less effort it took to annotate the 20th ad in the list by using the model fine tuned on nine job postings, compared to four, I will run predict_and_label on it using the previous model, and compare how many labels were required to be changed in this case.**\n",
    "\n",
    "*do this later*"
   ]
  },
  {
   "cell_type": "code",
   "execution_count": null,
   "id": "cd7352c3",
   "metadata": {},
   "outputs": [],
   "source": []
  },
  {
   "cell_type": "code",
   "execution_count": null,
   "id": "bb5ac3d0",
   "metadata": {},
   "outputs": [],
   "source": []
  }
 ],
 "metadata": {
  "kernelspec": {
   "display_name": "Python [conda env:hugging_face_practice]",
   "language": "python",
   "name": "conda-env-hugging_face_practice-py"
  },
  "language_info": {
   "codemirror_mode": {
    "name": "ipython",
    "version": 3
   },
   "file_extension": ".py",
   "mimetype": "text/x-python",
   "name": "python",
   "nbconvert_exporter": "python",
   "pygments_lexer": "ipython3",
   "version": "3.9.16"
  }
 },
 "nbformat": 4,
 "nbformat_minor": 5
}
