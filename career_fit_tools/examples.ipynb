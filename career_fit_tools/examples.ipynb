{
 "cells": [
  {
   "cell_type": "markdown",
   "id": "8d7adb66",
   "metadata": {},
   "source": [
    "This notebook shows how to the functions:\n",
    "\n",
    "- extract_whether_qualified_indicators\n",
    "- *name of function(s) that takes a bunch of postings, uses the above function to extract indicators of what the company wants, and then makes the 'trees of skills' and then allows you do analytics on the trees of skills'* \n",
    "\n",
    "There are the tools developed to help people understand ways their skillset are suited for various jobs, as opposed to the infrastructure in *directory_name*, used to expedite the training of these models."
   ]
  },
  {
   "cell_type": "code",
   "execution_count": 1,
   "id": "2c17770e",
   "metadata": {},
   "outputs": [],
   "source": [
    "import os \n",
    "import sys"
   ]
  },
  {
   "cell_type": "code",
   "execution_count": 2,
   "id": "1feac4b7",
   "metadata": {},
   "outputs": [],
   "source": [
    "path_to_root_dir = os.environ.get('PATH2PARSE_JOBS_DIR')\n",
    "sys.path.append(path_to_root_dir)"
   ]
  },
  {
   "cell_type": "code",
   "execution_count": 3,
   "id": "05ae02a6",
   "metadata": {},
   "outputs": [],
   "source": [
    "import json\n",
    "from career_fit_tools.tools import get_if_qualified_indicators\n",
    "from career_fit_tools.get_if_qualified_indicators_helpers import get_symetric_diff\n"
   ]
  },
  {
   "cell_type": "code",
   "execution_count": 4,
   "id": "109de9e3",
   "metadata": {},
   "outputs": [],
   "source": [
    "f_name = \"C:\\\\Users\\jonat_od7omk3\\Desktop\\personal_projs\\data_science_ML\\parse_job_postings\\data\\sample_input_to_pipeline.json\"\n",
    "\n",
    "with open(f_name, 'r') as file:\n",
    "    sample_inputs = json.load(file)"
   ]
  },
  {
   "cell_type": "code",
   "execution_count": 10,
   "id": "7fb90646",
   "metadata": {
    "scrolled": false
   },
   "outputs": [],
   "source": [
    "# t_ents_w_s_class = get_if_qualified_indicators(sample_inputs[1], use_sentence_classifier = 1, print_descr_w_predictions = 1)\n",
    "# t_ents_wo_s_class = get_if_qualified_indicators(sample_inputs[1], use_sentence_classifier = 0, print_descr_w_predictions = 1)"
   ]
  },
  {
   "cell_type": "code",
   "execution_count": 9,
   "id": "927cba7e",
   "metadata": {},
   "outputs": [
    {
     "name": "stdout",
     "output_type": "stream",
     "text": [
      "Elements only in list1: {'Protected Veteran Status education', 'Covid', 'predictive modeling algorithms management', 'testing', 'vaccine / testing requirements', 'certifications Chance Ordinance Ordinance', 'education', 'agile', '19', 'Data Science Information'}\n",
      "\n",
      "\n",
      "Elements only in list2: {'predictive modeling algorithms'}\n",
      "\n",
      "\n",
      "Symmetric difference: ['Protected Veteran Status education', 'Covid', 'predictive modeling algorithms management', 'testing', 'vaccine / testing requirements', 'certifications Chance Ordinance Ordinance', 'education', 'predictive modeling algorithms', 'agile', '19', 'Data Science Information']\n"
     ]
    }
   ],
   "source": [
    "sym_diff = get_symetric_diff(t_ents_wo_s_class, t_ents_w_s_class)"
   ]
  },
  {
   "cell_type": "markdown",
   "id": "e08ab362",
   "metadata": {},
   "source": [
    "**need to, at some point, (i) remove the descriptions in 'sample_inputs.json' from 'sample_job_descriptions.json' so that I do not overfit them, and (ii) put in filler for their 'job_ids', so that I do not by mistake add them back in, when re-querying the database**"
   ]
  },
  {
   "cell_type": "code",
   "execution_count": null,
   "id": "f31c28ce",
   "metadata": {},
   "outputs": [],
   "source": []
  }
 ],
 "metadata": {
  "kernelspec": {
   "display_name": "Python [conda env:hugging_face_practice]",
   "language": "python",
   "name": "conda-env-hugging_face_practice-py"
  },
  "language_info": {
   "codemirror_mode": {
    "name": "ipython",
    "version": 3
   },
   "file_extension": ".py",
   "mimetype": "text/x-python",
   "name": "python",
   "nbconvert_exporter": "python",
   "pygments_lexer": "ipython3",
   "version": "3.9.16"
  }
 },
 "nbformat": 4,
 "nbformat_minor": 5
}
