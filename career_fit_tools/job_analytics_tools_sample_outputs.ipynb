{
 "cells": [
  {
   "cell_type": "markdown",
   "id": "8d7adb66",
   "metadata": {},
   "source": [
    "This notebook shows how to use the functions:\n",
    "\n",
    "- extract_whether_qualified_indicators\n",
    "\n",
    "- *name of function(s) that takes a bunch of postings, uses the above function to extract indicators of what the company wants, and then makes the 'trees of skills' and then allows you do analytics on the trees of skills'* (<-- in progress)\n",
    "\n",
    "There are the tools developed to help people understand ways their skillset are suited for various jobs, as opposed to the infrastructure in [labeling_helpers](./training/labeling_helpers), used to expedite the training of these models."
   ]
  },
  {
   "cell_type": "code",
   "execution_count": 1,
   "id": "2c17770e",
   "metadata": {},
   "outputs": [],
   "source": [
    "import os \n",
    "import sys\n",
    "from dotenv import load_dotenv"
   ]
  },
  {
   "cell_type": "code",
   "execution_count": 2,
   "id": "1feac4b7",
   "metadata": {},
   "outputs": [],
   "source": [
    "load_dotenv()\n",
    "path_to_root_dir = os.getenv('PATH2ROOT_DIR')\n",
    "sys.path.append(path_to_root_dir)"
   ]
  },
  {
   "cell_type": "code",
   "execution_count": 3,
   "id": "05ae02a6",
   "metadata": {},
   "outputs": [],
   "source": [
    "import json\n",
    "from career_fit_tools.job_analytics_tools import get_if_qualified_indicators\n",
    "from career_fit_tools.get_if_qualified_indicators_helpers import get_symetric_diff\n"
   ]
  },
  {
   "cell_type": "code",
   "execution_count": 4,
   "id": "109de9e3",
   "metadata": {},
   "outputs": [],
   "source": [
    "f_name = os.getenv('PATH2SAMPLE_PIPELINE_INPUTS')\n",
    "\n",
    "with open(f_name, 'r') as file:\n",
    "    sample_inputs = json.load(file)"
   ]
  },
  {
   "cell_type": "markdown",
   "id": "bc78aad6",
   "metadata": {},
   "source": [
    "## extract_whether_qualified_indicators"
   ]
  },
  {
   "cell_type": "markdown",
   "id": "8283a77f",
   "metadata": {},
   "source": [
    "This function takes the following arguments:\n",
    "\n",
    "- job_descr (str): the job description to extract entities from\n",
    "- use_sentence_classifier (int): determines whether or not to use the sentence classifier to pre filter sentences to feed into the token classifier ('0' do not use the sentence classifier; '1' use the sentence classifier)\n",
    "- print_descr_w_predictions (int): determines whether or not to print the reconstructed posting, with words color coded according to label ('0' do not print; '1' print)\n",
    "\n",
    "It outputs a list of entities relavent to determining whether or not a possible applicant would be qualified for the position.\n",
    "\n",
    "**Below is an example of using the function on the same job posting, with using the sentence classifier to pre-filter sentences, and without using the sentence classifier.** "
   ]
  },
  {
   "cell_type": "code",
   "execution_count": 5,
   "id": "f1dd0c13",
   "metadata": {},
   "outputs": [
    {
     "name": "stderr",
     "output_type": "stream",
     "text": [
      "Some weights of the model checkpoint at has-abi/distilBERT-finetuned-resumes-sections were not used when initializing DistilBertModel: ['classifier.bias', 'pre_classifier.bias', 'classifier.weight', 'pre_classifier.weight']\n",
      "- This IS expected if you are initializing DistilBertModel from the checkpoint of a model trained on another task or with another architecture (e.g. initializing a BertForSequenceClassification model from a BertForPreTraining model).\n",
      "- This IS NOT expected if you are initializing DistilBertModel from the checkpoint of a model that you expect to be exactly identical (initializing a BertForSequenceClassification model from a BertForSequenceClassification model).\n"
     ]
    },
    {
     "name": "stdout",
     "output_type": "stream",
     "text": [
      "summary\n",
      "$53 - $63 per hour\n",
      "contract\n",
      "\u001b[35;5;9mbachelor\u001b[0m \u001b[33;5;9mdegree\u001b[0m \n",
      "category\n",
      "\u001b[35;5;9mcomputer\u001b[0m \u001b[33;5;9mand\u001b[0m \u001b[33;5;9mmathematical\u001b[0m \u001b[33;5;9moccupations\u001b[0m \n",
      "reference\n",
      "1016828\n",
      "job summary:\n",
      "Description:\n",
      "\n",
      "Minimum Qualifications\n",
      "\n",
      "\u001b[35;5;9mMaster\u001b[0m \u001b[35;5;9m'\u001b[0m \u001b[35;5;9ms\u001b[0m \u001b[33;5;9mdegree\u001b[0m in \u001b[33;5;9mstatistics\u001b[0m , \u001b[33;5;9meconomics\u001b[0m , \u001b[35;5;9moperations\u001b[0m \u001b[33;5;9mresearch\u001b[0m , \u001b[35;5;9mengineering\u001b[0m , or related field \n",
      "Marketing mix modeling industry experience\n",
      "8 + years of industry experience in \u001b[35;5;9mdata\u001b[0m \u001b[33;5;9mscience\u001b[0m , \u001b[35;5;9mmeasurement\u001b[0m , \u001b[35;5;9mmarketing\u001b[0m \u001b[33;5;9mstrategy\u001b[0m & \u001b[33;5;9manalytics\u001b[0m \n",
      "communication skills to 'tell a story' that provides insight into the business\n",
      "Proficient coding skills ( \u001b[35;5;9mSQL\u001b[0m \u001b[35;5;9m/\u001b[0m \u001b[35;5;9mPython\u001b[0m \u001b[35;5;9m/\u001b[0m \u001b[35;5;9mR\u001b[0m ) and \u001b[35;5;9mdatabase\u001b[0m knowledge \n",
      "Extensive experience with \u001b[35;5;9mpredictive\u001b[0m \u001b[33;5;9mmodeling\u001b[0m \u001b[33;5;9malgorithms\u001b[0m \n",
      "project \u001b[33;5;9mmanagement\u001b[0m skills , including managing technical resources and multiple priorities & milestones . \n",
      "You have a passion for working in a fast-paced agile environment.\n",
      "A collaborative mindset and sense of curiosity\n",
      "Preferred Qualifications\n",
      "\n",
      "\u001b[35;5;9mPhD\u001b[0m \u001b[33;5;9mdegree\u001b[0m in \u001b[33;5;9mStatistics\u001b[0m \u001b[33;5;9m,\u001b[0m \u001b[33;5;9mEconomics\u001b[0m , \u001b[35;5;9mOperations\u001b[0m \u001b[33;5;9mResearch\u001b[0m , or related field \n",
      "Experienced in building market mix and \u001b[35;5;9mmulti\u001b[0m \u001b[33;5;9m-\u001b[0m \u001b[33;5;9mtouch\u001b[0m \u001b[33;5;9mattribution\u001b[0m \u001b[33;5;9mmodels\u001b[0m \n",
      "Experience with \u001b[35;5;9madvertising\u001b[0m , \u001b[35;5;9mmeasurement\u001b[0m , and / or \u001b[35;5;9mdigital\u001b[0m \u001b[33;5;9mmarketing\u001b[0m \u001b[33;5;9manalytics\u001b[0m \n",
      "Experience with \u001b[35;5;9madvertising\u001b[0m \u001b[33;5;9mtechnology\u001b[0m \u001b[33;5;9mplatforms\u001b[0m \u001b[35;5;9mAd\u001b[0m \u001b[33;5;9mservers\u001b[0m , \u001b[35;5;9mDSPs\u001b[0m , \u001b[35;5;9mDMPs\u001b[0m , etc . \n",
      "Advanced programming skills with experience of creating \u001b[35;5;9mPython\u001b[0m \u001b[33;5;9mmodules\u001b[0m \n",
      "Experience with \u001b[35;5;9mA\u001b[0m \u001b[33;5;9m/\u001b[0m \u001b[33;5;9mB\u001b[0m and \u001b[35;5;9mMultivariate\u001b[0m \u001b[33;5;9mtest\u001b[0m \u001b[33;5;9mdesign\u001b[0m \u001b[33;5;9mand\u001b[0m \u001b[33;5;9mimplementation\u001b[0m \n",
      "location: San Bruno, California\n",
      "job type: Contract\n",
      "salary: $53 - 63 per hour\n",
      "work hours: 8am to 5pm\n",
      "education : \u001b[35;5;9mBachelors\u001b[0m \n",
      "\n",
      "responsibilities:\n",
      "Perform hands - on modeling and \u001b[35;5;9mcomplex\u001b[0m \u001b[33;5;9manalyses\u001b[0m using \u001b[35;5;9mPython\u001b[0m , \u001b[35;5;9mSQL\u001b[0m and / or \u001b[35;5;9mR\u001b[0m \n",
      "Build and enhance marketing \u001b[33;5;9mmix\u001b[0m \u001b[33;5;9mmodels\u001b[0m to connect the impact of marketing tactics and business short - term and long - term outcomes \n",
      "\n",
      "qualifications:\n",
      "Experience level: Experienced\n",
      "Minimum 8 years of experience\n",
      "\n",
      "Education : \u001b[35;5;9mBachelors\u001b[0m \n",
      "\n",
      "skills:\n",
      "Modeling\n",
      "\u001b[35;5;9mPython\u001b[0m \n",
      "Data Science\n",
      "\n",
      "Equal Opportunity Employer: Race, Color, Religion, Sex, Sexual Orientation, Gender Identity, National Origin, Age, Genetic Information, Disability, Protected Veteran Status, or any other legally protected group status.\n",
      "\n",
      "At Randstad, we welcome people of all abilities and want to ensure that our hiring and interview process meets the needs of all applicants. If you require a reasonable accommodation to make your application or interview experience a great one, please contact HRsupport@randstadusa.com.\n",
      "\n",
      "Pay offered to a successful candidate will be based on several factors including the candidate's education, work experience, work location, specific job duties, certifications, etc. In addition, Randstad offers a comprehensive benefits package, including health, an incentive and recognition program, and 401K contribution (all benefits are based on eligibility).\n",
      "\n",
      "\n",
      "\n",
      "Qualified applicants in San Francisco with criminal histories will be considered for employment in accordance with the San Francisco Fair Chance Ordinance.\n",
      "\n",
      "We will consider for employment all qualified Applicants, including those with criminal histories, in a manner consistent with the requirements of applicable state and local laws, including the City of Los Angeles' Fair Chance Initiative for Hiring Ordinance.\n",
      "\n",
      "\n",
      "For certain assignments, Covid-19 vaccination and/or testing may be required by Randstad's client or applicable federal mandate, subject to approved medical or religious accommodations. Carefully review the job posting for details on vaccine/testing requirements or ask your Randstad representative for more information.\n"
     ]
    }
   ],
   "source": [
    "entities_w_sentence_classification = \\\n",
    "    get_if_qualified_indicators(sample_inputs[1], use_sentence_classifier = 1, print_descr_w_predictions = 1)\n"
   ]
  },
  {
   "cell_type": "code",
   "execution_count": 6,
   "id": "7fb90646",
   "metadata": {
    "scrolled": false
   },
   "outputs": [
    {
     "name": "stdout",
     "output_type": "stream",
     "text": [
      "summary \n",
      "$ 53 - $ 63 per hour \n",
      "contract \n",
      "\u001b[35;5;9mbachelor\u001b[0m \u001b[33;5;9mdegree\u001b[0m \n",
      "category \n",
      "\u001b[35;5;9mcomputer\u001b[0m \u001b[33;5;9mand\u001b[0m \u001b[33;5;9mmathematical\u001b[0m \u001b[33;5;9moccupations\u001b[0m \n",
      "reference \n",
      "1016828 \n",
      "job summary : \n",
      "Description : \n",
      "\n",
      "Minimum Qualifications \n",
      "\n",
      "\u001b[35;5;9mMaster\u001b[0m \u001b[35;5;9m'\u001b[0m \u001b[35;5;9ms\u001b[0m \u001b[33;5;9mdegree\u001b[0m in \u001b[33;5;9mstatistics\u001b[0m , \u001b[33;5;9meconomics\u001b[0m , \u001b[35;5;9moperations\u001b[0m \u001b[33;5;9mresearch\u001b[0m , \u001b[35;5;9mengineering\u001b[0m , or related field \n",
      "\u001b[35;5;9mMarketing\u001b[0m \u001b[33;5;9mmix\u001b[0m \u001b[35;5;9mmodeling\u001b[0m \u001b[33;5;9mindustry\u001b[0m experience \n",
      "8 + years of industry experience in \u001b[35;5;9mdata\u001b[0m \u001b[33;5;9mscience\u001b[0m , \u001b[35;5;9mmeasurement\u001b[0m , \u001b[35;5;9mmarketing\u001b[0m \u001b[33;5;9mstrategy\u001b[0m & \u001b[33;5;9manalytics\u001b[0m \n",
      "communication skills to ' tell a story ' that provides insight into the business \n",
      "Proficient coding skills ( \u001b[35;5;9mSQL\u001b[0m \u001b[35;5;9m/\u001b[0m \u001b[35;5;9mPython\u001b[0m \u001b[35;5;9m/\u001b[0m \u001b[35;5;9mR\u001b[0m ) and \u001b[35;5;9mdatabase\u001b[0m knowledge \n",
      "Extensive experience with \u001b[35;5;9mpredictive\u001b[0m \u001b[33;5;9mmodeling\u001b[0m \u001b[33;5;9malgorithms\u001b[0m \n",
      "project \u001b[33;5;9mmanagement\u001b[0m skills , including managing technical resources and multiple priorities & milestones . \n",
      "You have a passion for working in a fast - paced agile environment . \n",
      "A collaborative mindset and sense of curiosity \n",
      "Preferred Qualifications \n",
      "\n",
      "\u001b[35;5;9mPhD\u001b[0m \u001b[33;5;9mdegree\u001b[0m in \u001b[33;5;9mStatistics\u001b[0m \u001b[33;5;9m,\u001b[0m \u001b[33;5;9mEconomics\u001b[0m , \u001b[35;5;9mOperations\u001b[0m \u001b[33;5;9mResearch\u001b[0m , or related field \n",
      "Experienced in building market mix and \u001b[35;5;9mmulti\u001b[0m \u001b[33;5;9m-\u001b[0m \u001b[33;5;9mtouch\u001b[0m \u001b[33;5;9mattribution\u001b[0m \u001b[33;5;9mmodels\u001b[0m \n",
      "Experience with \u001b[35;5;9madvertising\u001b[0m , \u001b[35;5;9mmeasurement\u001b[0m , and / or \u001b[35;5;9mdigital\u001b[0m \u001b[33;5;9mmarketing\u001b[0m \u001b[33;5;9manalytics\u001b[0m \n",
      "Experience with \u001b[35;5;9madvertising\u001b[0m \u001b[33;5;9mtechnology\u001b[0m \u001b[33;5;9mplatforms\u001b[0m \u001b[35;5;9mAd\u001b[0m \u001b[33;5;9mservers\u001b[0m , \u001b[35;5;9mDSPs\u001b[0m , \u001b[35;5;9mDMPs\u001b[0m , etc . \n",
      "Advanced programming skills with experience of creating \u001b[35;5;9mPython\u001b[0m \u001b[33;5;9mmodules\u001b[0m \n",
      "Experience with \u001b[35;5;9mA\u001b[0m \u001b[33;5;9m/\u001b[0m \u001b[33;5;9mB\u001b[0m and \u001b[35;5;9mMultivariate\u001b[0m \u001b[33;5;9mtest\u001b[0m \u001b[33;5;9mdesign\u001b[0m \u001b[33;5;9mand\u001b[0m \u001b[33;5;9mimplementation\u001b[0m \n",
      "location : San Bruno , California \n",
      "job type : Contract \n",
      "salary : $ 53 - 63 per hour \n",
      "work hours : 8am to 5pm \n",
      "education : \u001b[35;5;9mBachelors\u001b[0m \n",
      "\n",
      "responsibilities : \n",
      "Perform hands - on modeling and \u001b[35;5;9mcomplex\u001b[0m \u001b[33;5;9manalyses\u001b[0m using \u001b[35;5;9mPython\u001b[0m , \u001b[35;5;9mSQL\u001b[0m and / or \u001b[35;5;9mR\u001b[0m \n",
      "Build and enhance marketing \u001b[33;5;9mmix\u001b[0m \u001b[33;5;9mmodels\u001b[0m to connect the impact of marketing tactics and business short - term and long - term outcomes \n",
      "\n",
      "qualifications : \n",
      "Experience level : Experienced \n",
      "Minimum 8 years of experience \n",
      "\n",
      "Education : \u001b[35;5;9mBachelors\u001b[0m \n",
      "\n",
      "skills : \n",
      "Modeling \n",
      "\u001b[35;5;9mPython\u001b[0m \n",
      "\u001b[35;5;9mData\u001b[0m \u001b[33;5;9mScience\u001b[0m \n",
      "\n",
      "Equal Opportunity Employer : Race , Color , Religion , Sex , Sexual Orientation , Gender Identity , National Origin , Age , Genetic Information , Disability , Protected \u001b[33;5;9mVeteran\u001b[0m \u001b[33;5;9mStatus\u001b[0m , or any other legally protected group status . \n",
      "\n",
      "At Randstad , we welcome people of all abilities and want to ensure that our hiring and interview process meets the needs of all applicants .  If you require a reasonable accommodation to make your application or interview experience a great one , please contact HRsupport @ randstadusa . com . \n",
      "\n",
      "Pay offered to a successful candidate will be based on several factors including the candidate ' s \u001b[33;5;9meducation\u001b[0m , work experience , work location , specific job duties , \u001b[33;5;9mcertifications\u001b[0m , etc .  In addition , Randstad offers a comprehensive benefits package , including health , an incentive and recognition program , and 401K contribution ( all benefits are based on eligibility ) . \n",
      "\n",
      "\n",
      "\n",
      "Qualified applicants in San Francisco with criminal histories will be considered for employment in accordance with the San Francisco \u001b[33;5;9mFair\u001b[0m \u001b[33;5;9mChance\u001b[0m \u001b[33;5;9mOrdinance\u001b[0m . \n",
      "\n",
      "We will consider for employment all qualified Applicants , including those with criminal histories , in a manner consistent with the requirements of applicable state and local laws , including the City of Los Angeles ' Fair Chance Initiative for Hiring \u001b[33;5;9mOrdinance\u001b[0m . \n",
      "\n",
      "\n",
      "For certain assignments , Covid - 19 vaccination and / or testing may be required by Randstad ' s client or applicable federal mandate , subject to approved medical or religious accommodations .  Carefully review the job posting for details on \u001b[35;5;9mvaccine\u001b[0m \u001b[33;5;9m/\u001b[0m \u001b[33;5;9mtesting\u001b[0m \u001b[33;5;9mrequirements\u001b[0m or ask your Randstad representative for more information . \n"
     ]
    }
   ],
   "source": [
    "entities_wo_sentence_classification = \\\n",
    "    get_if_qualified_indicators(sample_inputs[1], use_sentence_classifier = 0, print_descr_w_predictions = 1)"
   ]
  },
  {
   "cell_type": "markdown",
   "id": "4e7b39c0",
   "metadata": {},
   "source": [
    "**Below is the first 20 entities extracted when using both the sentence and token classifiers:**"
   ]
  },
  {
   "cell_type": "code",
   "execution_count": null,
   "id": "37bbdabf",
   "metadata": {},
   "outputs": [],
   "source": [
    "for entity in entities_w_sentence_classification[0:20]:\n",
    "    print(entity)"
   ]
  },
  {
   "cell_type": "markdown",
   "id": "45a06836",
   "metadata": {},
   "source": [
    "**Below is the symetric difference of the entities extracted when using the sentence classifier versus when not using it:**"
   ]
  },
  {
   "cell_type": "code",
   "execution_count": 8,
   "id": "927cba7e",
   "metadata": {},
   "outputs": [
    {
     "name": "stdout",
     "output_type": "stream",
     "text": [
      "Elements only in list1: set()\n",
      "\n",
      "\n",
      "Elements only in list2: {'Data Science Veteran Status education certifications Fair Chance Ordinance Ordinance', 'Marketing mix', 'vaccine / testing requirements', 'modeling industry'}\n",
      "\n",
      "\n",
      "Symmetric difference: ['Data Science Veteran Status education certifications Fair Chance Ordinance Ordinance', 'Marketing mix', 'vaccine / testing requirements', 'modeling industry']\n"
     ]
    }
   ],
   "source": [
    "sym_diff = get_symetric_diff(entities_w_sentence_classification, entities_wo_sentence_classification)"
   ]
  },
  {
   "cell_type": "markdown",
   "id": "f3042e5a",
   "metadata": {},
   "source": [
    "**Below are examples of the function being used on two additional job descriptions:** (in both cases, the sentence and token classifiers are both used)"
   ]
  },
  {
   "cell_type": "code",
   "execution_count": 5,
   "id": "80dbd123",
   "metadata": {},
   "outputs": [
    {
     "name": "stderr",
     "output_type": "stream",
     "text": [
      "Some weights of the model checkpoint at has-abi/distilBERT-finetuned-resumes-sections were not used when initializing DistilBertModel: ['pre_classifier.bias', 'classifier.weight', 'classifier.bias', 'pre_classifier.weight']\n",
      "- This IS expected if you are initializing DistilBertModel from the checkpoint of a model trained on another task or with another architecture (e.g. initializing a BertForSequenceClassification model from a BertForPreTraining model).\n",
      "- This IS NOT expected if you are initializing DistilBertModel from the checkpoint of a model that you expect to be exactly identical (initializing a BertForSequenceClassification model from a BertForSequenceClassification model).\n"
     ]
    },
    {
     "name": "stdout",
     "output_type": "stream",
     "text": [
      "Embedded in a worldwide network \u001b[35;5;9mMercedes\u001b[0m - \u001b[35;5;9mBenz\u001b[0m \u001b[33;5;9mResearch\u001b[0m \u001b[33;5;9m&\u001b[0m \u001b[33;5;9mDevelopment\u001b[0m North America continuously strives to remain at the forefront of successful \u001b[35;5;9mautomotive\u001b[0m \u001b[33;5;9mresearch\u001b[0m and \u001b[33;5;9mdevelopment\u001b[0m .  MBRDNA is headquartered in Silicon Valley , California , with key areas of \u001b[35;5;9mAutonomous\u001b[0m \u001b[33;5;9mDriving\u001b[0m , \u001b[35;5;9mAdvanced\u001b[0m \u001b[33;5;9mInteraction\u001b[0m \u001b[33;5;9mDesign\u001b[0m , \u001b[35;5;9mDigital\u001b[0m \u001b[33;5;9mUser\u001b[0m \u001b[33;5;9mExperience\u001b[0m , \u001b[35;5;9mMachine\u001b[0m \u001b[33;5;9mLearning\u001b[0m , \u001b[35;5;9mCustomer\u001b[0m \u001b[33;5;9mResearch\u001b[0m , and \u001b[35;5;9mOpen\u001b[0m \u001b[33;5;9mInnovation\u001b[0m .  In Farmington Hills , Michigan , the focus is on \u001b[35;5;9mPowertrain\u001b[0m and \u001b[35;5;9meDrive\u001b[0m \u001b[33;5;9mtechnology\u001b[0m as well as in \u001b[35;5;9mLong\u001b[0m \u001b[33;5;9mBeach\u001b[0m , where the teams test durability of the latest \u001b[35;5;9mdriver\u001b[0m \u001b[33;5;9massistant\u001b[0m and telematic \u001b[33;5;9msystems\u001b[0m .  The Digital Hub in Seattle focusses on developing a cloud architecture and building out the cloud platform for the next generation of connected car services .  The Testing and Regulatory Affairs Division in Ann Arbor and the Advanced Vehicle Design in Carlsbad complete the competence center.\n",
      "The MBRDNA \u001b[35;5;9mAutonomous\u001b[0m \u001b[33;5;9mDriving\u001b[0m Team is looking for a motivated and passionate engineer who is responsible for health of the \u001b[35;5;9mdata\u001b[0m \u001b[33;5;9mcollection\u001b[0m \u001b[33;5;9mfleet\u001b[0m .  Data is essential for the development of our first class \u001b[33;5;9mADAS\u001b[0m \u001b[33;5;9mSoftware\u001b[0m .  We use a big and scalable data collection fleet to collect data for customers all over the world.\n",
      "This position focuses on the market in North America. Your responsibility is to bring-up frontrunner vehicles (sensors and software) together with our global team and partners. It is in your responsibility to work on the rollout of this \u001b[35;5;9mHardware\u001b[0m \u001b[33;5;9m/\u001b[0m \u001b[35;5;9mSoftware\u001b[0m \u001b[33;5;9mpackage\u001b[0m to multiple vehicles and send them into the field . \n",
      "Once these vehicles are in the field and collecting data , you are the first contact person to debug failure and problems for vehicles in North America .  We setup tools and software to do first level analysis remotely , if applicable .  For second level analysis, you are going to travel to the vehicle and continue debugging or install a new part. The goal of this position is to reduce the downtime of the \u001b[35;5;9mdata\u001b[0m \u001b[33;5;9mcollection\u001b[0m vehicles to a minimum . \n",
      "Job Responsibilities:\n",
      "Integrate sensors and software packages into Data \u001b[33;5;9mCollection\u001b[0m Platform \n",
      "Bring-up and validation of front runner vehicle together with our global team and partners\n",
      "Scaling from one frontrunner vehicle to multiple vehicles (15+) and send them into the field\n",
      "Remote first level support and analysis together with data collection operator to solve problems \n",
      "Travel on-site for second level support in case of major issues that can’t be fixed remotely\n",
      "Smooth and fast exchange with engineers in other locations (China, Europe,..) to identify common problems and share solutions\n",
      "Minimum Qualifications:\n",
      "\u001b[35;5;9mDegree\u001b[0m in \u001b[35;5;9mComputer\u001b[0m \u001b[33;5;9mScience\u001b[0m , \u001b[35;5;9mElectric\u001b[0m or related fields \n",
      "5 years of experience \n",
      "Excellent skills in \u001b[35;5;9msoftware\u001b[0m \u001b[33;5;9mdevelopment\u001b[0m \u001b[33;5;9mand\u001b[0m \u001b[33;5;9mprogramming\u001b[0m ( \u001b[35;5;9mC\u001b[0m \u001b[33;5;9m+\u001b[0m \u001b[33;5;9m+\u001b[0m , \u001b[35;5;9mPython\u001b[0m , \u001b[35;5;9mbash\u001b[0m , … ) \n",
      "Experience with debugging and analysis tools like \u001b[35;5;9mCANoe\u001b[0m , \u001b[33;5;9mWireshark\u001b[0m or others \n",
      "Experience in the development or validation of \u001b[35;5;9membedded\u001b[0m \u001b[33;5;9msystems\u001b[0m in the \u001b[35;5;9mautomotive\u001b[0m \u001b[33;5;9mor\u001b[0m \u001b[33;5;9mconsumer\u001b[0m \u001b[33;5;9melectronics\u001b[0m industries \n",
      "Knowledge about sensors like Radar, Lidar, Camera und USS\n",
      "Experience with \u001b[35;5;9mE\u001b[0m \u001b[33;5;9m/\u001b[0m \u001b[33;5;9mE\u001b[0m \u001b[33;5;9mintegration\u001b[0m and \u001b[35;5;9msignal\u001b[0m \u001b[33;5;9mtracing\u001b[0m as well as \u001b[35;5;9mautomotive\u001b[0m \u001b[33;5;9mcommunication\u001b[0m \u001b[33;5;9mprotocols\u001b[0m ( \u001b[35;5;9mCAN\u001b[0m , \u001b[35;5;9mFlexRay\u001b[0m , \u001b[33;5;9mEthernet\u001b[0m , \u001b[35;5;9mMOST\u001b[0m , … ) \n",
      "Knowledge about \u001b[35;5;9mbuild\u001b[0m \u001b[33;5;9msystems\u001b[0m and \u001b[35;5;9mcompute\u001b[0m \u001b[33;5;9mplatforms\u001b[0m \n",
      "Ability to work in a dynamic environment with changing boundary conditions\n",
      "Good communication skills, ability to formulate thoughts and ideas precisely in verbal and written form\n",
      "Travel in North America is mandatory and frequency can be multiple times a month\n",
      "Ability to travel on short notice anywhere in North America\n",
      "Valid US driver’s license\n",
      "Preferred Qualifications:\n",
      "Knowledge about \u001b[35;5;9mvehicles\u001b[0m in general or any specific field like \u001b[35;5;9msensors\u001b[0m , \u001b[33;5;9mECUs\u001b[0m , etc . \n",
      "Excellent communication skills\n",
      "Curious, self-motivated, and excited about solving open-ended challenges at Mercedes-Benz\n",
      "The successful candidate’s starting pay will be determined based on a wide range of factors, including, but not limited to, job-related education, skills, and experience, geographic location, and market conditions. The current salary range for this position is as follows and may be modified in the future: $135,000 - $168,800.\n",
      "Why should you apply?\n",
      "Here at MBRDNA, you create digital ecosystems around cars, you design a language between humans and machines, you make a car even more intelligent - you make the new reality for cars. We have an open and flexible environment to allow you to push boundaries, join MBRDNA and design your future.\n",
      "Benefits for Full-Time* Employees Include:Medical, dental, and vision insurance for employees and their families401(k) with employer match\n",
      "Up to 18 company-paid holidaysPaid time off (unlimited for salaried employees), sick time, and parental leaveTuition assistance programWellness/Fitness reimbursement programsVehicle lease subsidy or company car (for eligible employees only)Internships excluded from Full-Time Employee benefits\n",
      "MBRDNA is an equal opportunity employer (EOE) and strongly supports diversity in the workforce. MBRDNA only accepts resumes from approved agencies who have a valid Agency Agreement on file. Please do not forward resumes to our applicant tracking system, MBRDNA employees, or send to any MBRDNA location. MBRDNA is not responsible for any fees or claims related to receipt of unsolicited resumes.\n",
      "Mercedes-Benz Research and Development North America, Inc.\n",
      "PRIVACY NOTICE FOR CALIFORNIA RESIDENTS\n",
      "https://mbrdna.com/california-employee-privacy-notice/\n"
     ]
    }
   ],
   "source": [
    "entities_w_sentence_classification = \\\n",
    "    get_if_qualified_indicators(sample_inputs[2], use_sentence_classifier = 1, print_descr_w_predictions = 1)"
   ]
  },
  {
   "cell_type": "code",
   "execution_count": 8,
   "id": "1e3e2832",
   "metadata": {},
   "outputs": [
    {
     "name": "stdout",
     "output_type": "stream",
     "text": [
      "We help the world run better\n",
      "Our company culture is focused on helping our employees enable innovation by building breakthroughs together. How? We focus every day on building the foundation for tomorrow and creating a workplace that embraces differences, values flexibility, and is aligned to our purpose-driven and future-focused work. We offer a highly collaborative, caring team environment with a strong focus on learning and development, recognition for your individual contributions, and a variety of benefit options for you to choose from.Apply now!\n",
      "SAP Business Network\n",
      "The global economy has been rapidly evolving from enterprise - centric to network - centric .  No enterprise does business alone today. Suppliers , service providers , contract manufacturers , logistics pros – companies today rely heavily on their connections to their extended ecosystem to operate effectively .  They need an intelligent and open network that delivers enhanced visibility , greater efficiency , and improved collaboration to achieve supply \u001b[33;5;9mchain\u001b[0m resilience and thrive in the face of disruption . \n",
      "SAP already \" owns \" the largest procurement network in the world ( \u001b[35;5;9mAriba\u001b[0m \u001b[33;5;9mNetwork\u001b[0m ) and SAP ’ s global operations and footprint in large enterprises allow us to leverage a network effect with our massive installed base .  We will win with our unified strategy , instead of siloed networks , a “ best - of - suite ” approach – a “ network - of - networks ” that includes partners and brings together existing best of breed solutions like \u001b[35;5;9mAsset\u001b[0m \u001b[33;5;9mIntelligence\u001b[0m \u001b[33;5;9mNetwork\u001b[0m , \u001b[35;5;9mLogistics\u001b[0m \u001b[33;5;9mBusiness\u001b[0m \u001b[33;5;9mNetwork\u001b[0m and \u001b[35;5;9mAriba\u001b[0m \u001b[33;5;9mNetworks\u001b[0m into a multi - enterprise \u001b[33;5;9munified\u001b[0m \u001b[33;5;9mbusiness\u001b[0m \u001b[33;5;9mnetwork\u001b[0m . \n",
      "SAP Business \u001b[33;5;9mNetwork\u001b[0m has been identified as one of the four strategic growth areas for SAP by the executive board .  Our vision is to elevate our intelligent enterprise to the “ Network \u001b[33;5;9mof\u001b[0m Intelligent \u001b[33;5;9mEnterprises\u001b[0m . ” We build on a strong and leading cloud portfolio , together with other innovations , all on top of the SAP Business Technology Platform .  In our diverse and globally dispersed team , we are looking for a visionary Head of Architecture , who will lead and drive the strategy and execution of a cohesive \u001b[33;5;9marchitecture\u001b[0m and best - in - class technology strategy across the SAP \u001b[35;5;9mBusiness\u001b[0m \u001b[33;5;9mNetwork\u001b[0m product portfolio .  Join us on our journey to shape the future of the SAP Business Network.\n",
      "KEY RESPONSIBILITIES\n",
      "As the Head of Architecture for SAP \u001b[33;5;9mBusiness\u001b[0m \u001b[33;5;9mNetwork\u001b[0m , you will be enabling the next phase of growth for \u001b[35;5;9mSBN\u001b[0m .  This person will guide the Engineering teams from an \u001b[35;5;9marchitecture\u001b[0m and \u001b[35;5;9mtechnical\u001b[0m \u001b[33;5;9mstrategy\u001b[0m perspective .  They will establish an \u001b[35;5;9mengineering\u001b[0m \u001b[33;5;9mtechnology\u001b[0m \u001b[33;5;9mvision\u001b[0m , strategies , and \u001b[35;5;9mgrowth\u001b[0m \u001b[33;5;9mplans\u001b[0m that align with company goals .  The Head of Architecture will lead technical initiatives to improve our platform , bring new product offerings to the platform , and strategically improve the existing offerings .  You are a key partner to the ISBN executive team to drive organizational alignment , empowering cross - functional teams to build a platform , ecosystem , and culture that promotes our network business ambitions . \n",
      "Key responsibilities for the role include:\n",
      "People Leadership\n",
      "Lead, manage and hire a team, providing mentorship, guidance, and support to help them achieve their professional goals.\n",
      "The ideal candidate will be able to attract high-quality talent. They will ensure a high-quality interview process, raising the bar with everyone that joins the team. They will also retain team members by establishing a practice of humility, ensuring that every employee is heard and seen.\n",
      "They will have a sharp vision of where the team is going and communicate that with the team.\n",
      "Managing performance and succession planning will be critical to success in this role.\n",
      "Technical Leadership\n",
      "Focus on balancing the speed of \u001b[35;5;9mcode\u001b[0m \u001b[33;5;9mdelivery\u001b[0m with \u001b[35;5;9mquality\u001b[0m and reuse along the entire \u001b[33;5;9mpipeline\u001b[0m of the \u001b[35;5;9mSDLC\u001b[0m .  Advancing the organization with \u001b[35;5;9mAI\u001b[0m \u001b[33;5;9mtools\u001b[0m , \u001b[35;5;9mmodern\u001b[0m \u001b[35;5;9mContinuous\u001b[0m \u001b[33;5;9mIntegration\u001b[0m \u001b[33;5;9mand\u001b[0m \u001b[33;5;9mDelivery\u001b[0m \u001b[33;5;9mtools\u001b[0m \u001b[33;5;9mand\u001b[0m \u001b[33;5;9mprocesses\u001b[0m , and helping Engineers get work done more quickly and efficiently by establishing and guiding via well adopted \u001b[35;5;9mSoftware\u001b[0m \u001b[33;5;9mand\u001b[0m \u001b[33;5;9mDevOps\u001b[0m \u001b[33;5;9mmaturity\u001b[0m \u001b[33;5;9mmodels\u001b[0m . \n",
      "Creating a team that delivers consistent , high - quality , and high - performance release \u001b[33;5;9mcycles\u001b[0m on cost and time . \n",
      "Defines Operational Excellence for development and production through the organization, but not at the cost of affecting the engineering culture negatively.\n",
      "Responsible for improving technical decisions by engaging with the senior most engineering leaders , and flexible enough to allow the engineers to guide the path the teams are taking . \n",
      "Strategic Leadership\n",
      "They will know how to operate and partner with their existing executive peers, executing the company plans and goals.\n",
      "They have a high Emotional Intelligence and work with all types of people in all situations in a successful, supportive fashion. Always driving towards decisions, whether through consensus or by making decisions the team may or may not agree with and forging a path forward by onboarding the team with the direction.\n",
      "Develop and implement \u001b[35;5;9mtechnology\u001b[0m \u001b[33;5;9mand\u001b[0m \u001b[33;5;9marchitecture\u001b[0m \u001b[33;5;9mstrategies\u001b[0m and \u001b[33;5;9mgovernance\u001b[0m that align with business objectives and drive growth and engagement . \n",
      "Conduct \u001b[35;5;9mdeveloper\u001b[0m \u001b[33;5;9mresearch\u001b[0m to gain insights into developer needs , behaviors , and pain points , and use this information to inform technology decisions and improve developer experiences . \n",
      "Create and maintain \u001b[35;5;9marchitecture\u001b[0m \u001b[33;5;9msystems\u001b[0m and \u001b[33;5;9mguidelines\u001b[0m that ensure consistency and scalability across all products . \n",
      "Collaborate with cross - functional teams , including engineering managers , product managers , \u001b[35;5;9muser\u001b[0m \u001b[33;5;9mexperience\u001b[0m , engineers , \u001b[35;5;9mscrum\u001b[0m \u001b[33;5;9mmasters\u001b[0m , data engineers , and data scientists , to identify opportunities for innovation and improvement in our products . \n",
      "Oversee the \u001b[35;5;9mend\u001b[0m \u001b[35;5;9m-\u001b[0m \u001b[35;5;9mto\u001b[0m \u001b[35;5;9m-\u001b[0m \u001b[35;5;9mend\u001b[0m \u001b[33;5;9msoftware\u001b[0m \u001b[33;5;9mdesign\u001b[0m \u001b[33;5;9mand\u001b[0m \u001b[33;5;9mgovernance\u001b[0m \u001b[33;5;9mprocess\u001b[0m , from concept to launch , and ensure that all designs are delivered on time and meet quality standards . \n",
      "Stay up to date with the latest trends and \u001b[33;5;9mbest\u001b[0m \u001b[33;5;9mpractices\u001b[0m in \u001b[35;5;9mlean\u001b[0m \u001b[33;5;9msoftware\u001b[0m \u001b[33;5;9mdevelopment\u001b[0m , \u001b[33;5;9mDevSecOps\u001b[0m , \u001b[35;5;9mmicroservices\u001b[0m and \u001b[35;5;9mmodular\u001b[0m \u001b[33;5;9mlarge\u001b[0m \u001b[33;5;9m-\u001b[0m \u001b[33;5;9msystem\u001b[0m \u001b[33;5;9mdesign\u001b[0m , \u001b[35;5;9mplatform\u001b[0m \u001b[33;5;9mand\u001b[0m \u001b[33;5;9minternal\u001b[0m \u001b[33;5;9mdevelopment\u001b[0m \u001b[35;5;9mplatform\u001b[0m \u001b[33;5;9mengineering\u001b[0m , \u001b[35;5;9mintegration\u001b[0m , and \u001b[33;5;9manalytics\u001b[0m to ensure that our unit is constantly improving and evolving their skills and knowledge in these areas . \n",
      "Leadership Competencies and Values for Success in this Role\n",
      "Drive Performance, Results-Driven & Keep the Promise\n",
      "Self-starter - ability to execute and implement change.\n",
      "Leadership – easily move others to action by planning, motivating, organizing, and controlling work being done.\n",
      "Executive Partner – participate in \u001b[35;5;9mstrategic\u001b[0m \u001b[33;5;9mplanning\u001b[0m by partnering with the leadership team to ensure Engineering initiatives are aligned with business objectives . \n",
      "Sweat the details – willingness to dive deep and make sure things are done correctly while catering to different audiences. You care about the content you put in front of all the different constituents involved with SAP and want it to represent the company in the best, most professional light\n",
      "Pride – internal drive to always put their best foot forward and be proud of anything they put out.\n",
      "Customer Focus and Stay Curious\n",
      "Passion - for SBN mission.\n",
      "Curiosity – always reading about best practices in technology and product led organization, developing a network of peers that help you understand innovative systems and programs that keep SBN ahead of our competition. Become the go-to-resource for all things Engineering related in the company and be steps ahead of your colleagues.\n",
      "Build Bridges, not Silos, Embrace Differences, Teamwork, and Intercultural Sensitivity\n",
      "Culture Warrior – helps the company mobilize their values to build a positive company culture that will allow employees to thrive and business to scale.\n",
      "Player – Coach – no-ego leader that believes in the “owner-operator” model; will to data-to-day tactics to pitch in.\n",
      "Business Acumen, Communication, and Partner Engagement\n",
      "Executive presence – ability to represent \u001b[35;5;9mSBN\u001b[0m and \u001b[35;5;9mSAP\u001b[0m externally to potential recruits and stakeholders , internally to our employees and leadership teams and to board members to help impact strategy . \n",
      "Interpersonal / Communication Skills – an innate ability to channel different points of view; able to establish and maintain excellent relationships with credibility quickly. Create a team atmosphere with internal staff while achieving key objectives. Excellent consulting skills as well as technical writing and public speaking.\n",
      "Innovative Thinking and Challenge Complexity\n",
      "Professional – provides a good balance of risk taking and judgement; is aggressive, confident, and able to operate independently of a large staff.\n",
      "PROFESSIONAL EXPERIENCE/QUALIFICATIONS\n",
      "The ideal candidate for this position should have a strong background in \u001b[35;5;9mengineering\u001b[0m \u001b[33;5;9mdesign\u001b[0m \u001b[33;5;9mand\u001b[0m \u001b[33;5;9mgovernance\u001b[0m , \u001b[35;5;9mDevOps\u001b[0m \u001b[33;5;9mmaturity\u001b[0m \u001b[33;5;9mmodel\u001b[0m \u001b[33;5;9mand\u001b[0m \u001b[33;5;9mculture\u001b[0m , \u001b[35;5;9mtechnology\u001b[0m \u001b[33;5;9mstrategy\u001b[0m , and \u001b[35;5;9mteam\u001b[0m \u001b[33;5;9mleadership\u001b[0m .  They should be able to demonstrate a record of accomplishment of success in designing and launching multiple products that have delivered exceptional \u001b[35;5;9msoftware\u001b[0m \u001b[33;5;9mdelivery\u001b[0m performance and achieved business goals . \n",
      "Experience Qualifications:\n",
      "\u001b[35;5;9mMaster\u001b[0m \u001b[35;5;9m'\u001b[0m \u001b[35;5;9ms\u001b[0m \u001b[33;5;9mdegree\u001b[0m in \u001b[35;5;9mcomputer\u001b[0m \u001b[33;5;9mscience\u001b[0m or a related field . \n",
      "15 + years of experience in \u001b[35;5;9mSoftware\u001b[0m \u001b[33;5;9mEngineering\u001b[0m , with recent focus on \u001b[35;5;9menterprise\u001b[0m \u001b[33;5;9mSaaS\u001b[0m \u001b[33;5;9mdevelopment\u001b[0m . \n",
      "5 + years of experience leading and managing engineering teams and executives , with a proven record of accomplishment of developing and mentoring engineering managers and staff level engineers . \n",
      "Demonstratable experience in the above People, Technology, and Strategic Leadership responsibilities.\n",
      "Must have an \u001b[35;5;9mend\u001b[0m \u001b[33;5;9m-\u001b[0m \u001b[33;5;9mto\u001b[0m \u001b[33;5;9m-\u001b[0m \u001b[33;5;9mend\u001b[0m understanding of the \u001b[33;5;9mbusiness\u001b[0m and use that knowledge to make trade - off decisions .  Experience with \u001b[35;5;9menterprise\u001b[0m \u001b[33;5;9marchitecture\u001b[0m , \u001b[35;5;9mdomain\u001b[0m \u001b[33;5;9mdriven\u001b[0m \u001b[33;5;9mdesign\u001b[0m , and \n",
      "Experience in \u001b[35;5;9mcorporate\u001b[0m \u001b[33;5;9mstrategy\u001b[0m \u001b[33;5;9mand\u001b[0m \u001b[33;5;9mdevelopment\u001b[0m activities including \u001b[35;5;9mstrategic\u001b[0m \u001b[33;5;9mM\u001b[0m \u001b[33;5;9m&\u001b[0m \u001b[33;5;9mA\u001b[0m , \u001b[35;5;9mtechnology\u001b[0m \u001b[33;5;9mstrategy\u001b[0m and \u001b[35;5;9mdue\u001b[0m \u001b[33;5;9mdiligence\u001b[0m , \u001b[35;5;9mchange\u001b[0m \u001b[33;5;9mmanagement\u001b[0m and \u001b[35;5;9mtransformation\u001b[0m \u001b[33;5;9minitiatives\u001b[0m , and \u001b[35;5;9morganizational\u001b[0m \u001b[33;5;9mdevelopment\u001b[0m . \n",
      "Experience developing and delivering world - class products that are technically relevant , highly stable , highly available , and mission - critical in an enterprise - \u001b[33;5;9mgrade\u001b[0m \u001b[33;5;9mmulti\u001b[0m \u001b[33;5;9m-\u001b[0m \u001b[33;5;9mproduct\u001b[0m \u001b[33;5;9menvironment\u001b[0m \u001b[33;5;9m.\u001b[0m \n",
      "Demonstratable experience in \u001b[35;5;9mSaaS\u001b[0m , \u001b[35;5;9mB2B\u001b[0m , or other technology - driven industries . \n",
      "Strong portfolio that demonstrates a range of \u001b[35;5;9msoftware\u001b[0m \u001b[33;5;9mdesign\u001b[0m skills , including \u001b[35;5;9mDeveloper\u001b[0m \u001b[33;5;9mExperience\u001b[0m , \u001b[35;5;9mSoftware\u001b[0m \u001b[33;5;9mDelivery\u001b[0m \u001b[35;5;9mPerformance\u001b[0m \u001b[33;5;9mmaturity\u001b[0m \u001b[33;5;9mmodels\u001b[0m , \u001b[35;5;9mtop\u001b[0m \u001b[35;5;9m-\u001b[0m \u001b[33;5;9mdown\u001b[0m and \u001b[35;5;9mbottom\u001b[0m \u001b[33;5;9m-\u001b[0m \u001b[35;5;9mup\u001b[0m \u001b[33;5;9mengineering\u001b[0m \u001b[35;5;9morganizational\u001b[0m \u001b[33;5;9mdesign\u001b[0m \n",
      "Demonstrated experience building data intensive products , \u001b[35;5;9menterprise\u001b[0m \u001b[33;5;9mdata\u001b[0m \u001b[33;5;9mstrategy\u001b[0m , and \u001b[35;5;9manalytics\u001b[0m using \u001b[35;5;9mmachine\u001b[0m \u001b[33;5;9mlearning\u001b[0m in an \u001b[35;5;9menterprise\u001b[0m context . \n",
      "Recent experience taking multiple products from \u001b[35;5;9mZero\u001b[0m to \u001b[33;5;9mOne\u001b[0m and driving technology modernization \u001b[33;5;9mprojects\u001b[0m . \n",
      "Can demonstrate hiring , building , improving , and running teams that are currently implementing latest \u001b[35;5;9msoftware\u001b[0m \u001b[33;5;9marchitecture\u001b[0m \u001b[33;5;9mpatterns\u001b[0m , \u001b[33;5;9mtools\u001b[0m , and \u001b[33;5;9mtechnologies\u001b[0m , and a commitment to \u001b[35;5;9mcontinuous\u001b[0m \u001b[33;5;9mlearning\u001b[0m and improvement . \n",
      "We build breakthroughs together\n",
      "SAP innovations help more than 400 , 000 customers worldwide work together more efficiently and use business insight more effectively .  Originally known for leadership in \u001b[35;5;9menterprise\u001b[0m \u001b[33;5;9mresource\u001b[0m \u001b[33;5;9mplanning\u001b[0m ( \u001b[33;5;9mERP\u001b[0m \u001b[33;5;9m)\u001b[0m \n"
     ]
    }
   ],
   "source": [
    "entities_w_sentence_classification = \\\n",
    "    get_if_qualified_indicators(sample_inputs[0], use_sentence_classifier = 1, print_descr_w_predictions = 1)"
   ]
  },
  {
   "cell_type": "markdown",
   "id": "88e7e578",
   "metadata": {},
   "source": [
    "## Next function: \n",
    "\n",
    "In progress: a tool that takes entities drawn from numerous job descriptions, and reduces the entity space in a systematic way, so that analytics can be done to draw meaningful conclusions."
   ]
  }
 ],
 "metadata": {
  "kernelspec": {
   "display_name": "Python [conda env:hugging_face_practice]",
   "language": "python",
   "name": "conda-env-hugging_face_practice-py"
  },
  "language_info": {
   "codemirror_mode": {
    "name": "ipython",
    "version": 3
   },
   "file_extension": ".py",
   "mimetype": "text/x-python",
   "name": "python",
   "nbconvert_exporter": "python",
   "pygments_lexer": "ipython3",
   "version": "3.9.16"
  }
 },
 "nbformat": 4,
 "nbformat_minor": 5
}
