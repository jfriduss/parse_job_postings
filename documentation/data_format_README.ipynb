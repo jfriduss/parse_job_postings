{
 "cells": [
  {
   "cell_type": "markdown",
   "id": "f06242ae",
   "metadata": {},
   "source": [
    "# Data formatting examples:\n",
    "\n",
    "This notebook outlines the required data format for every component within the project."
   ]
  },
  {
   "cell_type": "code",
   "execution_count": 1,
   "id": "f3a3cbc4",
   "metadata": {},
   "outputs": [],
   "source": [
    "import os \n",
    "import json"
   ]
  },
  {
   "cell_type": "markdown",
   "id": "e0357888",
   "metadata": {},
   "source": [
    "## Format of pipeline inputs:\n",
    "\n",
    "example file: [sample pipeline inputs](../data/sample_input_to_pipeline.json)"
   ]
  },
  {
   "cell_type": "code",
   "execution_count": 10,
   "id": "993c5a51",
   "metadata": {},
   "outputs": [],
   "source": [
    "path_to_pipeline_inputs = os.environ.get('PATH2SAMPLE_PIPELINE_INPUTS')\n",
    "\n",
    "\n",
    "with open(path_to_pipeline_inputs, 'r') as file:\n",
    "    pipeline_inputs = json.load(file)"
   ]
  },
  {
   "cell_type": "code",
   "execution_count": 13,
   "id": "67485f26",
   "metadata": {
    "scrolled": true
   },
   "outputs": [
    {
     "name": "stdout",
     "output_type": "stream",
     "text": [
      "If you would like to use the pipeline, create a list like the one below:\n",
      "<class 'list'>\n",
      "\n",
      "Each element in the list should be a string that contains a scraped job description:\n",
      "<class 'str'>\n",
      "\n",
      "Here is an example of the first element of the sample pipeline inputs:\n",
      "\n",
      "['We help the world run better\\nOur company culture is focused on helping our employees enable innovation by building breakthroughs together. How? We focus every day on building the foundation for tomorrow and creating a workplace that embraces differences, values flexibility, and is aligned to our purpose-driven and future-focused work. We offer a highly collaborative, caring team environment with a strong focus on learning and development, recognition for your individual contributions, and a variety of benefit options for you to choose from.Apply now!\\nSAP Business Network\\nThe global economy has been rapidly evolving from enterprise-centric to network-centric. No enterprise does business alone today. Suppliers, service providers, contract manufacturers, logistics pros – companies today rely heavily on their connections to their extended ecosystem to operate effectively. They need an intelligent and open network that delivers enhanced visibility, greater efficiency, and improved collaboration to achieve supply chain resilience and thrive in the face of disruption.\\nSAP already \"owns\" the largest procurement network in the world (Ariba Network) and SAP’s global operations and footprint in large enterprises allow us to leverage a network effect with our massive installed base. We will win with our unified strategy, instead of siloed networks, a “best-of-suite” approach – a “network-of-networks” that includes partners and brings together existing best of breed solutions like Asset Intelligence Network, Logistics Business Network and Ariba Networks into a multi-enterprise unified business network.\\nSAP Business Network has been identified as one of the four strategic growth areas for SAP by the executive board. Our vision is to elevate our intelligent enterprise to the “Network of Intelligent Enterprises.” We build on a strong and leading cloud portfolio, together with other innovations, all on top of the SAP Business Technology Platform. In our diverse and globally dispersed team, we are looking for a visionary Head of Architecture, who will lead and drive the strategy and execution of a cohesive architecture and best-in-class technology strategy across the SAP Business Network product portfolio. Join us on our journey to shape the future of the SAP Business Network.\\nKEY RESPONSIBILITIES\\nAs the Head of Architecture for SAP Business Network, you will be enabling the next phase of growth for SBN. This person will guide the Engineering teams from an architecture and technical strategy perspective. They will establish an engineering technology vision, strategies, and growth plans that align with company goals. The Head of Architecture will lead technical initiatives to improve our platform, bring new product offerings to the platform, and strategically improve the existing offerings. You are a key partner to the ISBN executive team to drive organizational alignment, empowering cross-functional teams to build a platform, ecosystem, and culture that promotes our network business ambitions.\\nKey responsibilities for the role include:\\nPeople Leadership\\nLead, manage and hire a team, providing mentorship, guidance, and support to help them achieve their professional goals.\\nThe ideal candidate will be able to attract high-quality talent. They will ensure a high-quality interview process, raising the bar with everyone that joins the team. They will also retain team members by establishing a practice of humility, ensuring that every employee is heard and seen.\\nThey will have a sharp vision of where the team is going and communicate that with the team.\\nManaging performance and succession planning will be critical to success in this role.\\nTechnical Leadership\\nFocus on balancing the speed of code delivery with quality and reuse along the entire pipeline of the SDLC. Advancing the organization with AI tools, modern Continuous Integration and Delivery tools and processes, and helping Engineers get work done more quickly and efficiently by establishing and guiding via well adopted Software and DevOps maturity models.\\nCreating a team that delivers consistent, high-quality, and high-performance release cycles on cost and time.\\nDefines Operational Excellence for development and production through the organization, but not at the cost of affecting the engineering culture negatively.\\nResponsible for improving technical decisions by engaging with the senior most engineering leaders, and flexible enough to allow the engineers to guide the path the teams are taking.\\nStrategic Leadership\\nThey will know how to operate and partner with their existing executive peers, executing the company plans and goals.\\nThey have a high Emotional Intelligence and work with all types of people in all situations in a successful, supportive fashion. Always driving towards decisions, whether through consensus or by making decisions the team may or may not agree with and forging a path forward by onboarding the team with the direction.\\nDevelop and implement technology and architecture strategies and governance that align with business objectives and drive growth and engagement.\\nConduct developer research to gain insights into developer needs, behaviors, and pain points, and use this information to inform technology decisions and improve developer experiences.\\nCreate and maintain architecture systems and guidelines that ensure consistency and scalability across all products.\\nCollaborate with cross-functional teams, including engineering managers, product managers, user experience, engineers, scrum masters, data engineers, and data scientists, to identify opportunities for innovation and improvement in our products.\\nOversee the end-to-end software design and governance process, from concept to launch, and ensure that all designs are delivered on time and meet quality standards.\\nStay up to date with the latest trends and best practices in lean software development, DevSecOps, microservices and modular large-system design, platform and internal development platform engineering, integration, and analytics to ensure that our unit is constantly improving and evolving their skills and knowledge in these areas.\\nLeadership Competencies and Values for Success in this Role\\nDrive Performance, Results-Driven & Keep the Promise\\nSelf-starter - ability to execute and implement change.\\nLeadership – easily move others to action by planning, motivating, organizing, and controlling work being done.\\nExecutive Partner – participate in strategic planning by partnering with the leadership team to ensure Engineering initiatives are aligned with business objectives.\\nSweat the details – willingness to dive deep and make sure things are done correctly while catering to different audiences. You care about the content you put in front of all the different constituents involved with SAP and want it to represent the company in the best, most professional light\\nPride – internal drive to always put their best foot forward and be proud of anything they put out.\\nCustomer Focus and Stay Curious\\nPassion - for SBN mission.\\nCuriosity – always reading about best practices in technology and product led organization, developing a network of peers that help you understand innovative systems and programs that keep SBN ahead of our competition. Become the go-to-resource for all things Engineering related in the company and be steps ahead of your colleagues.\\nBuild Bridges, not Silos, Embrace Differences, Teamwork, and Intercultural Sensitivity\\nCulture Warrior – helps the company mobilize their values to build a positive company culture that will allow employees to thrive and business to scale.\\nPlayer – Coach – no-ego leader that believes in the “owner-operator” model; will to data-to-day tactics to pitch in.\\nBusiness Acumen, Communication, and Partner Engagement\\nExecutive presence – ability to represent SBN and SAP externally to potential recruits and stakeholders, internally to our employees and leadership teams and to board members to help impact strategy.\\nInterpersonal / Communication Skills – an innate ability to channel different points of view; able to establish and maintain excellent relationships with credibility quickly. Create a team atmosphere with internal staff while achieving key objectives. Excellent consulting skills as well as technical writing and public speaking.\\nInnovative Thinking and Challenge Complexity\\nProfessional – provides a good balance of risk taking and judgement; is aggressive, confident, and able to operate independently of a large staff.\\nPROFESSIONAL EXPERIENCE/QUALIFICATIONS\\nThe ideal candidate for this position should have a strong background in engineering design and governance, DevOps maturity model and culture, technology strategy, and team leadership. They should be able to demonstrate a record of accomplishment of success in designing and launching multiple products that have delivered exceptional software delivery performance and achieved business goals.\\nExperience Qualifications:\\nMaster\\'s degree in computer science or a related field.\\n15+ years of experience in Software Engineering, with recent focus on enterprise SaaS development.\\n5+ years of experience leading and managing engineering teams and executives, with a proven record of accomplishment of developing and mentoring engineering managers and staff level engineers.\\nDemonstratable experience in the above People, Technology, and Strategic Leadership responsibilities.\\nMust have an end-to-end understanding of the business and use that knowledge to make trade-off decisions. Experience with enterprise architecture, domain driven design, and\\nExperience in corporate strategy and development activities including strategic M&A, technology strategy and due diligence, change management and transformation initiatives, and organizational development.\\nExperience developing and delivering world-class products that are technically relevant, highly stable, highly available, and mission-critical in an enterprise-grade multi-product environment.\\nDemonstratable experience in SaaS, B2B, or other technology-driven industries.\\nStrong portfolio that demonstrates a range of software design skills, including Developer Experience, Software Delivery Performance maturity models, top-down and bottom-up engineering organizational design\\nDemonstrated experience building data intensive products, enterprise data strategy, and analytics using machine learning in an enterprise context.\\nRecent experience taking multiple products from Zero to One and driving technology modernization projects.\\nCan demonstrate hiring, building, improving, and running teams that are currently implementing latest software architecture patterns, tools, and technologies, and a commitment to continuous learning and improvement.\\nWe build breakthroughs together\\nSAP innovations help more than 400,000 customers worldwide work together more efficiently and use business insight more effectively. Originally known for leadership in enterprise resource planning (ERP) ', \"summary\\n$53 - $63 per hour\\ncontract\\nbachelor degree\\ncategory\\ncomputer and mathematical occupations\\nreference\\n1016828\\njob summary:\\nDescription:\\n\\nMinimum Qualifications\\n\\nMaster's degree in statistics, economics, operations research, engineering, or related field\\nMarketing mix modeling industry experience\\n8+ years of industry experience in data science, measurement, marketing strategy & analytics\\ncommunication skills to 'tell a story' that provides insight into the business\\nProficient coding skills (SQL/Python/R) and database knowledge\\nExtensive experience with predictive modeling algorithms\\nproject management skills, including managing technical resources and multiple priorities & milestones.\\nYou have a passion for working in a fast-paced agile environment.\\nA collaborative mindset and sense of curiosity\\nPreferred Qualifications\\n\\nPhD degree in Statistics, Economics, Operations Research, or related field\\nExperienced in building market mix and multi-touch attribution models\\nExperience with advertising, measurement, and/or digital marketing analytics\\nExperience with advertising technology platforms Ad servers, DSPs, DMPs, etc.\\nAdvanced programming skills with experience of creating Python modules\\nExperience with A/B and Multivariate test design and implementation\\nlocation: San Bruno, California\\njob type: Contract\\nsalary: $53 - 63 per hour\\nwork hours: 8am to 5pm\\neducation: Bachelors\\n\\nresponsibilities:\\nPerform hands-on modeling and complex analyses using Python, SQL and/or R\\nBuild and enhance marketing mix models to connect the impact of marketing tactics and business short-term and long-term outcomes\\n\\nqualifications:\\nExperience level: Experienced\\nMinimum 8 years of experience\\n\\nEducation: Bachelors\\n\\nskills:\\nModeling\\nPython\\nData Science\\n\\nEqual Opportunity Employer: Race, Color, Religion, Sex, Sexual Orientation, Gender Identity, National Origin, Age, Genetic Information, Disability, Protected Veteran Status, or any other legally protected group status.\\n\\nAt Randstad, we welcome people of all abilities and want to ensure that our hiring and interview process meets the needs of all applicants. If you require a reasonable accommodation to make your application or interview experience a great one, please contact HRsupport@randstadusa.com.\\n\\nPay offered to a successful candidate will be based on several factors including the candidate's education, work experience, work location, specific job duties, certifications, etc. In addition, Randstad offers a comprehensive benefits package, including health, an incentive and recognition program, and 401K contribution (all benefits are based on eligibility).\\n\\n\\n\\nQualified applicants in San Francisco with criminal histories will be considered for employment in accordance with the San Francisco Fair Chance Ordinance.\\n\\nWe will consider for employment all qualified Applicants, including those with criminal histories, in a manner consistent with the requirements of applicable state and local laws, including the City of Los Angeles' Fair Chance Initiative for Hiring Ordinance.\\n\\n\\nFor certain assignments, Covid-19 vaccination and/or testing may be required by Randstad's client or applicable federal mandate, subject to approved medical or religious accommodations. Carefully review the job posting for details on vaccine/testing requirements or ask your Randstad representative for more information.\", 'Embedded in a worldwide network Mercedes-Benz Research & Development North America continuously strives to remain at the forefront of successful automotive research and development. MBRDNA is headquartered in Silicon Valley, California, with key areas of Autonomous Driving, Advanced Interaction Design, Digital User Experience, Machine Learning, Customer Research, and Open Innovation. In Farmington Hills, Michigan, the focus is on Powertrain and eDrive technology as well as in Long Beach, where the teams test durability of the latest driver assistant and telematic systems. The Digital Hub in Seattle focusses on developing a cloud architecture and building out the cloud platform for the next generation of connected car services. The Testing and Regulatory Affairs Division in Ann Arbor and the Advanced Vehicle Design in Carlsbad complete the competence center.\\nThe MBRDNA Autonomous Driving Team is looking for a motivated and passionate engineer who is responsible for health of the data collection fleet. Data is essential for the development of our first class ADAS Software. We use a big and scalable data collection fleet to collect data for customers all over the world.\\nThis position focuses on the market in North America. Your responsibility is to bring-up frontrunner vehicles (sensors and software) together with our global team and partners. It is in your responsibility to work on the rollout of this Hardware/Software package to multiple vehicles and send them into the field.\\nOnce these vehicles are in the field and collecting data, you are the first contact person to debug failure and problems for vehicles in North America. We setup tools and software to do first level analysis remotely, if applicable. For second level analysis, you are going to travel to the vehicle and continue debugging or install a new part. The goal of this position is to reduce the downtime of the data collection vehicles to a minimum.\\nJob Responsibilities:\\nIntegrate sensors and software packages into Data Collection Platform\\nBring-up and validation of front runner vehicle together with our global team and partners\\nScaling from one frontrunner vehicle to multiple vehicles (15+) and send them into the field\\nRemote first level support and analysis together with data collection operator to solve problems\\nTravel on-site for second level support in case of major issues that can’t be fixed remotely\\nSmooth and fast exchange with engineers in other locations (China, Europe,..) to identify common problems and share solutions\\nMinimum Qualifications:\\nDegree in Computer Science, Electric or related fields\\n5 years of experience\\nExcellent skills in software development and programming (C++, Python, bash,…)\\nExperience with debugging and analysis tools like CANoe, Wireshark or others\\nExperience in the development or validation of embedded systems in the automotive or consumer electronics industries\\nKnowledge about sensors like Radar, Lidar, Camera und USS\\nExperience with E/E integration and signal tracing as well as automotive communication protocols (CAN, FlexRay, Ethernet, MOST, …)\\nKnowledge about build systems and compute platforms\\nAbility to work in a dynamic environment with changing boundary conditions\\nGood communication skills, ability to formulate thoughts and ideas precisely in verbal and written form\\nTravel in North America is mandatory and frequency can be multiple times a month\\nAbility to travel on short notice anywhere in North America\\nValid US driver’s license\\nPreferred Qualifications:\\nKnowledge about vehicles in general or any specific field like sensors, ECUs, etc.\\nExcellent communication skills\\nCurious, self-motivated, and excited about solving open-ended challenges at Mercedes-Benz\\nThe successful candidate’s starting pay will be determined based on a wide range of factors, including, but not limited to, job-related education, skills, and experience, geographic location, and market conditions. The current salary range for this position is as follows and may be modified in the future: $135,000 - $168,800.\\nWhy should you apply?\\nHere at MBRDNA, you create digital ecosystems around cars, you design a language between humans and machines, you make a car even more intelligent - you make the new reality for cars. We have an open and flexible environment to allow you to push boundaries, join MBRDNA and design your future.\\nBenefits for Full-Time* Employees Include:Medical, dental, and vision insurance for employees and their families401(k) with employer match\\nUp to 18 company-paid holidaysPaid time off (unlimited for salaried employees), sick time, and parental leaveTuition assistance programWellness/Fitness reimbursement programsVehicle lease subsidy or company car (for eligible employees only)Internships excluded from Full-Time Employee benefits\\nMBRDNA is an equal opportunity employer (EOE) and strongly supports diversity in the workforce. MBRDNA only accepts resumes from approved agencies who have a valid Agency Agreement on file. Please do not forward resumes to our applicant tracking system, MBRDNA employees, or send to any MBRDNA location. MBRDNA is not responsible for any fees or claims related to receipt of unsolicited resumes.\\nMercedes-Benz Research and Development North America, Inc.\\nPRIVACY NOTICE FOR CALIFORNIA RESIDENTS\\nhttps://mbrdna.com/california-employee-privacy-notice/']\n"
     ]
    }
   ],
   "source": [
    "print(\"If you would like to use the pipeline, create a list like the one below:\")\n",
    "print(type(pipeline_inputs))\n",
    "\n",
    "print(\"\\nEach element in the list should be a string that contains a scraped job description:\")\n",
    "print(type(pipeline_inputs[0]))\n",
    "\n",
    "print(\"\\nHere is an example of the first element of the sample pipeline inputs:\\n\")\n",
    "print(pipeline_inputs)"
   ]
  },
  {
   "cell_type": "markdown",
   "id": "0af4e7c4",
   "metadata": {},
   "source": [
    "## Format of training data:\n",
    "\n",
    "example file: [sample training data](../data/sample_training_data.json)"
   ]
  },
  {
   "cell_type": "code",
   "execution_count": 11,
   "id": "07039531",
   "metadata": {},
   "outputs": [],
   "source": [
    "path_to_training_data = os.environ.get('PATH2SAMPLE_TRAINING_DATA')\n",
    "\n",
    "\n",
    "with open(path_to_training_data, 'r') as file:\n",
    "    training_data = json.load(file)"
   ]
  },
  {
   "cell_type": "code",
   "execution_count": 32,
   "id": "1fa906ef",
   "metadata": {
    "scrolled": true
   },
   "outputs": [
    {
     "name": "stdout",
     "output_type": "stream",
     "text": [
      "If you would like to train the models, create a list like the one below:\n",
      "<class 'list'>\n",
      "\n",
      "Each element in the list should be a dictionary:\n",
      "<class 'dict'>\n",
      "\n",
      "The dictionaries should have the following keys:\n",
      "dict_keys(['job_id', 'sentences', 'helpers', 'labels'])\n",
      "\n",
      "Here are examples of the values of each key, for the first dictionary in the list:\n",
      "\n",
      "job_id: 1\n",
      "\n",
      "sentences: ['Summary', 'Posted: Mar 3, 2020', 'Role Number:200156495', 'Discover Apple.', 'We’re looking for people like you.', 'Apple is a place where people from all backgrounds get together to do their life’s best work.', 'Come join us.', 'At Apple, great ideas have a way of becoming great products, services and customer experiences very quickly.', 'Bring your passion to your job and there’s no telling what you could accomplish.', 'Apple offers a collaborative work environment that fosters creativity and innovation.', 'Key Qualifications', 'Different together.', 'At Apple, we’re not all the same.', 'And that’s our greatest strength.', 'We are looking for talented engineers across teams at Apple such as:', 'Description', 'Software and Services Apple engineers have always focused on one person when they build software — the person who will use it.', 'Working with them, you’ll see why every Apple product and service feels intuitive and simple, and why every aspect of this group’s work is built around a respect for the customer’s needs.', 'Machine Learning and AI The people working here in machine learning and AI are building amazing experiences into every Apple product, allowing millions to do what they never imagined.', 'Because Apple fully integrates hardware and software across every device, these researchers and engineers collaborate more effectively to improve the user experience while protecting user data.', 'Come make an impact with the products you create and the research you publish.', 'Hardware Our engineers have created some tough acts to follow, and they continue to lead us to innovative breakthroughs.', 'Because they’re driven not by what would be easy, but by what would be amazing.', 'Design Apple products work beautifully because our designers maintain an intense focus on simplicity and usability.', 'They judge the success of their work not by everything they put into it, but by everything the user gets out of it.', 'Education & Experience', 'BS/MS/PhD in Computer Science, Electrical Engineering, Computer Engineering, Data Science, Design, or related fields.', 'Additional Requirements', 'This posting is not for a specific job opening and by submitting your resume you are expressing interest in being contacted about this type of role at Apple in the future.']\n",
      "\n",
      "helpers: [1]\n",
      "[2]\n",
      "[3]\n",
      "[4] [5] [6] [7] [8] [9] [10]\n",
      "[11]\n",
      "[12] [13] [14]\n",
      "[15]\n",
      "[16]\n",
      "[17] [18] [19] [20] [21] [22] [23] [24] [25]\n",
      "[26]\n",
      "[27]\n",
      "[28]\n",
      "[29]\n",
      "\n",
      "labels: [[0, ['na', 'na', 'na', 'na', 'na']], [0, ['na', 'na', 'na', 'na', 'na', 'na', 'na', 'na', 'na']], [0, ['na', 'na', 'na', 'na', 'na', 'na', 'na', 'na', 'na', 'na']], [0, ['na', 'na', 'na', 'na', 'na', 'na']], [0, ['na', 'na', 'na', 'na', 'na', 'na', 'na', 'na', 'na', 'na', 'na']], [0, ['na', 'na', 'na', 'na', 'na', 'na', 'na', 'na', 'na', 'na', 'na', 'na', 'na', 'na', 'na', 'na', 'na', 'na', 'na', 'na', 'na', 'na']], [0, ['na', 'na', 'na', 'na', 'na', 'na']], [0, ['na', 'na', 'na', 'na', 'na', 'na', 'na', 'na', 'na', 'na', 'na', 'na', 'na', 'na', 'na', 'na', 'na', 'na', 'na', 'na', 'na', 'na']], [0, ['na', 'na', 'na', 'na', 'na', 'na', 'na', 'na', 'na', 'na', 'na', 'na', 'na', 'na', 'na', 'na', 'na', 'na', 'na']], [0, ['na', 'na', 'na', 'na', 'na', 'na', 'na', 'na', 'na', 'na', 'na', 'na', 'na', 'na', 'na']], [0, ['na', 'na', 'na', 'na', 'na']], [0, ['na', 'na', 'na', 'na', 'na']], [0, ['na', 'na', 'na', 'na', 'na', 'na', 'na', 'na', 'na', 'na', 'na', 'na', 'na']], [0, ['na', 'na', 'na', 'na', 'na', 'na', 'na', 'na', 'na', 'na']], [0, ['na', 'na', 'na', 'na', 'na', 'na', 'na', 'na', 'na', 'na', 'na', 'na', 'na', 'na', 'na']], [0, ['na', 'na', 'na', 'na']], [1, [-100, 2, 2, 2, 2, 2, 2, 2, 2, 2, 2, 2, 2, 2, 2, 0, 2, 2, 2, 2, 2, 2, 2, 2, -100]], [0, ['na', 'na', 'na', 'na', 'na', 'na', 'na', 'na', 'na', 'na', 'na', 'na', 'na', 'na', 'na', 'na', 'na', 'na', 'na', 'na', 'na', 'na', 'na', 'na', 'na', 'na', 'na', 'na', 'na', 'na', 'na', 'na', 'na', 'na', 'na', 'na', 'na', 'na', 'na', 'na', 'na', 'na', 'na', 'na', 'na']], [1, [-100, 2, 2, 2, 2, 2, 2, 2, 2, 2, 0, 1, 2, 0, 2, 2, 2, 2, 2, 2, 2, 2, 2, 2, 2, 2, 2, 2, 2, 2, 2, 2, -100]], [1, [2, 2, 2, 2, 2, 2, 0, 2, 0, 2, 2, 2, 2, 2, 2, 2, 2, 2, 2, 2, 2, 2, 2, 2, 2, 2, 2, 2, 2, 2, 2]], [0, ['na', 'na', 'na', 'na', 'na', 'na', 'na', 'na', 'na', 'na', 'na', 'na', 'na', 'na', 'na', 'na', 'na']], [0, ['na', 'na', 'na', 'na', 'na', 'na', 'na', 'na', 'na', 'na', 'na', 'na', 'na', 'na', 'na', 'na', 'na', 'na', 'na', 'na', 'na', 'na', 'na', 'na', 'na']], [0, ['na', 'na', 'na', 'na', 'na', 'na', 'na', 'na', 'na', 'na', 'na', 'na', 'na', 'na', 'na', 'na', 'na', 'na', 'na', 'na', 'na']], [0, ['na', 'na', 'na', 'na', 'na', 'na', 'na', 'na', 'na', 'na', 'na', 'na', 'na', 'na', 'na', 'na', 'na', 'na', 'na', 'na']], [0, ['na', 'na', 'na', 'na', 'na', 'na', 'na', 'na', 'na', 'na', 'na', 'na', 'na', 'na', 'na', 'na', 'na', 'na', 'na', 'na', 'na', 'na', 'na', 'na', 'na', 'na', 'na']], [0, ['na', 'na', 'na', 'na', 'na']], [1, [-100, 0, 2, 0, 2, 0, 2, 0, 1, 2, 0, 1, 2, 0, 1, 2, 0, 1, 2, 0, 2, 2, 2, 2, 2, -100]], [0, ['na', 'na', 'na', 'na', 'na', 'na']], [0, ['na', 'na', 'na', 'na', 'na', 'na', 'na', 'na', 'na', 'na', 'na', 'na', 'na', 'na', 'na', 'na', 'na', 'na', 'na', 'na', 'na', 'na', 'na', 'na', 'na', 'na', 'na', 'na', 'na', 'na', 'na', 'na', 'na', 'na', 'na']]]\n",
      "\n"
     ]
    }
   ],
   "source": [
    "print(\"If you would like to train the models, create a list like the one below:\")\n",
    "print(type(training_data))\n",
    "\n",
    "print(\"\\nEach element in the list should be a dictionary:\")\n",
    "job_descr_dict = training_data[0]\n",
    "print(type(job_descr_dict))\n",
    "\n",
    "print(\"\\nThe dictionaries should have the following keys:\")\n",
    "print(job_descr_dict.keys())\n",
    "\n",
    "print(\"\\nHere are examples of the values of each key, for the first dictionary in the list:\\n\")\n",
    "\n",
    "for key in training_data[0].keys():\n",
    "    print(key + ': ' + str(job_descr_dict[key]) + '\\n')"
   ]
  },
  {
   "cell_type": "markdown",
   "id": "c5a0fa8b",
   "metadata": {},
   "source": [
    "**Additional notes on the information in the 'job description dictionaries':**\n",
    "\n",
    "**job_id**: an integer corresponding to the primary key of the job posting in the table that the job postings are stored, on the MySQL Community Server\n",
    "\n",
    "**sentences and helpers**: To go from a string containing a job description, like one that you would input into the pipeline, to a list of strings, like the one found in training_data\\[i\\]\\['sentences'\\], and to create the string found in training_data\\[i\\]\\['helpers'\\], please see the function 'partion_string' in the file [text_partitioning](../career_fit_tools/misc_code/text_partitioning.py). For information on the choices made on how to partition a job description into 'sentences', please see the notebook [splitting the posting into sentences](../career_fit_tools/examples/splitting_the_postings_into_sentences.ipynb)\n",
    "\n",
    "**labels**: a list whose length is the same as training_data\\[i\\]\\['sentences'\\], but each of whose elements is itself a two element list. For more information, see the below cell:"
   ]
  },
  {
   "cell_type": "code",
   "execution_count": 33,
   "id": "3dc6fbb0",
   "metadata": {},
   "outputs": [
    {
     "name": "stdout",
     "output_type": "stream",
     "text": [
      "Then length of training_data[0]['labels'] is:\n",
      "29\n",
      "\n",
      "Notice that it is the same length as training_data[0]['sentences']:\n",
      "29\n",
      "\n",
      "Each element of training_data[0]['labels'] is a list itself:\n",
      "<class 'list'>\n",
      "\n",
      "All of these sublists have a length of 2:\n",
      "2\n",
      "\n",
      "The first element is either 0 or 1, if the sentence has been labelled, or 'na', if it hasn't been labelled:\n",
      "\tin this case, it is 0\n",
      "\n",
      "The first element is either 0 or 1, if the sentence has been labelled, or 'na', if it hasn't been labelled:\n",
      "\tin this case, it is 0\n"
     ]
    }
   ],
   "source": [
    "print(\"Then length of training_data[0]['labels'] is:\")\n",
    "print(len(job_descr_dict['labels']))\n",
    "\n",
    "print(\"\\nNotice that it is the same length as training_data[0]['sentences']:\")\n",
    "print(len(job_descr_dict['sentences']))\n",
    "\n",
    "print(\"\\nEach element of training_data[0]['labels'] is a list itself:\")\n",
    "print(type(job_descr_dict['labels'][0]))\n",
    "\n",
    "print(\"\\nAll of these sublists have a length of 2:\")\n",
    "print(len(job_descr_dict['labels'][0]))\n",
    "\n",
    "print(\"\\nThe first element is either 0 or 1, if the sentence has been labelled, or 'na', if it hasn't been labelled:\")\n",
    "print(\"\\tin this case, it is \" + str(job_descr_dict['labels'][0][0]))\n",
    "\n",
    "print(\"\\nThe first element is either 0 or 1, if the sentence has been labelled, or 'na', if it hasn't been labelled:\")\n",
    "print(\"\\tin this case, it is \" + str(job_descr_dict['labels'][0][0]))"
   ]
  },
  {
   "cell_type": "markdown",
   "id": "35e85393",
   "metadata": {},
   "source": [
    "To understand the format of the of the second element in training_data\\[0\\]\\['labels'\\]\\[i\\], the tokenizer used for token classification needs to be uploaded:"
   ]
  },
  {
   "cell_type": "code",
   "execution_count": 22,
   "id": "6dd6eec9",
   "metadata": {},
   "outputs": [],
   "source": [
    "from transformers import AutoTokenizer"
   ]
  },
  {
   "cell_type": "code",
   "execution_count": 23,
   "id": "84197388",
   "metadata": {},
   "outputs": [],
   "source": [
    "tokenizer_token_classification = AutoTokenizer.from_pretrained(\"jfriduss/bert_for_job_descr_parsing\")"
   ]
  },
  {
   "cell_type": "code",
   "execution_count": 46,
   "id": "379ffc2a",
   "metadata": {},
   "outputs": [
    {
     "name": "stdout",
     "output_type": "stream",
     "text": [
      "\n",
      "The second element is a list of length equal to the length of the input_ids of tokenizer_token_classification(s, padding = False, truncation = False, return_tensors='pt'). This is shown below:\n",
      "5\n",
      "5\n",
      "Note that the input_ids are set up so that, in theory, multiple sentences could be tokenized. So the zeroth element of the input_ids tensor has to be examined to see the above.\n",
      "\n",
      "The values of the elements in the second element are the labels of each token in the sentence, or 'na' if the sentences tokens have not been labelled, or the sentence does not have tokens to label.\n"
     ]
    }
   ],
   "source": [
    "print(\"\\nThe second element is a list of length equal to the length of the input_ids of tokenizer_token_classification(s, \"\n",
    "      \"padding = False, truncation = False, return_tensors='pt'). This is shown below:\")\n",
    "print(str(len(job_descr_dict['labels'][0][1])))\n",
    "\n",
    "tokenized_sentence_dict = tokenizer_token_classification(job_descr_dict['sentences'][0], padding = False, \n",
    "                                             truncation = False, return_tensors='pt')\n",
    "\n",
    "input_ids = tokenized_sentence_dict['input_ids']\n",
    "print(str(len(input_ids[0])))\n",
    "\n",
    "print(\"Note that the input_ids are set up so that, in theory, multiple sentences could be tokenized. So the zeroth element of\"\n",
    "     \" the input_ids tensor has to be examined to see the above.\")\n",
    "\n",
    "print(\"\\nThe values of the elements in the second element are the labels of each token in the sentence, or 'na' if \" \n",
    "      \"the sentences tokens have not been labelled, or the sentence does not have tokens to label.\")"
   ]
  }
 ],
 "metadata": {
  "kernelspec": {
   "display_name": "Python [conda env:hugging_face_practice]",
   "language": "python",
   "name": "conda-env-hugging_face_practice-py"
  },
  "language_info": {
   "codemirror_mode": {
    "name": "ipython",
    "version": 3
   },
   "file_extension": ".py",
   "mimetype": "text/x-python",
   "name": "python",
   "nbconvert_exporter": "python",
   "pygments_lexer": "ipython3",
   "version": "3.9.16"
  }
 },
 "nbformat": 4,
 "nbformat_minor": 5
}
